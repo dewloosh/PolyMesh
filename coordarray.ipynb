{
 "cells": [
  {
   "cell_type": "code",
   "execution_count": 252,
   "metadata": {},
   "outputs": [],
   "source": [
    "# -*- coding: utf-8 -*-\n",
    "import numpy as np\n",
    "from dewloosh.core.tools import issequence\n",
    "\n",
    "\n",
    "class CoordinateArrayBase(np.ndarray):\n",
    "    \n",
    "    def __new__(subtype, shape=None, dtype=float, buffer=None, \n",
    "                offset=0, strides=None, order=None, frame=None):\n",
    "        # Create the ndarray instance of our type, given the usual\n",
    "        # ndarray input arguments.  This will call the standard\n",
    "        # ndarray constructor, but return an object of our type.\n",
    "        # It also triggers a call to InfoArray.__array_finalize__\n",
    "        obj = super().__new__(subtype, shape, dtype,\n",
    "                              buffer, offset, strides, order)\n",
    "        # set the new 'info' attribute to the value passed\n",
    "        obj.frame = frame\n",
    "        obj.inds = None\n",
    "        obj._indsbuf = None\n",
    "        # Finally, we must return the newly created object:\n",
    "        return obj\n",
    "    \n",
    "    def __array_finalize__(self, obj):\n",
    "        # ``self`` is a new object resulting from\n",
    "        # ndarray.__new__(InfoArray, ...), therefore it only has\n",
    "        # attributes that the ndarray.__new__ constructor gave it -\n",
    "        # i.e. those of a standard ndarray.\n",
    "        #\n",
    "        # We could have got to the ndarray.__new__ call in 3 ways:\n",
    "        # From an explicit constructor - e.g. InfoArray():\n",
    "        #    obj is None\n",
    "        #    (we're in the middle of the InfoArray.__new__\n",
    "        #    constructor, and self.info will be set when we return to\n",
    "        #    InfoArray.__new__)\n",
    "        if obj is None: return\n",
    "        # From view casting - e.g arr.view(InfoArray):\n",
    "        #    obj is arr\n",
    "        #    (type(obj) can be InfoArray)\n",
    "        # From new-from-template - e.g infoarr[:3]\n",
    "        #    type(obj) is InfoArray\n",
    "        #\n",
    "        # Note that it is here, rather than in the __new__ method,\n",
    "        # that we set the default value for 'info', because this\n",
    "        # method sees all creation of default objects - with the\n",
    "        # InfoArray.__new__ constructor, but also with\n",
    "        # arr.view(InfoArray).\n",
    "        #\n",
    "        # Store indices if obj is a result of a slicing operation\n",
    "        # and clean up the reference\n",
    "        self.frame = getattr(obj, 'frame', None)\n",
    "        if isinstance(obj, CoordinateArrayBase):\n",
    "            self.inds = obj._indsbuf\n",
    "            obj._indsbuf = None\n",
    "        # We do not need to return anything\n",
    "    \n",
    "    def __getitem__(self, key):\n",
    "        key = (key,) if not isinstance(key, tuple) else key\n",
    "        if isinstance(key[0], slice):\n",
    "            slc = key[0]\n",
    "            start, stop, step = slc.start, slc.stop, slc.step\n",
    "            start = 0 if start == None else start\n",
    "            step = 1 if step == None else step\n",
    "            stop = len(self) if stop == None else stop\n",
    "            self._indsbuf = list(range(start, stop, step))\n",
    "        elif issequence(key[0]):\n",
    "            self._indsbuf = key[0]\n",
    "        elif isinstance(key[0], int):\n",
    "            self._indsbuf = [key[0]]\n",
    "        return super().__getitem__(key)\n",
    "    \n",
    "    @property    \n",
    "    def x(self):\n",
    "        return self[:, 0] if len(self.shape) > 1 else self[0]\n",
    "    \n",
    "    @property    \n",
    "    def y(self):\n",
    "        return self[:, 1] if len(self.shape) > 1 else self[1]\n",
    "    \n",
    "    @property    \n",
    "    def z(self):\n",
    "        return self[:, 2] if len(self.shape) > 1 else self[2]"
   ]
  },
  {
   "cell_type": "code",
   "execution_count": 253,
   "metadata": {},
   "outputs": [],
   "source": [
    "c = np.array([[0, 0, 0], [0, 0, 1.]])"
   ]
  },
  {
   "cell_type": "code",
   "execution_count": 254,
   "metadata": {},
   "outputs": [
    {
     "data": {
      "text/plain": [
       "CoordinateArrayBase([[0., 0., 0.],\n",
       "                     [0., 0., 1.]])"
      ]
     },
     "execution_count": 254,
     "metadata": {},
     "output_type": "execute_result"
    }
   ],
   "source": [
    "coords = c.view(CoordinateArrayBase)\n",
    "coords"
   ]
  },
  {
   "cell_type": "code",
   "execution_count": 255,
   "metadata": {},
   "outputs": [
    {
     "data": {
      "text/plain": [
       "True"
      ]
     },
     "execution_count": 255,
     "metadata": {},
     "output_type": "execute_result"
    }
   ],
   "source": [
    "coords.base is c"
   ]
  },
  {
   "cell_type": "code",
   "execution_count": 256,
   "metadata": {},
   "outputs": [],
   "source": [
    "coords[0,:].base.frame"
   ]
  },
  {
   "cell_type": "code",
   "execution_count": 257,
   "metadata": {},
   "outputs": [
    {
     "data": {
      "text/plain": [
       "1.0"
      ]
     },
     "execution_count": 257,
     "metadata": {},
     "output_type": "execute_result"
    }
   ],
   "source": [
    "coords[1, :].z"
   ]
  },
  {
   "cell_type": "code",
   "execution_count": 258,
   "metadata": {},
   "outputs": [],
   "source": [
    "coords[0, 0];"
   ]
  },
  {
   "cell_type": "code",
   "execution_count": 259,
   "metadata": {},
   "outputs": [],
   "source": [
    "coords[:, 0];"
   ]
  },
  {
   "cell_type": "code",
   "execution_count": 260,
   "metadata": {},
   "outputs": [],
   "source": [
    "coords[0, :];"
   ]
  },
  {
   "cell_type": "code",
   "execution_count": 261,
   "metadata": {},
   "outputs": [],
   "source": [
    "coords[:, :];"
   ]
  },
  {
   "cell_type": "code",
   "execution_count": 262,
   "metadata": {},
   "outputs": [],
   "source": [
    "coords[[0, 1], :2];"
   ]
  },
  {
   "cell_type": "code",
   "execution_count": 263,
   "metadata": {},
   "outputs": [
    {
     "data": {
      "text/plain": [
       "[0, 1]"
      ]
     },
     "execution_count": 263,
     "metadata": {},
     "output_type": "execute_result"
    }
   ],
   "source": [
    "coords[:2, :].inds"
   ]
  },
  {
   "cell_type": "code",
   "execution_count": 264,
   "metadata": {},
   "outputs": [],
   "source": [
    "from numpy.lib.mixins import NDArrayOperatorsMixin\n",
    "\n",
    "class CoordinateArray(NDArrayOperatorsMixin):\n",
    "    \n",
    "    def __init__(self, *args, frame=None, **kwargs):\n",
    "        buf = np.array(*args, **kwargs)\n",
    "        self._array = CoordinateArrayBase(shape=buf.shape, buffer=buf, \n",
    "                                          dtype=buf.dtype, frame=frame)\n",
    "        \n",
    "    def __repr__(self):\n",
    "        return f\"{self.__class__.__name__}({self._array}, frame={self._array.frame})\"\n",
    "    \n",
    "    def __array__(self, dtype=None):\n",
    "        return self._array\n",
    "    \n",
    "    def __getitem__(self, key):\n",
    "        return self._array.__getitem__(key)\n",
    "    \n",
    "    @property    \n",
    "    def x(self):\n",
    "        return self._array.x\n",
    "    \n",
    "    @property    \n",
    "    def y(self):\n",
    "        return self._array.y\n",
    "    \n",
    "    @property    \n",
    "    def z(self):\n",
    "        return self._array.z"
   ]
  },
  {
   "cell_type": "code",
   "execution_count": 265,
   "metadata": {},
   "outputs": [],
   "source": [
    "COORD = CoordinateArray([[0, 0, 0], [0, 0, 1.]])"
   ]
  },
  {
   "cell_type": "code",
   "execution_count": 266,
   "metadata": {},
   "outputs": [
    {
     "data": {
      "text/plain": [
       "[0, 1]"
      ]
     },
     "execution_count": 266,
     "metadata": {},
     "output_type": "execute_result"
    }
   ],
   "source": [
    "COORD[:,:].inds"
   ]
  }
 ],
 "metadata": {
  "interpreter": {
   "hash": "8d15e2cb4dca8274af5fb092bbadab583a099b53b169f927cb892edc8b735b32"
  },
  "kernelspec": {
   "display_name": "Python 3.8.10 64-bit ('.dewloosh': venv)",
   "language": "python",
   "name": "python3"
  },
  "language_info": {
   "codemirror_mode": {
    "name": "ipython",
    "version": 3
   },
   "file_extension": ".py",
   "mimetype": "text/x-python",
   "name": "python",
   "nbconvert_exporter": "python",
   "pygments_lexer": "ipython3",
   "version": "3.8.10"
  },
  "orig_nbformat": 4
 },
 "nbformat": 4,
 "nbformat_minor": 2
}
