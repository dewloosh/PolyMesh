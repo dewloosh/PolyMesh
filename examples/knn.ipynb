{
 "cells": [
  {
   "cell_type": "markdown",
   "metadata": {},
   "source": [
    "# Different approaches to perform a KNN search"
   ]
  },
  {
   "cell_type": "code",
   "execution_count": 1,
   "metadata": {},
   "outputs": [],
   "source": [
    "from dewloosh.geom.rgrid import Grid\n",
    "size = 80, 60, 20\n",
    "shape = 8, 6, 2\n",
    "grid = Grid(size=size, shape=shape, eshape='H8')\n",
    "X = grid.centers()\n",
    "Y = grid.centers()"
   ]
  },
  {
   "cell_type": "code",
   "execution_count": 6,
   "metadata": {},
   "outputs": [],
   "source": [
    "from sklearn.neighbors import KDTree\n",
    "tree = KDTree(X, leaf_size=2)\n",
    "_, neighbours = tree.query(Y, k=6)      "
   ]
  },
  {
   "cell_type": "markdown",
   "metadata": {},
   "source": [
    "Before version '1.6.0', scipy performs the KNN on a single thread."
   ]
  },
  {
   "cell_type": "code",
   "execution_count": 8,
   "metadata": {},
   "outputs": [],
   "source": [
    "from packaging import version\n",
    "import scipy\n",
    "from scipy.spatial import KDTree\n",
    "tree = KDTree(X)\n",
    "if version.parse(scipy.__version__) < version.parse(\"1.6.0\"):\n",
    "    _, neighbours = tree.query(Y, k=6)\n",
    "else:\n",
    "    # workers = -1 means all the CPU cores available\n",
    "    _, neighbours = tree.query(Y, k=6, workers=-1)"
   ]
  }
 ],
 "metadata": {
  "interpreter": {
   "hash": "8d15e2cb4dca8274af5fb092bbadab583a099b53b169f927cb892edc8b735b32"
  },
  "kernelspec": {
   "display_name": "Python 3.8.10 64-bit ('.dewloosh': venv)",
   "language": "python",
   "name": "python3"
  },
  "language_info": {
   "codemirror_mode": {
    "name": "ipython",
    "version": 3
   },
   "file_extension": ".py",
   "mimetype": "text/x-python",
   "name": "python",
   "nbconvert_exporter": "python",
   "pygments_lexer": "ipython3",
   "version": "3.8.10"
  },
  "orig_nbformat": 4
 },
 "nbformat": 4,
 "nbformat_minor": 2
}
