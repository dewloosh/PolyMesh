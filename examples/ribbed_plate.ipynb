{
 "cells": [
  {
   "cell_type": "code",
   "execution_count": 31,
   "metadata": {},
   "outputs": [],
   "source": [
    "import numpy as np\n",
    "import pyvista as pv\n",
    "\n",
    "from dewloosh.geom import PolyData"
   ]
  },
  {
   "cell_type": "code",
   "execution_count": 32,
   "metadata": {},
   "outputs": [],
   "source": [
    "plate = {'t' : 10.0, 'dx' : 100.0, 'dy' : 100.0}\n",
    "rib_x = {'w' : 10.0, 'h' : 20.0, 'e' : 0}\n",
    "rib_y = {'w' : 10.0, 'h' : 20.0, 'e' : 0}"
   ]
  },
  {
   "cell_type": "code",
   "execution_count": 33,
   "metadata": {},
   "outputs": [],
   "source": [
    "def gen_ribbed_plate(plate: dict, *args, rib_x:dict=None, rib_y:dict=None, **kwargs):\n",
    "    xMin, xMax = - plate['dx'] / 2, plate['dx'] / 2\n",
    "    yMin, yMax = - plate['dy'] / 2, plate['dy'] / 2\n",
    "    zMin, zMax = - plate['t'] / 2, plate['t'] / 2\n",
    "    pv_plate = pv.Box(bounds=[xMin, xMax, yMin, yMax, zMin, zMax]).triangulate()\n",
    "    xMin, xMax = - plate['dx'] / 2, plate['dx'] / 2\n",
    "    yMin, yMax = - rib_x['w'] / 2, rib_x['w'] / 2\n",
    "    zMin, zMax = rib_x['e'] - rib_x['h'] / 2, rib_x['e'] + rib_x['h'] / 2\n",
    "    pv_rib_x = pv.Box(bounds=[xMin, xMax, yMin, yMax, zMin, zMax]).triangulate()\n",
    "    xMin, xMax = - rib_y['w'] / 2, rib_y['w'] / 2\n",
    "    yMin, yMax = - plate['dy'] / 2, plate['dy'] / 2\n",
    "    zMin, zMax = rib_y['e'] - rib_y['h'] / 2, rib_y['e'] + rib_y['h'] / 2\n",
    "    pv_rib_y = pv.Box(bounds=[xMin, xMax, yMin, yMax, zMin, zMax]).triangulate()\n",
    "    return pv_plate\n"
   ]
  },
  {
   "cell_type": "code",
   "execution_count": 34,
   "metadata": {},
   "outputs": [],
   "source": [
    "pvmesh = gen_ribbed_plate(plate, rib_x=rib_x, rib_y=rib_y)"
   ]
  },
  {
   "cell_type": "code",
   "execution_count": 35,
   "metadata": {},
   "outputs": [],
   "source": [
    "pvmesh.plot(notebook=False)"
   ]
  }
 ],
 "metadata": {
  "interpreter": {
   "hash": "8d15e2cb4dca8274af5fb092bbadab583a099b53b169f927cb892edc8b735b32"
  },
  "kernelspec": {
   "display_name": "Python 3.8.10 64-bit ('.dewloosh': venv)",
   "language": "python",
   "name": "python3"
  },
  "language_info": {
   "codemirror_mode": {
    "name": "ipython",
    "version": 3
   },
   "file_extension": ".py",
   "mimetype": "text/x-python",
   "name": "python",
   "nbconvert_exporter": "python",
   "pygments_lexer": "ipython3",
   "version": "3.8.10"
  },
  "orig_nbformat": 4
 },
 "nbformat": 4,
 "nbformat_minor": 2
}
