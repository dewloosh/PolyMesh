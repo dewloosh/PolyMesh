{
 "cells": [
  {
   "cell_type": "code",
   "execution_count": 22,
   "metadata": {},
   "outputs": [],
   "source": [
    "from dewloosh.geom.space import StandardFrame, PointCloud\n",
    "from dewloosh.math.linalg.vector import Vector\n",
    "from dewloosh.math.linalg import linspace\n",
    "from dewloosh.geom.utils import center_of_points\n",
    "import numpy as np"
   ]
  },
  {
   "cell_type": "code",
   "execution_count": 23,
   "metadata": {},
   "outputs": [],
   "source": [
    "Lx, Ly, Lz = 300, 300, 300\n",
    "points_per_edge = 3\n",
    "mesh_size = Lx / (points_per_edge-1)"
   ]
  },
  {
   "cell_type": "code",
   "execution_count": 24,
   "metadata": {},
   "outputs": [],
   "source": [
    "points = []\n",
    "nTotalPoints = 0  # node counter\n",
    "\n",
    "# corners\n",
    "corner_coords = [\n",
    "    [-Lx/2, -Ly/2, -Lz/2],\n",
    "    [Lx/2, -Ly/2, -Lz/2],\n",
    "    [Lx/2, Ly/2, -Lz/2],\n",
    "    [-Lx/2, Ly/2, -Lz/2],\n",
    "    [-Lx/2, -Ly/2, Lz/2],\n",
    "    [Lx/2, -Ly/2, Lz/2],\n",
    "    [Lx/2, Ly/2, Lz/2],\n",
    "    [-Lx/2, Ly/2, Lz/2]\n",
    "]\n",
    "corner_coords = np.array(corner_coords)\n",
    "points.append(corner_coords)\n",
    "nTotalPoints += len(corner_coords)\n",
    "\n",
    "# populate edges\n",
    "nodes_of_edges = [\n",
    "    [0, 1], [1, 2], [2, 3], [3, 0],\n",
    "    [4, 5], [5, 6], [6, 7], [7, 4],\n",
    "    [0, 4], [1, 5], [2, 6], [3, 7]\n",
    "    ]\n",
    "edge_coords = []\n",
    "N = points_per_edge + 2\n",
    "for nodes in nodes_of_edges:\n",
    "    p0 = corner_coords[nodes[0]]\n",
    "    p1 = corner_coords[nodes[1]]\n",
    "    edge_coords.append(linspace(p0, p1, N)[1:-1])\n",
    "edge_coords = np.vstack(edge_coords)\n",
    "points.append(edge_coords)\n",
    "nTotalPoints += len(edge_coords)\n",
    "\n",
    "# faces\n",
    "corners_of_faces = {\n",
    "    'front' : [1, 2, 6, 5], \n",
    "    'back' : [0, 3, 7, 4], \n",
    "    'left' : [2, 3, 7, 6],  \n",
    "    'right' : [0, 1, 5, 4],\n",
    "    'bottom' : [0, 1, 2, 3], \n",
    "    'top' : [4, 5, 6, 7],  \n",
    "}\n",
    "edges_of_faces = {\n",
    "    'front' : [1, 5, 9, 10], \n",
    "    'back' : [3, 7, 8, 11], \n",
    "    'right' : [0, 9, 4, 8],  \n",
    "    'left' : [2, 6, 10, 11],\n",
    "    'bottom' : [0, 1, 2, 3], \n",
    "    'top' : [4, 5, 6, 7],  \n",
    "}\n",
    "\n",
    "# center of face\n",
    "def cof(id) : return center_of_points(corner_coords[corners_of_faces[id]])\n",
    "\n",
    "# face frames\n",
    "frames = {}\n",
    "frames['front'] = StandardFrame(dim=3, origo=cof('front'))\n",
    "rot90z = 'Body', [0, 0, np.pi/2], 'XYZ'\n",
    "frames['left'] = frames['front'].fork(*rot90z).move(cof('left') - cof('front'))\n",
    "frames['back'] = frames['left'].fork(*rot90z).move(cof('back') - cof('left'))\n",
    "frames['right'] = frames['back'].fork(*rot90z).move(cof('right') - cof('back'))\n",
    "rot_front_top = 'Body', [0, -np.pi/2, 0], 'XYZ'\n",
    "frames['top'] = frames['front'].fork(*rot_front_top).move(cof('top') - cof('front'))\n",
    "rot180y = 'Body', [0, np.pi, 0], 'XYZ'\n",
    "frames['bottom'] = frames['top'].fork(*rot180y).move(cof('bottom') - cof('top'))"
   ]
  },
  {
   "cell_type": "code",
   "execution_count": 25,
   "metadata": {},
   "outputs": [
    {
     "data": {
      "text/plain": [
       "array([  0., 150.,   0.])"
      ]
     },
     "execution_count": 25,
     "metadata": {},
     "output_type": "execute_result"
    }
   ],
   "source": [
    "frames['left'].origo()"
   ]
  },
  {
   "cell_type": "code",
   "execution_count": 26,
   "metadata": {},
   "outputs": [
    {
     "data": {
      "text/plain": [
       "array([[   0., -150.,    0.],\n",
       "       [   0.,  150., -150.],\n",
       "       [   0.,  150.,    0.],\n",
       "       [   0.,  150.,  150.]])"
      ]
     },
     "execution_count": 26,
     "metadata": {},
     "output_type": "execute_result"
    }
   ],
   "source": [
    "coords = np.array([[0, -Lx/2, 0], [0, Lx/2, -Ly/2], [0, Lx/2, 0], [0, Lx/2, Ly/2]])\n",
    "coords"
   ]
  },
  {
   "cell_type": "code",
   "execution_count": 27,
   "metadata": {},
   "outputs": [
    {
     "data": {
      "text/plain": [
       "VectorBase([[   0., -150.,    0.],\n",
       "            [   0.,  150., -150.],\n",
       "            [   0.,  150.,    0.],\n",
       "            [   0.,  150.,  150.]])"
      ]
     },
     "execution_count": 27,
     "metadata": {},
     "output_type": "execute_result"
    }
   ],
   "source": [
    "pc = PointCloud(coords, frame=frames['left'])\n",
    "pc"
   ]
  },
  {
   "cell_type": "code",
   "execution_count": 28,
   "metadata": {},
   "outputs": [
    {
     "data": {
      "text/plain": [
       "VectorBase([[ 150.,  150.,    0.],\n",
       "            [-150.,  150., -150.],\n",
       "            [-150.,  150.,    0.],\n",
       "            [-150.,  150.,  150.]])"
      ]
     },
     "execution_count": 28,
     "metadata": {},
     "output_type": "execute_result"
    }
   ],
   "source": [
    "pc.show()"
   ]
  },
  {
   "cell_type": "code",
   "execution_count": 29,
   "metadata": {},
   "outputs": [
    {
     "data": {
      "text/plain": [
       "array([-75., 150.,   0.])"
      ]
     },
     "execution_count": 29,
     "metadata": {},
     "output_type": "execute_result"
    }
   ],
   "source": [
    "pc.center()"
   ]
  },
  {
   "cell_type": "markdown",
   "metadata": {},
   "source": [
    "## **Single Vector Test**"
   ]
  },
  {
   "cell_type": "code",
   "execution_count": 30,
   "metadata": {},
   "outputs": [],
   "source": [
    "A = StandardFrame(dim=3)"
   ]
  },
  {
   "cell_type": "markdown",
   "metadata": {},
   "source": []
  },
  {
   "cell_type": "code",
   "execution_count": 31,
   "metadata": {},
   "outputs": [
    {
     "data": {
      "text/plain": [
       "VectorBase([150., 150.,   0.])"
      ]
     },
     "execution_count": 31,
     "metadata": {},
     "output_type": "execute_result"
    }
   ],
   "source": [
    "v1 = Vector([Lx/2, Ly/2, 0.0], frame=A)\n",
    "v1"
   ]
  },
  {
   "cell_type": "code",
   "execution_count": 32,
   "metadata": {},
   "outputs": [
    {
     "data": {
      "text/plain": [
       "array([150., 150.,   0.])"
      ]
     },
     "execution_count": 32,
     "metadata": {},
     "output_type": "execute_result"
    }
   ],
   "source": [
    "v1.show()"
   ]
  },
  {
   "cell_type": "code",
   "execution_count": 33,
   "metadata": {},
   "outputs": [
    {
     "data": {
      "text/plain": [
       "array([ 150., -150.,    0.])"
      ]
     },
     "execution_count": 33,
     "metadata": {},
     "output_type": "execute_result"
    }
   ],
   "source": [
    "arr2 = v1.show(frames['left'])\n",
    "arr2"
   ]
  },
  {
   "cell_type": "code",
   "execution_count": 34,
   "metadata": {},
   "outputs": [
    {
     "data": {
      "text/plain": [
       "VectorBase([ 150., -150.,    0.])"
      ]
     },
     "execution_count": 34,
     "metadata": {},
     "output_type": "execute_result"
    }
   ],
   "source": [
    "v2 = Vector(arr2, frame=frames['left'])\n",
    "v2"
   ]
  },
  {
   "cell_type": "code",
   "execution_count": 35,
   "metadata": {},
   "outputs": [
    {
     "data": {
      "text/plain": [
       "array([150., 150.,   0.])"
      ]
     },
     "execution_count": 35,
     "metadata": {},
     "output_type": "execute_result"
    }
   ],
   "source": [
    "v2.show()"
   ]
  },
  {
   "cell_type": "markdown",
   "metadata": {},
   "source": []
  },
  {
   "cell_type": "code",
   "execution_count": 36,
   "metadata": {},
   "outputs": [
    {
     "data": {
      "text/plain": [
       "array([[   0., -150.,    0.]])"
      ]
     },
     "execution_count": 36,
     "metadata": {},
     "output_type": "execute_result"
    }
   ],
   "source": [
    "coords = np.array([v2.array]) - np.array([150., 0., 0.])\n",
    "coords"
   ]
  },
  {
   "cell_type": "code",
   "execution_count": 37,
   "metadata": {},
   "outputs": [
    {
     "data": {
      "text/plain": [
       "array([ 1.50000000e+02, -9.18485099e-15,  0.00000000e+00])"
      ]
     },
     "execution_count": 37,
     "metadata": {},
     "output_type": "execute_result"
    }
   ],
   "source": [
    "v = Vector(coords[0], frame=frames['left'])\n",
    "v.show()"
   ]
  },
  {
   "cell_type": "code",
   "execution_count": 38,
   "metadata": {},
   "outputs": [
    {
     "data": {
      "text/plain": [
       "VectorBase([[150., 150.,   0.]])"
      ]
     },
     "execution_count": 38,
     "metadata": {},
     "output_type": "execute_result"
    }
   ],
   "source": [
    "pc = PointCloud(coords, frame=frames['left'])\n",
    "pc.show()"
   ]
  },
  {
   "cell_type": "code",
   "execution_count": 39,
   "metadata": {},
   "outputs": [
    {
     "data": {
      "text/plain": [
       "array([ 1.50000000e+02, -9.18485099e-15,  0.00000000e+00])"
      ]
     },
     "execution_count": 39,
     "metadata": {},
     "output_type": "execute_result"
    }
   ],
   "source": [
    "v = Vector(coords[0], frame=frames['left'])\n",
    "v.show()"
   ]
  },
  {
   "cell_type": "code",
   "execution_count": 40,
   "metadata": {},
   "outputs": [
    {
     "data": {
      "text/plain": [
       "VectorBase([[150., 150.,   0.]])"
      ]
     },
     "execution_count": 40,
     "metadata": {},
     "output_type": "execute_result"
    }
   ],
   "source": [
    "pc = PointCloud(coords, frame=frames['left'])\n",
    "pc.show()"
   ]
  },
  {
   "cell_type": "markdown",
   "metadata": {},
   "source": []
  },
  {
   "cell_type": "code",
   "execution_count": 41,
   "metadata": {},
   "outputs": [
    {
     "data": {
      "text/plain": [
       "array([  0., 150.,   0.])"
      ]
     },
     "execution_count": 41,
     "metadata": {},
     "output_type": "execute_result"
    }
   ],
   "source": [
    "frames['left'].origo()"
   ]
  },
  {
   "cell_type": "code",
   "execution_count": 42,
   "metadata": {},
   "outputs": [
    {
     "data": {
      "text/plain": [
       "array([0., 0., 0.])"
      ]
     },
     "execution_count": 42,
     "metadata": {},
     "output_type": "execute_result"
    }
   ],
   "source": [
    "frames['left'].origo(frames['left'])"
   ]
  }
 ],
 "metadata": {
  "kernelspec": {
   "display_name": "Python 3.8.10 ('.venv': venv)",
   "language": "python",
   "name": "python3"
  },
  "language_info": {
   "codemirror_mode": {
    "name": "ipython",
    "version": 3
   },
   "file_extension": ".py",
   "mimetype": "text/x-python",
   "name": "python",
   "nbconvert_exporter": "python",
   "pygments_lexer": "ipython3",
   "version": "3.8.10"
  },
  "orig_nbformat": 4,
  "vscode": {
   "interpreter": {
    "hash": "9c2b48080b9534e70b93bd405daf21f734949f5d4ed9a4b80ef04ea3f0227e4a"
   }
  }
 },
 "nbformat": 4,
 "nbformat_minor": 2
}
