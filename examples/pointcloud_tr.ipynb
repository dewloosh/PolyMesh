{
 "cells": [
  {
   "cell_type": "code",
   "execution_count": 1,
   "metadata": {},
   "outputs": [],
   "source": [
    "from polymesh.space import StandardFrame, PointCloud\n",
    "from neumann.linalg.vector import Vector\n",
    "from neumann.linalg import linspace\n",
    "from polymesh.utils import center_of_points\n",
    "import numpy as np"
   ]
  },
  {
   "cell_type": "code",
   "execution_count": 2,
   "metadata": {},
   "outputs": [],
   "source": [
    "Lx, Ly, Lz = 300, 300, 300\n",
    "points_per_edge = 3\n",
    "mesh_size = Lx / (points_per_edge-1)"
   ]
  },
  {
   "cell_type": "code",
   "execution_count": 3,
   "metadata": {},
   "outputs": [],
   "source": [
    "points = []\n",
    "nTotalPoints = 0  # node counter\n",
    "\n",
    "# corners\n",
    "corner_coords = [\n",
    "    [-Lx/2, -Ly/2, -Lz/2],\n",
    "    [Lx/2, -Ly/2, -Lz/2],\n",
    "    [Lx/2, Ly/2, -Lz/2],\n",
    "    [-Lx/2, Ly/2, -Lz/2],\n",
    "    [-Lx/2, -Ly/2, Lz/2],\n",
    "    [Lx/2, -Ly/2, Lz/2],\n",
    "    [Lx/2, Ly/2, Lz/2],\n",
    "    [-Lx/2, Ly/2, Lz/2]\n",
    "]\n",
    "corner_coords = np.array(corner_coords)\n",
    "points.append(corner_coords)\n",
    "nTotalPoints += len(corner_coords)\n",
    "\n",
    "# populate edges\n",
    "nodes_of_edges = [\n",
    "    [0, 1], [1, 2], [2, 3], [3, 0],\n",
    "    [4, 5], [5, 6], [6, 7], [7, 4],\n",
    "    [0, 4], [1, 5], [2, 6], [3, 7]\n",
    "    ]\n",
    "edge_coords = []\n",
    "N = points_per_edge + 2\n",
    "for nodes in nodes_of_edges:\n",
    "    p0 = corner_coords[nodes[0]]\n",
    "    p1 = corner_coords[nodes[1]]\n",
    "    edge_coords.append(linspace(p0, p1, N)[1:-1])\n",
    "edge_coords = np.vstack(edge_coords)\n",
    "points.append(edge_coords)\n",
    "nTotalPoints += len(edge_coords)\n",
    "\n",
    "# faces\n",
    "corners_of_faces = {\n",
    "    'front' : [1, 2, 6, 5], \n",
    "    'back' : [0, 3, 7, 4], \n",
    "    'left' : [2, 3, 7, 6],  \n",
    "    'right' : [0, 1, 5, 4],\n",
    "    'bottom' : [0, 1, 2, 3], \n",
    "    'top' : [4, 5, 6, 7],  \n",
    "}\n",
    "edges_of_faces = {\n",
    "    'front' : [1, 5, 9, 10], \n",
    "    'back' : [3, 7, 8, 11], \n",
    "    'right' : [0, 9, 4, 8],  \n",
    "    'left' : [2, 6, 10, 11],\n",
    "    'bottom' : [0, 1, 2, 3], \n",
    "    'top' : [4, 5, 6, 7],  \n",
    "}\n",
    "\n",
    "# center of face\n",
    "def cof(id) : return center_of_points(corner_coords[corners_of_faces[id]])\n",
    "\n",
    "# face frames\n",
    "frames = {}\n",
    "frames['front'] = StandardFrame(dim=3, origo=cof('front'))\n",
    "rot90z = 'Body', [0, 0, np.pi/2], 'XYZ'\n",
    "frames['left'] = frames['front'].fork(*rot90z).move(cof('left') - cof('front'))\n",
    "frames['back'] = frames['left'].fork(*rot90z).move(cof('back') - cof('left'))\n",
    "frames['right'] = frames['back'].fork(*rot90z).move(cof('right') - cof('back'))\n",
    "rot_front_top = 'Body', [0, -np.pi/2, 0], 'XYZ'\n",
    "frames['top'] = frames['front'].fork(*rot_front_top).move(cof('top') - cof('front'))\n",
    "rot180y = 'Body', [0, np.pi, 0], 'XYZ'\n",
    "frames['bottom'] = frames['top'].fork(*rot180y).move(cof('bottom') - cof('top'))"
   ]
  },
  {
   "cell_type": "code",
   "execution_count": 4,
   "metadata": {},
   "outputs": [
    {
     "data": {
      "text/plain": [
       "array([  0., 150.,   0.])"
      ]
     },
     "execution_count": 4,
     "metadata": {},
     "output_type": "execute_result"
    }
   ],
   "source": [
    "frames['left'].origo()"
   ]
  },
  {
   "cell_type": "code",
   "execution_count": 5,
   "metadata": {},
   "outputs": [
    {
     "data": {
      "text/plain": [
       "array([[   0., -150.,    0.],\n",
       "       [   0.,  150., -150.],\n",
       "       [   0.,  150.,    0.],\n",
       "       [   0.,  150.,  150.]])"
      ]
     },
     "execution_count": 5,
     "metadata": {},
     "output_type": "execute_result"
    }
   ],
   "source": [
    "coords = np.array([[0, -Lx/2, 0], [0, Lx/2, -Ly/2], [0, Lx/2, 0], [0, Lx/2, Ly/2]])\n",
    "coords"
   ]
  },
  {
   "cell_type": "code",
   "execution_count": 6,
   "metadata": {},
   "outputs": [
    {
     "data": {
      "text/plain": [
       "VectorBase([[   0., -150.,    0.],\n",
       "            [   0.,  150., -150.],\n",
       "            [   0.,  150.,    0.],\n",
       "            [   0.,  150.,  150.]])"
      ]
     },
     "execution_count": 6,
     "metadata": {},
     "output_type": "execute_result"
    }
   ],
   "source": [
    "pc = PointCloud(coords, frame=frames['left'])\n",
    "pc"
   ]
  },
  {
   "cell_type": "code",
   "execution_count": 7,
   "metadata": {},
   "outputs": [
    {
     "data": {
      "text/plain": [
       "VectorBase([[ 150.,  150.,    0.],\n",
       "            [-150.,  150., -150.],\n",
       "            [-150.,  150.,    0.],\n",
       "            [-150.,  150.,  150.]])"
      ]
     },
     "execution_count": 7,
     "metadata": {},
     "output_type": "execute_result"
    }
   ],
   "source": [
    "pc.show()"
   ]
  },
  {
   "cell_type": "code",
   "execution_count": 8,
   "metadata": {},
   "outputs": [
    {
     "data": {
      "text/plain": [
       "array([-75., 150.,   0.])"
      ]
     },
     "execution_count": 8,
     "metadata": {},
     "output_type": "execute_result"
    }
   ],
   "source": [
    "pc.center()"
   ]
  },
  {
   "cell_type": "markdown",
   "metadata": {},
   "source": [
    "## **Single Vector Test**"
   ]
  },
  {
   "cell_type": "code",
   "execution_count": 9,
   "metadata": {},
   "outputs": [],
   "source": [
    "A = StandardFrame(dim=3)"
   ]
  },
  {
   "cell_type": "markdown",
   "metadata": {},
   "source": []
  },
  {
   "cell_type": "code",
   "execution_count": 10,
   "metadata": {},
   "outputs": [
    {
     "data": {
      "text/plain": [
       "VectorBase([150., 150.,   0.])"
      ]
     },
     "execution_count": 10,
     "metadata": {},
     "output_type": "execute_result"
    }
   ],
   "source": [
    "v1 = Vector([Lx/2, Ly/2, 0.0], frame=A)\n",
    "v1"
   ]
  },
  {
   "cell_type": "code",
   "execution_count": 11,
   "metadata": {},
   "outputs": [
    {
     "data": {
      "text/plain": [
       "array([150., 150.,   0.])"
      ]
     },
     "execution_count": 11,
     "metadata": {},
     "output_type": "execute_result"
    }
   ],
   "source": [
    "v1.show()"
   ]
  },
  {
   "cell_type": "code",
   "execution_count": 12,
   "metadata": {},
   "outputs": [
    {
     "data": {
      "text/plain": [
       "array([ 150., -150.,    0.])"
      ]
     },
     "execution_count": 12,
     "metadata": {},
     "output_type": "execute_result"
    }
   ],
   "source": [
    "arr2 = v1.show(frames['left'])\n",
    "arr2"
   ]
  },
  {
   "cell_type": "code",
   "execution_count": 13,
   "metadata": {},
   "outputs": [
    {
     "data": {
      "text/plain": [
       "VectorBase([ 150., -150.,    0.])"
      ]
     },
     "execution_count": 13,
     "metadata": {},
     "output_type": "execute_result"
    }
   ],
   "source": [
    "v2 = Vector(arr2, frame=frames['left'])\n",
    "v2"
   ]
  },
  {
   "cell_type": "code",
   "execution_count": 14,
   "metadata": {},
   "outputs": [
    {
     "data": {
      "text/plain": [
       "array([150., 150.,   0.])"
      ]
     },
     "execution_count": 14,
     "metadata": {},
     "output_type": "execute_result"
    }
   ],
   "source": [
    "v2.show()"
   ]
  },
  {
   "cell_type": "markdown",
   "metadata": {},
   "source": []
  },
  {
   "cell_type": "code",
   "execution_count": 15,
   "metadata": {},
   "outputs": [
    {
     "data": {
      "text/plain": [
       "array([[   0., -150.,    0.]])"
      ]
     },
     "execution_count": 15,
     "metadata": {},
     "output_type": "execute_result"
    }
   ],
   "source": [
    "coords = np.array([v2.array]) - np.array([150., 0., 0.])\n",
    "coords"
   ]
  },
  {
   "cell_type": "code",
   "execution_count": 16,
   "metadata": {},
   "outputs": [
    {
     "data": {
      "text/plain": [
       "array([ 1.50000000e+02, -9.18485099e-15,  0.00000000e+00])"
      ]
     },
     "execution_count": 16,
     "metadata": {},
     "output_type": "execute_result"
    }
   ],
   "source": [
    "v = Vector(coords[0], frame=frames['left'])\n",
    "v.show()"
   ]
  },
  {
   "cell_type": "code",
   "execution_count": 17,
   "metadata": {},
   "outputs": [
    {
     "data": {
      "text/plain": [
       "VectorBase([[150., 150.,   0.]])"
      ]
     },
     "execution_count": 17,
     "metadata": {},
     "output_type": "execute_result"
    }
   ],
   "source": [
    "pc = PointCloud(coords, frame=frames['left'])\n",
    "pc.show()"
   ]
  },
  {
   "cell_type": "code",
   "execution_count": 18,
   "metadata": {},
   "outputs": [
    {
     "data": {
      "text/plain": [
       "array([ 1.50000000e+02, -9.18485099e-15,  0.00000000e+00])"
      ]
     },
     "execution_count": 18,
     "metadata": {},
     "output_type": "execute_result"
    }
   ],
   "source": [
    "v = Vector(coords[0], frame=frames['left'])\n",
    "v.show()"
   ]
  },
  {
   "cell_type": "code",
   "execution_count": 19,
   "metadata": {},
   "outputs": [
    {
     "data": {
      "text/plain": [
       "VectorBase([[150., 150.,   0.]])"
      ]
     },
     "execution_count": 19,
     "metadata": {},
     "output_type": "execute_result"
    }
   ],
   "source": [
    "pc = PointCloud(coords, frame=frames['left'])\n",
    "pc.show()"
   ]
  },
  {
   "cell_type": "markdown",
   "metadata": {},
   "source": []
  },
  {
   "cell_type": "code",
   "execution_count": 20,
   "metadata": {},
   "outputs": [
    {
     "data": {
      "text/plain": [
       "array([  0., 150.,   0.])"
      ]
     },
     "execution_count": 20,
     "metadata": {},
     "output_type": "execute_result"
    }
   ],
   "source": [
    "frames['left'].origo()"
   ]
  },
  {
   "cell_type": "code",
   "execution_count": 21,
   "metadata": {},
   "outputs": [
    {
     "data": {
      "text/plain": [
       "array([0., 0., 0.])"
      ]
     },
     "execution_count": 21,
     "metadata": {},
     "output_type": "execute_result"
    }
   ],
   "source": [
    "frames['left'].origo(frames['left'])"
   ]
  }
 ],
 "metadata": {
  "kernelspec": {
   "display_name": "Python 3.8.10 ('.venv': venv)",
   "language": "python",
   "name": "python3"
  },
  "language_info": {
   "codemirror_mode": {
    "name": "ipython",
    "version": 3
   },
   "file_extension": ".py",
   "mimetype": "text/x-python",
   "name": "python",
   "nbconvert_exporter": "python",
   "pygments_lexer": "ipython3",
   "version": "3.8.10"
  },
  "orig_nbformat": 4,
  "vscode": {
   "interpreter": {
    "hash": "8c09a45765ebf85a9115831261f2d9f9fd8a9e02e626ce64403198137c7fd90c"
   }
  }
 },
 "nbformat": 4,
 "nbformat_minor": 2
}
