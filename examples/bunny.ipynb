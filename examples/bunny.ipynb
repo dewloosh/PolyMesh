{
 "cells": [
  {
   "cell_type": "code",
   "execution_count": 11,
   "metadata": {},
   "outputs": [],
   "source": [
    "import pyvista as pv\n",
    "from pyvista import examples\n",
    "import numpy as np\n",
    "import tetgen"
   ]
  },
  {
   "cell_type": "code",
   "execution_count": 12,
   "metadata": {},
   "outputs": [],
   "source": [
    "bunny = examples.download_bunny_coarse()\n",
    "tet = tetgen.TetGen(bunny)\n",
    "tet.tetrahedralize(order=1, mindihedral=10, minratio=1.1, quality = True)\n",
    "grid = tet.grid\n",
    "coords = np.array(grid.points).astype(float)\n",
    "topo = grid.cells_dict[10].astype(int)"
   ]
  },
  {
   "cell_type": "code",
   "execution_count": 13,
   "metadata": {},
   "outputs": [
    {
     "data": {
      "text/plain": [
       "(9012, 4)"
      ]
     },
     "execution_count": 13,
     "metadata": {},
     "output_type": "execute_result"
    }
   ],
   "source": [
    "topo.shape"
   ]
  },
  {
   "cell_type": "code",
   "execution_count": 14,
   "metadata": {},
   "outputs": [],
   "source": [
    "xmin, xmax = coords[:, 2].min(), coords[:, 2].max()"
   ]
  },
  {
   "cell_type": "code",
   "execution_count": 15,
   "metadata": {},
   "outputs": [],
   "source": [
    "from dewloosh.geom import PolyData\n",
    "from dewloosh.geom.cells import TET4, L2\n",
    "from dewloosh.geom.topo.tr import TET4_to_L2"
   ]
  },
  {
   "cell_type": "code",
   "execution_count": 16,
   "metadata": {},
   "outputs": [],
   "source": [
    "pd = PolyData(coords=coords)\n",
    "pd['bunny'] = PolyData(topo=topo, celltype=TET4)\n",
    "c = pd['bunny'].centers()"
   ]
  },
  {
   "cell_type": "code",
   "execution_count": 17,
   "metadata": {},
   "outputs": [],
   "source": [
    "left = np.where(c[:, 2] < ((xmin + xmax)/2))[0]\n",
    "right = np.where(c[:, 2] >= ((xmin + xmax)/2))[0]"
   ]
  },
  {
   "cell_type": "code",
   "execution_count": 18,
   "metadata": {},
   "outputs": [],
   "source": [
    "_, topo_L = TET4_to_L2(coords, topo[left])\n",
    "topo_R = topo[right]\n",
    "\n",
    "pd = PolyData(coords=coords)\n",
    "pd['L2'] = PolyData(topo=topo_L, celltype=L2)\n",
    "pd['TET4'] = PolyData(topo=topo_R, celltype=TET4)"
   ]
  },
  {
   "cell_type": "code",
   "execution_count": 19,
   "metadata": {},
   "outputs": [],
   "source": [
    "pd.plot()"
   ]
  },
  {
   "cell_type": "code",
   "execution_count": 20,
   "metadata": {},
   "outputs": [
    {
     "data": {
      "text/plain": [
       "[1, 2]"
      ]
     },
     "execution_count": 20,
     "metadata": {},
     "output_type": "execute_result"
    }
   ],
   "source": [
    "a = {1 : '1', 2 : '2'}\n",
    "[i for i in a]"
   ]
  }
 ],
 "metadata": {
  "kernelspec": {
   "display_name": "Python 3.8.10 ('.venv': venv)",
   "language": "python",
   "name": "python3"
  },
  "language_info": {
   "codemirror_mode": {
    "name": "ipython",
    "version": 3
   },
   "file_extension": ".py",
   "mimetype": "text/x-python",
   "name": "python",
   "nbconvert_exporter": "python",
   "pygments_lexer": "ipython3",
   "version": "3.8.10"
  },
  "orig_nbformat": 4,
  "vscode": {
   "interpreter": {
    "hash": "9c2b48080b9534e70b93bd405daf21f734949f5d4ed9a4b80ef04ea3f0227e4a"
   }
  }
 },
 "nbformat": 4,
 "nbformat_minor": 2
}
