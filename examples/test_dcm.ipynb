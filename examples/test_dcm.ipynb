{
 "cells": [
  {
   "cell_type": "code",
   "execution_count": 1,
   "metadata": {},
   "outputs": [],
   "source": [
    "import numpy as np"
   ]
  },
  {
   "cell_type": "code",
   "execution_count": 2,
   "metadata": {},
   "outputs": [],
   "source": [
    "# old base vectors in old frame\n",
    "e1 = np.array([1., 0.])\n",
    "e2 = np.array([0., 1.])\n",
    "\n",
    "# new base vectors in old frame\n",
    "E1 = np.array([0., 1.])\n",
    "E2 = np.array([-1., 0.])\n",
    "\n",
    "# direction cosine matrix\n",
    "DCM = np.stack([E1, E2])\n",
    "\n",
    "# the transpose of DCM transforms the base vectors as column arrays\n",
    "assert np.all(np.isclose(DCM.T @ e1, E1, rtol=1e-05, atol=1e-08))\n",
    "assert np.all(np.isclose(DCM.T @ e2, E2, rtol=1e-05, atol=1e-08))\n",
    "\n",
    "# the DCM transforms the base vectors as row arrays\n",
    "assert np.all(np.isclose(e1 @ DCM, E1, rtol=1e-05, atol=1e-08))\n",
    "assert np.all(np.isclose(e2 @ DCM, E2, rtol=1e-05, atol=1e-08))\n",
    "\n",
    "# transform the complete frame at once\n",
    "assert np.all(np.isclose(DCM @ np.stack([e1, e2]), np.stack([E1, E2]), \n",
    "                         rtol=1e-05, atol=1e-08))"
   ]
  },
  {
   "cell_type": "code",
   "execution_count": 3,
   "metadata": {},
   "outputs": [
    {
     "data": {
      "text/plain": [
       "array([[ 0.,  1.],\n",
       "       [-1.,  0.]])"
      ]
     },
     "execution_count": 3,
     "metadata": {},
     "output_type": "execute_result"
    }
   ],
   "source": [
    "DCM"
   ]
  },
  {
   "cell_type": "code",
   "execution_count": 4,
   "metadata": {},
   "outputs": [],
   "source": [
    "from sympy.physics.vector import ReferenceFrame"
   ]
  },
  {
   "cell_type": "code",
   "execution_count": 5,
   "metadata": {},
   "outputs": [],
   "source": [
    "source = ReferenceFrame('source')\n",
    "target = source.orientnew('target', 'Body', [0, 0, 90*np.pi/180],  'XYZ')\n",
    "DCM = np.array(target.dcm(source).evalf()).astype(float)[:2, :2]\n",
    "DCM[np.abs(DCM) < 1e-12] = 0."
   ]
  },
  {
   "cell_type": "code",
   "execution_count": 6,
   "metadata": {},
   "outputs": [
    {
     "data": {
      "text/plain": [
       "array([[ 0.,  1.],\n",
       "       [-1.,  0.]])"
      ]
     },
     "execution_count": 6,
     "metadata": {},
     "output_type": "execute_result"
    }
   ],
   "source": [
    "DCM"
   ]
  }
 ],
 "metadata": {
  "interpreter": {
   "hash": "8d15e2cb4dca8274af5fb092bbadab583a099b53b169f927cb892edc8b735b32"
  },
  "kernelspec": {
   "display_name": "Python 3.8.10 64-bit ('.dewloosh': venv)",
   "language": "python",
   "name": "python3"
  },
  "language_info": {
   "codemirror_mode": {
    "name": "ipython",
    "version": 3
   },
   "file_extension": ".py",
   "mimetype": "text/x-python",
   "name": "python",
   "nbconvert_exporter": "python",
   "pygments_lexer": "ipython3",
   "version": "3.8.10"
  },
  "orig_nbformat": 4
 },
 "nbformat": 4,
 "nbformat_minor": 2
}
