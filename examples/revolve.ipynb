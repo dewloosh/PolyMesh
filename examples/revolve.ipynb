{
 "cells": [
  {
   "cell_type": "code",
   "execution_count": 6,
   "metadata": {},
   "outputs": [],
   "source": [
    "from math import pi\n",
    "import pygmsh\n",
    "\n",
    "with pygmsh.geo.Geometry() as geom:\n",
    "    poly = geom.add_polygon(\n",
    "        [\n",
    "            [0.0, 0.2, 0.0],\n",
    "            [0.0, 1.2, 0.0],\n",
    "            [0.0, 1.2, 1.0],\n",
    "        ],\n",
    "        mesh_size = 0.1,\n",
    "    )\n",
    "    geom.revolve(poly, [0.0, 0.0, 1.0], [0.0, 0.0, 0.0], 0.9 * pi)\n",
    "    mesh = geom.generate_mesh()\n",
    "    edict = mesh.cells_dict"
   ]
  },
  {
   "cell_type": "code",
   "execution_count": null,
   "metadata": {},
   "outputs": [],
   "source": []
  },
  {
   "cell_type": "code",
   "execution_count": 7,
   "metadata": {},
   "outputs": [],
   "source": [
    "from dewloosh.geom import PolyData, Tetra\n",
    "from dewloosh.geom.space import StandardFrame, PointCloud\n",
    "\n",
    "A = StandardFrame(dim=3)\n",
    "mesh = PolyData(coords=mesh.points, topo=edict['tetra'], celltype=Tetra)"
   ]
  },
  {
   "cell_type": "code",
   "execution_count": 8,
   "metadata": {},
   "outputs": [],
   "source": [
    "mesh.plot()"
   ]
  }
 ],
 "metadata": {
  "interpreter": {
   "hash": "8d15e2cb4dca8274af5fb092bbadab583a099b53b169f927cb892edc8b735b32"
  },
  "kernelspec": {
   "display_name": "Python 3.8.10 64-bit ('.dewloosh': venv)",
   "language": "python",
   "name": "python3"
  },
  "language_info": {
   "codemirror_mode": {
    "name": "ipython",
    "version": 3
   },
   "file_extension": ".py",
   "mimetype": "text/x-python",
   "name": "python",
   "nbconvert_exporter": "python",
   "pygments_lexer": "ipython3",
   "version": "3.8.10"
  },
  "orig_nbformat": 4
 },
 "nbformat": 4,
 "nbformat_minor": 2
}
