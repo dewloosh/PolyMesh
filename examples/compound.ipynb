{
 "cells": [
  {
   "cell_type": "markdown",
   "metadata": {},
   "source": [
    "# **Compound Meshes with Jagged Topology**"
   ]
  },
  {
   "cell_type": "code",
   "execution_count": 73,
   "metadata": {},
   "outputs": [],
   "source": [
    "from polymesh import PolyData, TriMesh, Grid\n",
    "from polymesh.space import StandardFrame\n",
    "import numpy as np"
   ]
  },
  {
   "cell_type": "code",
   "execution_count": 74,
   "metadata": {},
   "outputs": [],
   "source": [
    "A = StandardFrame(dim=3)\n",
    "tri = TriMesh(size=(100, 100), shape=(10, 10), frame=A)\n",
    "grid2d = Grid(size=(100, 100), shape=(10, 10), eshape='Q4', frame=A)\n",
    "grid3d = Grid(size=(100, 100, 100), shape=(8, 6, 2), eshape='H8', frame=A)"
   ]
  },
  {
   "cell_type": "code",
   "execution_count": 75,
   "metadata": {},
   "outputs": [
    {
     "data": {
      "text/plain": [
       "(410, 3)"
      ]
     },
     "execution_count": 75,
     "metadata": {},
     "output_type": "execute_result"
    }
   ],
   "source": [
    "np.vstack([tri.coords(), grid2d.coords(), grid3d.coords()]).shape"
   ]
  },
  {
   "cell_type": "code",
   "execution_count": 76,
   "metadata": {},
   "outputs": [
    {
     "data": {
      "text/plain": [
       "(100, 3)"
      ]
     },
     "execution_count": 76,
     "metadata": {},
     "output_type": "execute_result"
    }
   ],
   "source": [
    "np.vstack([tri.coords()]).shape"
   ]
  },
  {
   "cell_type": "code",
   "execution_count": 77,
   "metadata": {},
   "outputs": [
    {
     "data": {
      "text/plain": [
       "(310, 3)"
      ]
     },
     "execution_count": 77,
     "metadata": {},
     "output_type": "execute_result"
    }
   ],
   "source": [
    "np.vstack([grid2d.coords(), grid3d.coords()]).shape"
   ]
  },
  {
   "cell_type": "code",
   "execution_count": 78,
   "metadata": {},
   "outputs": [
    {
     "data": {
      "text/plain": [
       "((162, 3), (100, 4), (96, 8))"
      ]
     },
     "execution_count": 78,
     "metadata": {},
     "output_type": "execute_result"
    }
   ],
   "source": [
    "tri.topology().shape, grid2d.topology().shape, grid3d.topology().shape"
   ]
  },
  {
   "cell_type": "code",
   "execution_count": 79,
   "metadata": {},
   "outputs": [
    {
     "data": {
      "text/plain": [
       "358"
      ]
     },
     "execution_count": 79,
     "metadata": {},
     "output_type": "execute_result"
    }
   ],
   "source": [
    "np.sum([tri.topology().shape[0], grid2d.topology().shape[0], grid3d.topology().shape[0]])"
   ]
  },
  {
   "cell_type": "code",
   "execution_count": 80,
   "metadata": {},
   "outputs": [
    {
     "data": {
      "text/plain": [
       "196"
      ]
     },
     "execution_count": 80,
     "metadata": {},
     "output_type": "execute_result"
    }
   ],
   "source": [
    "np.sum([grid2d.topology().shape[0], grid3d.topology().shape[0]])"
   ]
  },
  {
   "cell_type": "code",
   "execution_count": 81,
   "metadata": {},
   "outputs": [],
   "source": [
    "mesh = PolyData(frame=A)"
   ]
  },
  {
   "cell_type": "code",
   "execution_count": 82,
   "metadata": {},
   "outputs": [],
   "source": [
    "mesh['tri', 'T3'] = tri.move(np.array([0., 0., -200]))"
   ]
  },
  {
   "cell_type": "code",
   "execution_count": 83,
   "metadata": {},
   "outputs": [],
   "source": [
    "mesh['grids', 'Q4'] = grid2d.move(np.array([0., 0., 200]))"
   ]
  },
  {
   "cell_type": "code",
   "execution_count": 84,
   "metadata": {},
   "outputs": [],
   "source": [
    "\n",
    "mesh['grids', 'H8'] = grid3d"
   ]
  },
  {
   "cell_type": "code",
   "execution_count": 85,
   "metadata": {},
   "outputs": [],
   "source": [
    "mesh['tri', 'T3'].pointdata['values'] = np.full(tri.coords().shape[0], 5.)\n",
    "mesh['grids', 'Q4'].pointdata['values'] = np.full(grid2d.coords().shape[0], 10.)\n",
    "mesh['grids', 'H8'].pointdata['values'] = np.full(grid3d.coords().shape[0], -5.)"
   ]
  },
  {
   "cell_type": "code",
   "execution_count": 86,
   "metadata": {},
   "outputs": [
    {
     "data": {
      "text/plain": [
       "array([5., 5., 5., 5., 5., 5., 5., 5., 5., 5., 5., 5., 5., 5., 5., 5., 5.,\n",
       "       5., 5., 5., 5., 5., 5., 5., 5., 5., 5., 5., 5., 5., 5., 5., 5., 5.,\n",
       "       5., 5., 5., 5., 5., 5., 5., 5., 5., 5., 5., 5., 5., 5., 5., 5., 5.,\n",
       "       5., 5., 5., 5., 5., 5., 5., 5., 5., 5., 5., 5., 5., 5., 5., 5., 5.,\n",
       "       5., 5., 5., 5., 5., 5., 5., 5., 5., 5., 5., 5., 5., 5., 5., 5., 5.,\n",
       "       5., 5., 5., 5., 5., 5., 5., 5., 5., 5., 5., 5., 5., 5., 5.])"
      ]
     },
     "execution_count": 86,
     "metadata": {},
     "output_type": "execute_result"
    }
   ],
   "source": [
    "mesh['tri', 'T3'].pointdata.values.to_numpy()"
   ]
  },
  {
   "cell_type": "code",
   "execution_count": 87,
   "metadata": {},
   "outputs": [],
   "source": [
    "import pyvista as pv\n",
    "from pyvista import themes\n",
    "\n",
    "pv.set_plot_theme('paraview')\n",
    "\n",
    "my_theme = themes.DarkTheme()\n",
    "my_theme.color = 'red'\n",
    "my_theme.lighting = False\n",
    "my_theme.show_edges = True\n",
    "my_theme.axes.box = True\n",
    "\n",
    "pv.global_theme.load_theme(my_theme)"
   ]
  },
  {
   "cell_type": "code",
   "execution_count": 88,
   "metadata": {},
   "outputs": [],
   "source": [
    "from pyvistaqt import BackgroundPlotter\n",
    "\n",
    "plotter = BackgroundPlotter()\n",
    "colors = ['red', 'green', 'blue']\n",
    "for i, cb in enumerate(mesh.cellblocks()):\n",
    "    data = cb.pointdata['values']\n",
    "    plotter.add_mesh(cb.to_pv(), scalars=data)"
   ]
  },
  {
   "cell_type": "code",
   "execution_count": 89,
   "metadata": {},
   "outputs": [],
   "source": [
    "plotter = BackgroundPlotter()\n",
    "colors = ['red', 'green', 'blue']\n",
    "for i, cb in enumerate(mesh.cellblocks()):\n",
    "    m = cb.to_pv(scalars='values', fuse=False)[0]\n",
    "    plotter.add_mesh(m)"
   ]
  },
  {
   "cell_type": "code",
   "execution_count": 90,
   "metadata": {},
   "outputs": [],
   "source": [
    "mesh.plot()"
   ]
  },
  {
   "cell_type": "code",
   "execution_count": 91,
   "metadata": {},
   "outputs": [
    {
     "data": {
      "text/plain": [
       "CartesianFrame\n",
       "([[1. 0. 0.]\n",
       " [0. 1. 0.]\n",
       " [0. 0. 1.]])"
      ]
     },
     "execution_count": 91,
     "metadata": {},
     "output_type": "execute_result"
    }
   ],
   "source": [
    "mesh.frame"
   ]
  },
  {
   "cell_type": "code",
   "execution_count": 92,
   "metadata": {},
   "outputs": [
    {
     "data": {
      "text/plain": [
       "CartesianFrame\n",
       "([[1. 0. 0.]\n",
       " [0. 1. 0.]\n",
       " [0. 0. 1.]])"
      ]
     },
     "execution_count": 92,
     "metadata": {},
     "output_type": "execute_result"
    }
   ],
   "source": [
    "mesh['grids', 'H8'].frame"
   ]
  },
  {
   "cell_type": "code",
   "execution_count": 93,
   "metadata": {},
   "outputs": [
    {
     "data": {
      "text/plain": [
       "PolyData({'size': (100, 100, 100), 'shape': (8, 6, 2)})"
      ]
     },
     "execution_count": 93,
     "metadata": {},
     "output_type": "execute_result"
    }
   ],
   "source": [
    "addr = mesh['grids', 'H8'].address\n",
    "mesh[addr]"
   ]
  },
  {
   "cell_type": "code",
   "execution_count": 94,
   "metadata": {},
   "outputs": [
    {
     "data": {
      "text/plain": [
       "TopologyArray\n",
       "([[100, 111, 112, 101], [101, 112, 113, ... [384, 405, 408, 387, 385, 406, 409, 388]])"
      ]
     },
     "execution_count": 94,
     "metadata": {},
     "output_type": "execute_result"
    }
   ],
   "source": [
    "mesh['grids'].topology()"
   ]
  },
  {
   "cell_type": "code",
   "execution_count": 95,
   "metadata": {},
   "outputs": [
    {
     "data": {
      "text/plain": [
       "['grids']"
      ]
     },
     "execution_count": 95,
     "metadata": {},
     "output_type": "execute_result"
    }
   ],
   "source": [
    "mesh['grids'].address"
   ]
  },
  {
   "cell_type": "code",
   "execution_count": 96,
   "metadata": {},
   "outputs": [],
   "source": [
    "mesh.pd"
   ]
  },
  {
   "cell_type": "code",
   "execution_count": 97,
   "metadata": {},
   "outputs": [
    {
     "data": {
      "text/plain": [
       "CartesianFrame\n",
       "([[1. 0. 0.]\n",
       " [0. 1. 0.]\n",
       " [0. 0. 1.]])"
      ]
     },
     "execution_count": 97,
     "metadata": {},
     "output_type": "execute_result"
    }
   ],
   "source": [
    "mesh['grids'].frame"
   ]
  },
  {
   "cell_type": "code",
   "execution_count": 98,
   "metadata": {},
   "outputs": [
    {
     "data": {
      "text/plain": [
       "PolyData({'T3': PolyData({'size': (100, 100), 'shape': (10, 10)})})"
      ]
     },
     "execution_count": 98,
     "metadata": {},
     "output_type": "execute_result"
    }
   ],
   "source": [
    "mesh['tri']"
   ]
  },
  {
   "cell_type": "code",
   "execution_count": 99,
   "metadata": {},
   "outputs": [],
   "source": [
    "mesh['tri'].cd"
   ]
  },
  {
   "cell_type": "code",
   "execution_count": 100,
   "metadata": {},
   "outputs": [
    {
     "data": {
      "text/plain": [
       "PolyData({'tri': PolyData({'T3': PolyData({'size': (100, 100), 'shape': (10, 10)})}), 'grids': PolyData({'Q4': PolyData({'size': (100, 100), 'shape': (10, 10)}), 'H8': PolyData({'size': (100, 100, 100), 'shape': (8, 6, 2)})})})"
      ]
     },
     "execution_count": 100,
     "metadata": {},
     "output_type": "execute_result"
    }
   ],
   "source": [
    "mesh.to_standard_form()"
   ]
  },
  {
   "cell_type": "code",
   "execution_count": 101,
   "metadata": {},
   "outputs": [],
   "source": [
    "triangles = mesh['tri'].detach()"
   ]
  },
  {
   "cell_type": "code",
   "execution_count": 102,
   "metadata": {},
   "outputs": [],
   "source": [
    "grids = mesh['grids'].detach()"
   ]
  },
  {
   "cell_type": "code",
   "execution_count": 103,
   "metadata": {},
   "outputs": [],
   "source": [
    "#grids.plot()"
   ]
  },
  {
   "cell_type": "code",
   "execution_count": 104,
   "metadata": {},
   "outputs": [],
   "source": [
    "cb = list(grids.cellblocks(inclusive=True))"
   ]
  },
  {
   "cell_type": "code",
   "execution_count": 105,
   "metadata": {},
   "outputs": [
    {
     "data": {
      "text/plain": [
       "(100, 4)"
      ]
     },
     "execution_count": 105,
     "metadata": {},
     "output_type": "execute_result"
    }
   ],
   "source": [
    "cb[0].topology().shape"
   ]
  },
  {
   "cell_type": "code",
   "execution_count": 106,
   "metadata": {},
   "outputs": [
    {
     "data": {
      "text/plain": [
       "TopologyArray\n",
       "([[100, 111, 112, 101], [101, 112, 113, ... [384, 405, 408, 387, 385, 406, 409, 388]])"
      ]
     },
     "execution_count": 106,
     "metadata": {},
     "output_type": "execute_result"
    }
   ],
   "source": [
    "grids['H8'].parent.topology()"
   ]
  },
  {
   "cell_type": "code",
   "execution_count": 107,
   "metadata": {},
   "outputs": [
    {
     "data": {
      "text/plain": [
       "TopologyArray\n",
       "([[100, 111, 112, 101], [101, 112, 113, ... [384, 405, 408, 387, 385, 406, 409, 388]])"
      ]
     },
     "execution_count": 107,
     "metadata": {},
     "output_type": "execute_result"
    }
   ],
   "source": [
    "grids.topology()"
   ]
  },
  {
   "cell_type": "code",
   "execution_count": 108,
   "metadata": {},
   "outputs": [
    {
     "name": "stdout",
     "output_type": "stream",
     "text": [
      "['Q4'] Q4\n",
      "['H8'] H8\n"
     ]
    }
   ],
   "source": [
    "for cb in grids.cellblocks():\n",
    "    print(cb.address, cb.key)"
   ]
  },
  {
   "cell_type": "code",
   "execution_count": 109,
   "metadata": {},
   "outputs": [
    {
     "name": "stdout",
     "output_type": "stream",
     "text": [
      "['H8'] H8\n"
     ]
    }
   ],
   "source": [
    "for cb in grids['H8'].cellblocks(inclusive=True):\n",
    "    print(cb.address, cb.key)"
   ]
  },
  {
   "cell_type": "code",
   "execution_count": 110,
   "metadata": {},
   "outputs": [
    {
     "data": {
      "text/plain": [
       "[PolyData({})]"
      ]
     },
     "execution_count": 110,
     "metadata": {},
     "output_type": "execute_result"
    }
   ],
   "source": [
    "list(grids['H8'].cellblocks(inclusive=True))"
   ]
  },
  {
   "cell_type": "code",
   "execution_count": 111,
   "metadata": {},
   "outputs": [
    {
     "data": {
      "text/plain": [
       "{'pointdata': None,\n",
       " 'cell_index_manager': <polymesh.polydata.IndexManager at 0x2283aed49d0>,\n",
       " 'celldata': <polymesh.cells.h8.H8 at 0x2283aed4640>,\n",
       " 'celltype': polymesh.cells.h8.H8,\n",
       " '_frame': None,\n",
       " '_newaxis': 2,\n",
       " '_parent': PolyData({'Q4': PolyData({}), 'H8': PolyData({})}),\n",
       " '_config': LinkedDeepDict({'pv': LinkedDeepDict({'default': LinkedDeepDict({'show_edges': True})})}),\n",
       " 'point_index_manager': <polymesh.polydata.IndexManager at 0x2283aed4b20>,\n",
       " '_root': PolyData({'Q4': PolyData({}), 'H8': PolyData({})}),\n",
       " '_locked': None,\n",
       " '_key': 'H8'}"
      ]
     },
     "execution_count": 111,
     "metadata": {},
     "output_type": "execute_result"
    }
   ],
   "source": [
    "grids['H8'].__dict__"
   ]
  },
  {
   "cell_type": "code",
   "execution_count": 112,
   "metadata": {},
   "outputs": [
    {
     "data": {
      "text/plain": [
       "VectorBase([[   0.        ,    0.        , -200.        ],\n",
       "            [  11.11111111,    0.        , -200.        ],\n",
       "            [  22.22222222,    0.        , -200.        ],\n",
       "            ...,\n",
       "            [ 100.        ,  100.        ,    0.        ],\n",
       "            [ 100.        ,  100.        ,   50.        ],\n",
       "            [ 100.        ,  100.        ,  100.        ]])"
      ]
     },
     "execution_count": 112,
     "metadata": {},
     "output_type": "execute_result"
    }
   ],
   "source": [
    "mesh.coords()#, mesh['grids', 'H8'].coords()#, mesh['grids'].coords()"
   ]
  },
  {
   "cell_type": "code",
   "execution_count": 113,
   "metadata": {},
   "outputs": [
    {
     "data": {
      "text/plain": [
       "PolyData({'tri': PolyData({'T3': PolyData({'size': (100, 100), 'shape': (10, 10)})}), 'grids': PolyData({'Q4': PolyData({'size': (100, 100), 'shape': (10, 10)}), 'H8': PolyData({'size': (100, 100, 100), 'shape': (8, 6, 2)})})})"
      ]
     },
     "execution_count": 113,
     "metadata": {},
     "output_type": "execute_result"
    }
   ],
   "source": [
    "mesh.to_standard_form()"
   ]
  },
  {
   "cell_type": "code",
   "execution_count": 114,
   "metadata": {},
   "outputs": [
    {
     "data": {
      "text/plain": [
       "VectorBase([[   0.        ,    0.        , -200.        ],\n",
       "            [  11.11111111,    0.        , -200.        ],\n",
       "            [  22.22222222,    0.        , -200.        ],\n",
       "            ...,\n",
       "            [ 100.        ,  100.        ,    0.        ],\n",
       "            [ 100.        ,  100.        ,   50.        ],\n",
       "            [ 100.        ,  100.        ,  100.        ]])"
      ]
     },
     "execution_count": 114,
     "metadata": {},
     "output_type": "execute_result"
    }
   ],
   "source": [
    "mesh.coords()"
   ]
  },
  {
   "cell_type": "code",
   "execution_count": 115,
   "metadata": {},
   "outputs": [
    {
     "data": {
      "text/plain": [
       "VectorBase([[  0.        ,   0.        ,   0.        ],\n",
       "            [  0.        ,   0.        ,  50.        ],\n",
       "            [  0.        ,   0.        , 100.        ],\n",
       "            [  0.        ,  16.66666667,   0.        ],\n",
       "            [  0.        ,  16.66666667,  50.        ],\n",
       "            [  0.        ,  16.66666667, 100.        ],\n",
       "            [  0.        ,  33.33333333,   0.        ],\n",
       "            [  0.        ,  33.33333333,  50.        ],\n",
       "            [  0.        ,  33.33333333, 100.        ],\n",
       "            [  0.        ,  50.        ,   0.        ],\n",
       "            [  0.        ,  50.        ,  50.        ],\n",
       "            [  0.        ,  50.        , 100.        ],\n",
       "            [  0.        ,  66.66666667,   0.        ],\n",
       "            [  0.        ,  66.66666667,  50.        ],\n",
       "            [  0.        ,  66.66666667, 100.        ],\n",
       "            [  0.        ,  83.33333333,   0.        ],\n",
       "            [  0.        ,  83.33333333,  50.        ],\n",
       "            [  0.        ,  83.33333333, 100.        ],\n",
       "            [  0.        , 100.        ,   0.        ],\n",
       "            [  0.        , 100.        ,  50.        ],\n",
       "            [  0.        , 100.        , 100.        ],\n",
       "            [ 12.5       ,   0.        ,   0.        ],\n",
       "            [ 12.5       ,   0.        ,  50.        ],\n",
       "            [ 12.5       ,   0.        , 100.        ],\n",
       "            [ 12.5       ,  16.66666667,   0.        ],\n",
       "            [ 12.5       ,  16.66666667,  50.        ],\n",
       "            [ 12.5       ,  16.66666667, 100.        ],\n",
       "            [ 12.5       ,  33.33333333,   0.        ],\n",
       "            [ 12.5       ,  33.33333333,  50.        ],\n",
       "            [ 12.5       ,  33.33333333, 100.        ],\n",
       "            [ 12.5       ,  50.        ,   0.        ],\n",
       "            [ 12.5       ,  50.        ,  50.        ],\n",
       "            [ 12.5       ,  50.        , 100.        ],\n",
       "            [ 12.5       ,  66.66666667,   0.        ],\n",
       "            [ 12.5       ,  66.66666667,  50.        ],\n",
       "            [ 12.5       ,  66.66666667, 100.        ],\n",
       "            [ 12.5       ,  83.33333333,   0.        ],\n",
       "            [ 12.5       ,  83.33333333,  50.        ],\n",
       "            [ 12.5       ,  83.33333333, 100.        ],\n",
       "            [ 12.5       , 100.        ,   0.        ],\n",
       "            [ 12.5       , 100.        ,  50.        ],\n",
       "            [ 12.5       , 100.        , 100.        ],\n",
       "            [ 25.        ,   0.        ,   0.        ],\n",
       "            [ 25.        ,   0.        ,  50.        ],\n",
       "            [ 25.        ,   0.        , 100.        ],\n",
       "            [ 25.        ,  16.66666667,   0.        ],\n",
       "            [ 25.        ,  16.66666667,  50.        ],\n",
       "            [ 25.        ,  16.66666667, 100.        ],\n",
       "            [ 25.        ,  33.33333333,   0.        ],\n",
       "            [ 25.        ,  33.33333333,  50.        ],\n",
       "            [ 25.        ,  33.33333333, 100.        ],\n",
       "            [ 25.        ,  50.        ,   0.        ],\n",
       "            [ 25.        ,  50.        ,  50.        ],\n",
       "            [ 25.        ,  50.        , 100.        ],\n",
       "            [ 25.        ,  66.66666667,   0.        ],\n",
       "            [ 25.        ,  66.66666667,  50.        ],\n",
       "            [ 25.        ,  66.66666667, 100.        ],\n",
       "            [ 25.        ,  83.33333333,   0.        ],\n",
       "            [ 25.        ,  83.33333333,  50.        ],\n",
       "            [ 25.        ,  83.33333333, 100.        ],\n",
       "            [ 25.        , 100.        ,   0.        ],\n",
       "            [ 25.        , 100.        ,  50.        ],\n",
       "            [ 25.        , 100.        , 100.        ],\n",
       "            [ 37.5       ,   0.        ,   0.        ],\n",
       "            [ 37.5       ,   0.        ,  50.        ],\n",
       "            [ 37.5       ,   0.        , 100.        ],\n",
       "            [ 37.5       ,  16.66666667,   0.        ],\n",
       "            [ 37.5       ,  16.66666667,  50.        ],\n",
       "            [ 37.5       ,  16.66666667, 100.        ],\n",
       "            [ 37.5       ,  33.33333333,   0.        ],\n",
       "            [ 37.5       ,  33.33333333,  50.        ],\n",
       "            [ 37.5       ,  33.33333333, 100.        ],\n",
       "            [ 37.5       ,  50.        ,   0.        ],\n",
       "            [ 37.5       ,  50.        ,  50.        ],\n",
       "            [ 37.5       ,  50.        , 100.        ],\n",
       "            [ 37.5       ,  66.66666667,   0.        ],\n",
       "            [ 37.5       ,  66.66666667,  50.        ],\n",
       "            [ 37.5       ,  66.66666667, 100.        ],\n",
       "            [ 37.5       ,  83.33333333,   0.        ],\n",
       "            [ 37.5       ,  83.33333333,  50.        ],\n",
       "            [ 37.5       ,  83.33333333, 100.        ],\n",
       "            [ 37.5       , 100.        ,   0.        ],\n",
       "            [ 37.5       , 100.        ,  50.        ],\n",
       "            [ 37.5       , 100.        , 100.        ],\n",
       "            [ 50.        ,   0.        ,   0.        ],\n",
       "            [ 50.        ,   0.        ,  50.        ],\n",
       "            [ 50.        ,   0.        , 100.        ],\n",
       "            [ 50.        ,  16.66666667,   0.        ],\n",
       "            [ 50.        ,  16.66666667,  50.        ],\n",
       "            [ 50.        ,  16.66666667, 100.        ],\n",
       "            [ 50.        ,  33.33333333,   0.        ],\n",
       "            [ 50.        ,  33.33333333,  50.        ],\n",
       "            [ 50.        ,  33.33333333, 100.        ],\n",
       "            [ 50.        ,  50.        ,   0.        ],\n",
       "            [ 50.        ,  50.        ,  50.        ],\n",
       "            [ 50.        ,  50.        , 100.        ],\n",
       "            [ 50.        ,  66.66666667,   0.        ],\n",
       "            [ 50.        ,  66.66666667,  50.        ],\n",
       "            [ 50.        ,  66.66666667, 100.        ],\n",
       "            [ 50.        ,  83.33333333,   0.        ],\n",
       "            [ 50.        ,  83.33333333,  50.        ],\n",
       "            [ 50.        ,  83.33333333, 100.        ],\n",
       "            [ 50.        , 100.        ,   0.        ],\n",
       "            [ 50.        , 100.        ,  50.        ],\n",
       "            [ 50.        , 100.        , 100.        ],\n",
       "            [ 62.5       ,   0.        ,   0.        ],\n",
       "            [ 62.5       ,   0.        ,  50.        ],\n",
       "            [ 62.5       ,   0.        , 100.        ],\n",
       "            [ 62.5       ,  16.66666667,   0.        ],\n",
       "            [ 62.5       ,  16.66666667,  50.        ],\n",
       "            [ 62.5       ,  16.66666667, 100.        ],\n",
       "            [ 62.5       ,  33.33333333,   0.        ],\n",
       "            [ 62.5       ,  33.33333333,  50.        ],\n",
       "            [ 62.5       ,  33.33333333, 100.        ],\n",
       "            [ 62.5       ,  50.        ,   0.        ],\n",
       "            [ 62.5       ,  50.        ,  50.        ],\n",
       "            [ 62.5       ,  50.        , 100.        ],\n",
       "            [ 62.5       ,  66.66666667,   0.        ],\n",
       "            [ 62.5       ,  66.66666667,  50.        ],\n",
       "            [ 62.5       ,  66.66666667, 100.        ],\n",
       "            [ 62.5       ,  83.33333333,   0.        ],\n",
       "            [ 62.5       ,  83.33333333,  50.        ],\n",
       "            [ 62.5       ,  83.33333333, 100.        ],\n",
       "            [ 62.5       , 100.        ,   0.        ],\n",
       "            [ 62.5       , 100.        ,  50.        ],\n",
       "            [ 62.5       , 100.        , 100.        ],\n",
       "            [ 75.        ,   0.        ,   0.        ],\n",
       "            [ 75.        ,   0.        ,  50.        ],\n",
       "            [ 75.        ,   0.        , 100.        ],\n",
       "            [ 75.        ,  16.66666667,   0.        ],\n",
       "            [ 75.        ,  16.66666667,  50.        ],\n",
       "            [ 75.        ,  16.66666667, 100.        ],\n",
       "            [ 75.        ,  33.33333333,   0.        ],\n",
       "            [ 75.        ,  33.33333333,  50.        ],\n",
       "            [ 75.        ,  33.33333333, 100.        ],\n",
       "            [ 75.        ,  50.        ,   0.        ],\n",
       "            [ 75.        ,  50.        ,  50.        ],\n",
       "            [ 75.        ,  50.        , 100.        ],\n",
       "            [ 75.        ,  66.66666667,   0.        ],\n",
       "            [ 75.        ,  66.66666667,  50.        ],\n",
       "            [ 75.        ,  66.66666667, 100.        ],\n",
       "            [ 75.        ,  83.33333333,   0.        ],\n",
       "            [ 75.        ,  83.33333333,  50.        ],\n",
       "            [ 75.        ,  83.33333333, 100.        ],\n",
       "            [ 75.        , 100.        ,   0.        ],\n",
       "            [ 75.        , 100.        ,  50.        ],\n",
       "            [ 75.        , 100.        , 100.        ],\n",
       "            [ 87.5       ,   0.        ,   0.        ],\n",
       "            [ 87.5       ,   0.        ,  50.        ],\n",
       "            [ 87.5       ,   0.        , 100.        ],\n",
       "            [ 87.5       ,  16.66666667,   0.        ],\n",
       "            [ 87.5       ,  16.66666667,  50.        ],\n",
       "            [ 87.5       ,  16.66666667, 100.        ],\n",
       "            [ 87.5       ,  33.33333333,   0.        ],\n",
       "            [ 87.5       ,  33.33333333,  50.        ],\n",
       "            [ 87.5       ,  33.33333333, 100.        ],\n",
       "            [ 87.5       ,  50.        ,   0.        ],\n",
       "            [ 87.5       ,  50.        ,  50.        ],\n",
       "            [ 87.5       ,  50.        , 100.        ],\n",
       "            [ 87.5       ,  66.66666667,   0.        ],\n",
       "            [ 87.5       ,  66.66666667,  50.        ],\n",
       "            [ 87.5       ,  66.66666667, 100.        ],\n",
       "            [ 87.5       ,  83.33333333,   0.        ],\n",
       "            [ 87.5       ,  83.33333333,  50.        ],\n",
       "            [ 87.5       ,  83.33333333, 100.        ],\n",
       "            [ 87.5       , 100.        ,   0.        ],\n",
       "            [ 87.5       , 100.        ,  50.        ],\n",
       "            [ 87.5       , 100.        , 100.        ],\n",
       "            [100.        ,   0.        ,   0.        ],\n",
       "            [100.        ,   0.        ,  50.        ],\n",
       "            [100.        ,   0.        , 100.        ],\n",
       "            [100.        ,  16.66666667,   0.        ],\n",
       "            [100.        ,  16.66666667,  50.        ],\n",
       "            [100.        ,  16.66666667, 100.        ],\n",
       "            [100.        ,  33.33333333,   0.        ],\n",
       "            [100.        ,  33.33333333,  50.        ],\n",
       "            [100.        ,  33.33333333, 100.        ],\n",
       "            [100.        ,  50.        ,   0.        ],\n",
       "            [100.        ,  50.        ,  50.        ],\n",
       "            [100.        ,  50.        , 100.        ],\n",
       "            [100.        ,  66.66666667,   0.        ],\n",
       "            [100.        ,  66.66666667,  50.        ],\n",
       "            [100.        ,  66.66666667, 100.        ],\n",
       "            [100.        ,  83.33333333,   0.        ],\n",
       "            [100.        ,  83.33333333,  50.        ],\n",
       "            [100.        ,  83.33333333, 100.        ],\n",
       "            [100.        , 100.        ,   0.        ],\n",
       "            [100.        , 100.        ,  50.        ],\n",
       "            [100.        , 100.        , 100.        ]])"
      ]
     },
     "execution_count": 115,
     "metadata": {},
     "output_type": "execute_result"
    }
   ],
   "source": [
    "mesh['grids', 'H8'].coords(from_cells=True)"
   ]
  },
  {
   "cell_type": "code",
   "execution_count": 116,
   "metadata": {},
   "outputs": [
    {
     "data": {
      "text/plain": [
       "VectorBase([[  0.        ,   0.        , 200.        ],\n",
       "            [  0.        ,  10.        , 200.        ],\n",
       "            [  0.        ,  20.        , 200.        ],\n",
       "            [  0.        ,  30.        , 200.        ],\n",
       "            [  0.        ,  40.        , 200.        ],\n",
       "            [  0.        ,  50.        , 200.        ],\n",
       "            [  0.        ,  60.        , 200.        ],\n",
       "            [  0.        ,  70.        , 200.        ],\n",
       "            [  0.        ,  80.        , 200.        ],\n",
       "            [  0.        ,  90.        , 200.        ],\n",
       "            [  0.        , 100.        , 200.        ],\n",
       "            [ 10.        ,   0.        , 200.        ],\n",
       "            [ 10.        ,  10.        , 200.        ],\n",
       "            [ 10.        ,  20.        , 200.        ],\n",
       "            [ 10.        ,  30.        , 200.        ],\n",
       "            [ 10.        ,  40.        , 200.        ],\n",
       "            [ 10.        ,  50.        , 200.        ],\n",
       "            [ 10.        ,  60.        , 200.        ],\n",
       "            [ 10.        ,  70.        , 200.        ],\n",
       "            [ 10.        ,  80.        , 200.        ],\n",
       "            [ 10.        ,  90.        , 200.        ],\n",
       "            [ 10.        , 100.        , 200.        ],\n",
       "            [ 20.        ,   0.        , 200.        ],\n",
       "            [ 20.        ,  10.        , 200.        ],\n",
       "            [ 20.        ,  20.        , 200.        ],\n",
       "            [ 20.        ,  30.        , 200.        ],\n",
       "            [ 20.        ,  40.        , 200.        ],\n",
       "            [ 20.        ,  50.        , 200.        ],\n",
       "            [ 20.        ,  60.        , 200.        ],\n",
       "            [ 20.        ,  70.        , 200.        ],\n",
       "            [ 20.        ,  80.        , 200.        ],\n",
       "            [ 20.        ,  90.        , 200.        ],\n",
       "            [ 20.        , 100.        , 200.        ],\n",
       "            [ 30.        ,   0.        , 200.        ],\n",
       "            [ 30.        ,  10.        , 200.        ],\n",
       "            [ 30.        ,  20.        , 200.        ],\n",
       "            [ 30.        ,  30.        , 200.        ],\n",
       "            [ 30.        ,  40.        , 200.        ],\n",
       "            [ 30.        ,  50.        , 200.        ],\n",
       "            [ 30.        ,  60.        , 200.        ],\n",
       "            [ 30.        ,  70.        , 200.        ],\n",
       "            [ 30.        ,  80.        , 200.        ],\n",
       "            [ 30.        ,  90.        , 200.        ],\n",
       "            [ 30.        , 100.        , 200.        ],\n",
       "            [ 40.        ,   0.        , 200.        ],\n",
       "            [ 40.        ,  10.        , 200.        ],\n",
       "            [ 40.        ,  20.        , 200.        ],\n",
       "            [ 40.        ,  30.        , 200.        ],\n",
       "            [ 40.        ,  40.        , 200.        ],\n",
       "            [ 40.        ,  50.        , 200.        ],\n",
       "            [ 40.        ,  60.        , 200.        ],\n",
       "            [ 40.        ,  70.        , 200.        ],\n",
       "            [ 40.        ,  80.        , 200.        ],\n",
       "            [ 40.        ,  90.        , 200.        ],\n",
       "            [ 40.        , 100.        , 200.        ],\n",
       "            [ 50.        ,   0.        , 200.        ],\n",
       "            [ 50.        ,  10.        , 200.        ],\n",
       "            [ 50.        ,  20.        , 200.        ],\n",
       "            [ 50.        ,  30.        , 200.        ],\n",
       "            [ 50.        ,  40.        , 200.        ],\n",
       "            [ 50.        ,  50.        , 200.        ],\n",
       "            [ 50.        ,  60.        , 200.        ],\n",
       "            [ 50.        ,  70.        , 200.        ],\n",
       "            [ 50.        ,  80.        , 200.        ],\n",
       "            [ 50.        ,  90.        , 200.        ],\n",
       "            [ 50.        , 100.        , 200.        ],\n",
       "            [ 60.        ,   0.        , 200.        ],\n",
       "            [ 60.        ,  10.        , 200.        ],\n",
       "            [ 60.        ,  20.        , 200.        ],\n",
       "            [ 60.        ,  30.        , 200.        ],\n",
       "            [ 60.        ,  40.        , 200.        ],\n",
       "            [ 60.        ,  50.        , 200.        ],\n",
       "            [ 60.        ,  60.        , 200.        ],\n",
       "            [ 60.        ,  70.        , 200.        ],\n",
       "            [ 60.        ,  80.        , 200.        ],\n",
       "            [ 60.        ,  90.        , 200.        ],\n",
       "            [ 60.        , 100.        , 200.        ],\n",
       "            [ 70.        ,   0.        , 200.        ],\n",
       "            [ 70.        ,  10.        , 200.        ],\n",
       "            [ 70.        ,  20.        , 200.        ],\n",
       "            [ 70.        ,  30.        , 200.        ],\n",
       "            [ 70.        ,  40.        , 200.        ],\n",
       "            [ 70.        ,  50.        , 200.        ],\n",
       "            [ 70.        ,  60.        , 200.        ],\n",
       "            [ 70.        ,  70.        , 200.        ],\n",
       "            [ 70.        ,  80.        , 200.        ],\n",
       "            [ 70.        ,  90.        , 200.        ],\n",
       "            [ 70.        , 100.        , 200.        ],\n",
       "            [ 80.        ,   0.        , 200.        ],\n",
       "            [ 80.        ,  10.        , 200.        ],\n",
       "            [ 80.        ,  20.        , 200.        ],\n",
       "            [ 80.        ,  30.        , 200.        ],\n",
       "            [ 80.        ,  40.        , 200.        ],\n",
       "            [ 80.        ,  50.        , 200.        ],\n",
       "            [ 80.        ,  60.        , 200.        ],\n",
       "            [ 80.        ,  70.        , 200.        ],\n",
       "            [ 80.        ,  80.        , 200.        ],\n",
       "            [ 80.        ,  90.        , 200.        ],\n",
       "            [ 80.        , 100.        , 200.        ],\n",
       "            [ 90.        ,   0.        , 200.        ],\n",
       "            [ 90.        ,  10.        , 200.        ],\n",
       "            [ 90.        ,  20.        , 200.        ],\n",
       "            [ 90.        ,  30.        , 200.        ],\n",
       "            [ 90.        ,  40.        , 200.        ],\n",
       "            [ 90.        ,  50.        , 200.        ],\n",
       "            [ 90.        ,  60.        , 200.        ],\n",
       "            [ 90.        ,  70.        , 200.        ],\n",
       "            [ 90.        ,  80.        , 200.        ],\n",
       "            [ 90.        ,  90.        , 200.        ],\n",
       "            [ 90.        , 100.        , 200.        ],\n",
       "            [100.        ,   0.        , 200.        ],\n",
       "            [100.        ,  10.        , 200.        ],\n",
       "            [100.        ,  20.        , 200.        ],\n",
       "            [100.        ,  30.        , 200.        ],\n",
       "            [100.        ,  40.        , 200.        ],\n",
       "            [100.        ,  50.        , 200.        ],\n",
       "            [100.        ,  60.        , 200.        ],\n",
       "            [100.        ,  70.        , 200.        ],\n",
       "            [100.        ,  80.        , 200.        ],\n",
       "            [100.        ,  90.        , 200.        ],\n",
       "            [100.        , 100.        , 200.        ],\n",
       "            [  0.        ,   0.        ,   0.        ],\n",
       "            [  0.        ,   0.        ,  50.        ],\n",
       "            [  0.        ,   0.        , 100.        ],\n",
       "            [  0.        ,  16.66666667,   0.        ],\n",
       "            [  0.        ,  16.66666667,  50.        ],\n",
       "            [  0.        ,  16.66666667, 100.        ],\n",
       "            [  0.        ,  33.33333333,   0.        ],\n",
       "            [  0.        ,  33.33333333,  50.        ],\n",
       "            [  0.        ,  33.33333333, 100.        ],\n",
       "            [  0.        ,  50.        ,   0.        ],\n",
       "            [  0.        ,  50.        ,  50.        ],\n",
       "            [  0.        ,  50.        , 100.        ],\n",
       "            [  0.        ,  66.66666667,   0.        ],\n",
       "            [  0.        ,  66.66666667,  50.        ],\n",
       "            [  0.        ,  66.66666667, 100.        ],\n",
       "            [  0.        ,  83.33333333,   0.        ],\n",
       "            [  0.        ,  83.33333333,  50.        ],\n",
       "            [  0.        ,  83.33333333, 100.        ],\n",
       "            [  0.        , 100.        ,   0.        ],\n",
       "            [  0.        , 100.        ,  50.        ],\n",
       "            [  0.        , 100.        , 100.        ],\n",
       "            [ 12.5       ,   0.        ,   0.        ],\n",
       "            [ 12.5       ,   0.        ,  50.        ],\n",
       "            [ 12.5       ,   0.        , 100.        ],\n",
       "            [ 12.5       ,  16.66666667,   0.        ],\n",
       "            [ 12.5       ,  16.66666667,  50.        ],\n",
       "            [ 12.5       ,  16.66666667, 100.        ],\n",
       "            [ 12.5       ,  33.33333333,   0.        ],\n",
       "            [ 12.5       ,  33.33333333,  50.        ],\n",
       "            [ 12.5       ,  33.33333333, 100.        ],\n",
       "            [ 12.5       ,  50.        ,   0.        ],\n",
       "            [ 12.5       ,  50.        ,  50.        ],\n",
       "            [ 12.5       ,  50.        , 100.        ],\n",
       "            [ 12.5       ,  66.66666667,   0.        ],\n",
       "            [ 12.5       ,  66.66666667,  50.        ],\n",
       "            [ 12.5       ,  66.66666667, 100.        ],\n",
       "            [ 12.5       ,  83.33333333,   0.        ],\n",
       "            [ 12.5       ,  83.33333333,  50.        ],\n",
       "            [ 12.5       ,  83.33333333, 100.        ],\n",
       "            [ 12.5       , 100.        ,   0.        ],\n",
       "            [ 12.5       , 100.        ,  50.        ],\n",
       "            [ 12.5       , 100.        , 100.        ],\n",
       "            [ 25.        ,   0.        ,   0.        ],\n",
       "            [ 25.        ,   0.        ,  50.        ],\n",
       "            [ 25.        ,   0.        , 100.        ],\n",
       "            [ 25.        ,  16.66666667,   0.        ],\n",
       "            [ 25.        ,  16.66666667,  50.        ],\n",
       "            [ 25.        ,  16.66666667, 100.        ],\n",
       "            [ 25.        ,  33.33333333,   0.        ],\n",
       "            [ 25.        ,  33.33333333,  50.        ],\n",
       "            [ 25.        ,  33.33333333, 100.        ],\n",
       "            [ 25.        ,  50.        ,   0.        ],\n",
       "            [ 25.        ,  50.        ,  50.        ],\n",
       "            [ 25.        ,  50.        , 100.        ],\n",
       "            [ 25.        ,  66.66666667,   0.        ],\n",
       "            [ 25.        ,  66.66666667,  50.        ],\n",
       "            [ 25.        ,  66.66666667, 100.        ],\n",
       "            [ 25.        ,  83.33333333,   0.        ],\n",
       "            [ 25.        ,  83.33333333,  50.        ],\n",
       "            [ 25.        ,  83.33333333, 100.        ],\n",
       "            [ 25.        , 100.        ,   0.        ],\n",
       "            [ 25.        , 100.        ,  50.        ],\n",
       "            [ 25.        , 100.        , 100.        ],\n",
       "            [ 37.5       ,   0.        ,   0.        ],\n",
       "            [ 37.5       ,   0.        ,  50.        ],\n",
       "            [ 37.5       ,   0.        , 100.        ],\n",
       "            [ 37.5       ,  16.66666667,   0.        ],\n",
       "            [ 37.5       ,  16.66666667,  50.        ],\n",
       "            [ 37.5       ,  16.66666667, 100.        ],\n",
       "            [ 37.5       ,  33.33333333,   0.        ],\n",
       "            [ 37.5       ,  33.33333333,  50.        ],\n",
       "            [ 37.5       ,  33.33333333, 100.        ],\n",
       "            [ 37.5       ,  50.        ,   0.        ],\n",
       "            [ 37.5       ,  50.        ,  50.        ],\n",
       "            [ 37.5       ,  50.        , 100.        ],\n",
       "            [ 37.5       ,  66.66666667,   0.        ],\n",
       "            [ 37.5       ,  66.66666667,  50.        ],\n",
       "            [ 37.5       ,  66.66666667, 100.        ],\n",
       "            [ 37.5       ,  83.33333333,   0.        ],\n",
       "            [ 37.5       ,  83.33333333,  50.        ],\n",
       "            [ 37.5       ,  83.33333333, 100.        ],\n",
       "            [ 37.5       , 100.        ,   0.        ],\n",
       "            [ 37.5       , 100.        ,  50.        ],\n",
       "            [ 37.5       , 100.        , 100.        ],\n",
       "            [ 50.        ,   0.        ,   0.        ],\n",
       "            [ 50.        ,   0.        ,  50.        ],\n",
       "            [ 50.        ,   0.        , 100.        ],\n",
       "            [ 50.        ,  16.66666667,   0.        ],\n",
       "            [ 50.        ,  16.66666667,  50.        ],\n",
       "            [ 50.        ,  16.66666667, 100.        ],\n",
       "            [ 50.        ,  33.33333333,   0.        ],\n",
       "            [ 50.        ,  33.33333333,  50.        ],\n",
       "            [ 50.        ,  33.33333333, 100.        ],\n",
       "            [ 50.        ,  50.        ,   0.        ],\n",
       "            [ 50.        ,  50.        ,  50.        ],\n",
       "            [ 50.        ,  50.        , 100.        ],\n",
       "            [ 50.        ,  66.66666667,   0.        ],\n",
       "            [ 50.        ,  66.66666667,  50.        ],\n",
       "            [ 50.        ,  66.66666667, 100.        ],\n",
       "            [ 50.        ,  83.33333333,   0.        ],\n",
       "            [ 50.        ,  83.33333333,  50.        ],\n",
       "            [ 50.        ,  83.33333333, 100.        ],\n",
       "            [ 50.        , 100.        ,   0.        ],\n",
       "            [ 50.        , 100.        ,  50.        ],\n",
       "            [ 50.        , 100.        , 100.        ],\n",
       "            [ 62.5       ,   0.        ,   0.        ],\n",
       "            [ 62.5       ,   0.        ,  50.        ],\n",
       "            [ 62.5       ,   0.        , 100.        ],\n",
       "            [ 62.5       ,  16.66666667,   0.        ],\n",
       "            [ 62.5       ,  16.66666667,  50.        ],\n",
       "            [ 62.5       ,  16.66666667, 100.        ],\n",
       "            [ 62.5       ,  33.33333333,   0.        ],\n",
       "            [ 62.5       ,  33.33333333,  50.        ],\n",
       "            [ 62.5       ,  33.33333333, 100.        ],\n",
       "            [ 62.5       ,  50.        ,   0.        ],\n",
       "            [ 62.5       ,  50.        ,  50.        ],\n",
       "            [ 62.5       ,  50.        , 100.        ],\n",
       "            [ 62.5       ,  66.66666667,   0.        ],\n",
       "            [ 62.5       ,  66.66666667,  50.        ],\n",
       "            [ 62.5       ,  66.66666667, 100.        ],\n",
       "            [ 62.5       ,  83.33333333,   0.        ],\n",
       "            [ 62.5       ,  83.33333333,  50.        ],\n",
       "            [ 62.5       ,  83.33333333, 100.        ],\n",
       "            [ 62.5       , 100.        ,   0.        ],\n",
       "            [ 62.5       , 100.        ,  50.        ],\n",
       "            [ 62.5       , 100.        , 100.        ],\n",
       "            [ 75.        ,   0.        ,   0.        ],\n",
       "            [ 75.        ,   0.        ,  50.        ],\n",
       "            [ 75.        ,   0.        , 100.        ],\n",
       "            [ 75.        ,  16.66666667,   0.        ],\n",
       "            [ 75.        ,  16.66666667,  50.        ],\n",
       "            [ 75.        ,  16.66666667, 100.        ],\n",
       "            [ 75.        ,  33.33333333,   0.        ],\n",
       "            [ 75.        ,  33.33333333,  50.        ],\n",
       "            [ 75.        ,  33.33333333, 100.        ],\n",
       "            [ 75.        ,  50.        ,   0.        ],\n",
       "            [ 75.        ,  50.        ,  50.        ],\n",
       "            [ 75.        ,  50.        , 100.        ],\n",
       "            [ 75.        ,  66.66666667,   0.        ],\n",
       "            [ 75.        ,  66.66666667,  50.        ],\n",
       "            [ 75.        ,  66.66666667, 100.        ],\n",
       "            [ 75.        ,  83.33333333,   0.        ],\n",
       "            [ 75.        ,  83.33333333,  50.        ],\n",
       "            [ 75.        ,  83.33333333, 100.        ],\n",
       "            [ 75.        , 100.        ,   0.        ],\n",
       "            [ 75.        , 100.        ,  50.        ],\n",
       "            [ 75.        , 100.        , 100.        ],\n",
       "            [ 87.5       ,   0.        ,   0.        ],\n",
       "            [ 87.5       ,   0.        ,  50.        ],\n",
       "            [ 87.5       ,   0.        , 100.        ],\n",
       "            [ 87.5       ,  16.66666667,   0.        ],\n",
       "            [ 87.5       ,  16.66666667,  50.        ],\n",
       "            [ 87.5       ,  16.66666667, 100.        ],\n",
       "            [ 87.5       ,  33.33333333,   0.        ],\n",
       "            [ 87.5       ,  33.33333333,  50.        ],\n",
       "            [ 87.5       ,  33.33333333, 100.        ],\n",
       "            [ 87.5       ,  50.        ,   0.        ],\n",
       "            [ 87.5       ,  50.        ,  50.        ],\n",
       "            [ 87.5       ,  50.        , 100.        ],\n",
       "            [ 87.5       ,  66.66666667,   0.        ],\n",
       "            [ 87.5       ,  66.66666667,  50.        ],\n",
       "            [ 87.5       ,  66.66666667, 100.        ],\n",
       "            [ 87.5       ,  83.33333333,   0.        ],\n",
       "            [ 87.5       ,  83.33333333,  50.        ],\n",
       "            [ 87.5       ,  83.33333333, 100.        ],\n",
       "            [ 87.5       , 100.        ,   0.        ],\n",
       "            [ 87.5       , 100.        ,  50.        ],\n",
       "            [ 87.5       , 100.        , 100.        ],\n",
       "            [100.        ,   0.        ,   0.        ],\n",
       "            [100.        ,   0.        ,  50.        ],\n",
       "            [100.        ,   0.        , 100.        ],\n",
       "            [100.        ,  16.66666667,   0.        ],\n",
       "            [100.        ,  16.66666667,  50.        ],\n",
       "            [100.        ,  16.66666667, 100.        ],\n",
       "            [100.        ,  33.33333333,   0.        ],\n",
       "            [100.        ,  33.33333333,  50.        ],\n",
       "            [100.        ,  33.33333333, 100.        ],\n",
       "            [100.        ,  50.        ,   0.        ],\n",
       "            [100.        ,  50.        ,  50.        ],\n",
       "            [100.        ,  50.        , 100.        ],\n",
       "            [100.        ,  66.66666667,   0.        ],\n",
       "            [100.        ,  66.66666667,  50.        ],\n",
       "            [100.        ,  66.66666667, 100.        ],\n",
       "            [100.        ,  83.33333333,   0.        ],\n",
       "            [100.        ,  83.33333333,  50.        ],\n",
       "            [100.        ,  83.33333333, 100.        ],\n",
       "            [100.        , 100.        ,   0.        ],\n",
       "            [100.        , 100.        ,  50.        ],\n",
       "            [100.        , 100.        , 100.        ]])"
      ]
     },
     "execution_count": 116,
     "metadata": {},
     "output_type": "execute_result"
    }
   ],
   "source": [
    "mesh['grids'].coords(from_cells=True)"
   ]
  },
  {
   "cell_type": "code",
   "execution_count": 117,
   "metadata": {},
   "outputs": [
    {
     "data": {
      "text/plain": [
       "(410, 3)"
      ]
     },
     "execution_count": 117,
     "metadata": {},
     "output_type": "execute_result"
    }
   ],
   "source": [
    "mesh.coords().shape"
   ]
  },
  {
   "cell_type": "code",
   "execution_count": 118,
   "metadata": {},
   "outputs": [
    {
     "data": {
      "text/plain": [
       "False"
      ]
     },
     "execution_count": 118,
     "metadata": {},
     "output_type": "execute_result"
    }
   ],
   "source": [
    "mesh['grids'].is_root()"
   ]
  },
  {
   "cell_type": "code",
   "execution_count": 119,
   "metadata": {},
   "outputs": [
    {
     "data": {
      "text/plain": [
       "196"
      ]
     },
     "execution_count": 119,
     "metadata": {},
     "output_type": "execute_result"
    }
   ],
   "source": [
    "mesh['grids'].topology().shape[0]"
   ]
  },
  {
   "cell_type": "code",
   "execution_count": 120,
   "metadata": {},
   "outputs": [
    {
     "data": {
      "text/plain": [
       "PolyData({'tri': PolyData({'T3': PolyData({'size': (100, 100), 'shape': (10, 10)})}), 'grids': PolyData({'Q4': PolyData({'size': (100, 100), 'shape': (10, 10)}), 'H8': PolyData({'size': (100, 100, 100), 'shape': (8, 6, 2)})})})"
      ]
     },
     "execution_count": 120,
     "metadata": {},
     "output_type": "execute_result"
    }
   ],
   "source": [
    "mesh['grids', 'Q4'].source()"
   ]
  },
  {
   "cell_type": "code",
   "execution_count": 121,
   "metadata": {},
   "outputs": [
    {
     "data": {
      "text/plain": [
       "VectorBase([[   0.        ,    0.        , -200.        ],\n",
       "            [  11.11111111,    0.        , -200.        ],\n",
       "            [  22.22222222,    0.        , -200.        ],\n",
       "            ...,\n",
       "            [ 100.        ,  100.        ,    0.        ],\n",
       "            [ 100.        ,  100.        ,   50.        ],\n",
       "            [ 100.        ,  100.        ,  100.        ]])"
      ]
     },
     "execution_count": 121,
     "metadata": {},
     "output_type": "execute_result"
    }
   ],
   "source": [
    "mesh.coords()"
   ]
  },
  {
   "cell_type": "code",
   "execution_count": 122,
   "metadata": {},
   "outputs": [
    {
     "data": {
      "text/plain": [
       "VectorBase([[  0.        ,   0.        ,   0.        ],\n",
       "            [  0.        ,   0.        ,  50.        ],\n",
       "            [  0.        ,   0.        , 100.        ],\n",
       "            [  0.        ,  16.66666667,   0.        ],\n",
       "            [  0.        ,  16.66666667,  50.        ],\n",
       "            [  0.        ,  16.66666667, 100.        ],\n",
       "            [  0.        ,  33.33333333,   0.        ],\n",
       "            [  0.        ,  33.33333333,  50.        ],\n",
       "            [  0.        ,  33.33333333, 100.        ],\n",
       "            [  0.        ,  50.        ,   0.        ],\n",
       "            [  0.        ,  50.        ,  50.        ],\n",
       "            [  0.        ,  50.        , 100.        ],\n",
       "            [  0.        ,  66.66666667,   0.        ],\n",
       "            [  0.        ,  66.66666667,  50.        ],\n",
       "            [  0.        ,  66.66666667, 100.        ],\n",
       "            [  0.        ,  83.33333333,   0.        ],\n",
       "            [  0.        ,  83.33333333,  50.        ],\n",
       "            [  0.        ,  83.33333333, 100.        ],\n",
       "            [  0.        , 100.        ,   0.        ],\n",
       "            [  0.        , 100.        ,  50.        ],\n",
       "            [  0.        , 100.        , 100.        ],\n",
       "            [ 12.5       ,   0.        ,   0.        ],\n",
       "            [ 12.5       ,   0.        ,  50.        ],\n",
       "            [ 12.5       ,   0.        , 100.        ],\n",
       "            [ 12.5       ,  16.66666667,   0.        ],\n",
       "            [ 12.5       ,  16.66666667,  50.        ],\n",
       "            [ 12.5       ,  16.66666667, 100.        ],\n",
       "            [ 12.5       ,  33.33333333,   0.        ],\n",
       "            [ 12.5       ,  33.33333333,  50.        ],\n",
       "            [ 12.5       ,  33.33333333, 100.        ],\n",
       "            [ 12.5       ,  50.        ,   0.        ],\n",
       "            [ 12.5       ,  50.        ,  50.        ],\n",
       "            [ 12.5       ,  50.        , 100.        ],\n",
       "            [ 12.5       ,  66.66666667,   0.        ],\n",
       "            [ 12.5       ,  66.66666667,  50.        ],\n",
       "            [ 12.5       ,  66.66666667, 100.        ],\n",
       "            [ 12.5       ,  83.33333333,   0.        ],\n",
       "            [ 12.5       ,  83.33333333,  50.        ],\n",
       "            [ 12.5       ,  83.33333333, 100.        ],\n",
       "            [ 12.5       , 100.        ,   0.        ],\n",
       "            [ 12.5       , 100.        ,  50.        ],\n",
       "            [ 12.5       , 100.        , 100.        ],\n",
       "            [ 25.        ,   0.        ,   0.        ],\n",
       "            [ 25.        ,   0.        ,  50.        ],\n",
       "            [ 25.        ,   0.        , 100.        ],\n",
       "            [ 25.        ,  16.66666667,   0.        ],\n",
       "            [ 25.        ,  16.66666667,  50.        ],\n",
       "            [ 25.        ,  16.66666667, 100.        ],\n",
       "            [ 25.        ,  33.33333333,   0.        ],\n",
       "            [ 25.        ,  33.33333333,  50.        ],\n",
       "            [ 25.        ,  33.33333333, 100.        ],\n",
       "            [ 25.        ,  50.        ,   0.        ],\n",
       "            [ 25.        ,  50.        ,  50.        ],\n",
       "            [ 25.        ,  50.        , 100.        ],\n",
       "            [ 25.        ,  66.66666667,   0.        ],\n",
       "            [ 25.        ,  66.66666667,  50.        ],\n",
       "            [ 25.        ,  66.66666667, 100.        ],\n",
       "            [ 25.        ,  83.33333333,   0.        ],\n",
       "            [ 25.        ,  83.33333333,  50.        ],\n",
       "            [ 25.        ,  83.33333333, 100.        ],\n",
       "            [ 25.        , 100.        ,   0.        ],\n",
       "            [ 25.        , 100.        ,  50.        ],\n",
       "            [ 25.        , 100.        , 100.        ],\n",
       "            [ 37.5       ,   0.        ,   0.        ],\n",
       "            [ 37.5       ,   0.        ,  50.        ],\n",
       "            [ 37.5       ,   0.        , 100.        ],\n",
       "            [ 37.5       ,  16.66666667,   0.        ],\n",
       "            [ 37.5       ,  16.66666667,  50.        ],\n",
       "            [ 37.5       ,  16.66666667, 100.        ],\n",
       "            [ 37.5       ,  33.33333333,   0.        ],\n",
       "            [ 37.5       ,  33.33333333,  50.        ],\n",
       "            [ 37.5       ,  33.33333333, 100.        ],\n",
       "            [ 37.5       ,  50.        ,   0.        ],\n",
       "            [ 37.5       ,  50.        ,  50.        ],\n",
       "            [ 37.5       ,  50.        , 100.        ],\n",
       "            [ 37.5       ,  66.66666667,   0.        ],\n",
       "            [ 37.5       ,  66.66666667,  50.        ],\n",
       "            [ 37.5       ,  66.66666667, 100.        ],\n",
       "            [ 37.5       ,  83.33333333,   0.        ],\n",
       "            [ 37.5       ,  83.33333333,  50.        ],\n",
       "            [ 37.5       ,  83.33333333, 100.        ],\n",
       "            [ 37.5       , 100.        ,   0.        ],\n",
       "            [ 37.5       , 100.        ,  50.        ],\n",
       "            [ 37.5       , 100.        , 100.        ],\n",
       "            [ 50.        ,   0.        ,   0.        ],\n",
       "            [ 50.        ,   0.        ,  50.        ],\n",
       "            [ 50.        ,   0.        , 100.        ],\n",
       "            [ 50.        ,  16.66666667,   0.        ],\n",
       "            [ 50.        ,  16.66666667,  50.        ],\n",
       "            [ 50.        ,  16.66666667, 100.        ],\n",
       "            [ 50.        ,  33.33333333,   0.        ],\n",
       "            [ 50.        ,  33.33333333,  50.        ],\n",
       "            [ 50.        ,  33.33333333, 100.        ],\n",
       "            [ 50.        ,  50.        ,   0.        ],\n",
       "            [ 50.        ,  50.        ,  50.        ],\n",
       "            [ 50.        ,  50.        , 100.        ],\n",
       "            [ 50.        ,  66.66666667,   0.        ],\n",
       "            [ 50.        ,  66.66666667,  50.        ],\n",
       "            [ 50.        ,  66.66666667, 100.        ],\n",
       "            [ 50.        ,  83.33333333,   0.        ],\n",
       "            [ 50.        ,  83.33333333,  50.        ],\n",
       "            [ 50.        ,  83.33333333, 100.        ],\n",
       "            [ 50.        , 100.        ,   0.        ],\n",
       "            [ 50.        , 100.        ,  50.        ],\n",
       "            [ 50.        , 100.        , 100.        ],\n",
       "            [ 62.5       ,   0.        ,   0.        ],\n",
       "            [ 62.5       ,   0.        ,  50.        ],\n",
       "            [ 62.5       ,   0.        , 100.        ],\n",
       "            [ 62.5       ,  16.66666667,   0.        ],\n",
       "            [ 62.5       ,  16.66666667,  50.        ],\n",
       "            [ 62.5       ,  16.66666667, 100.        ],\n",
       "            [ 62.5       ,  33.33333333,   0.        ],\n",
       "            [ 62.5       ,  33.33333333,  50.        ],\n",
       "            [ 62.5       ,  33.33333333, 100.        ],\n",
       "            [ 62.5       ,  50.        ,   0.        ],\n",
       "            [ 62.5       ,  50.        ,  50.        ],\n",
       "            [ 62.5       ,  50.        , 100.        ],\n",
       "            [ 62.5       ,  66.66666667,   0.        ],\n",
       "            [ 62.5       ,  66.66666667,  50.        ],\n",
       "            [ 62.5       ,  66.66666667, 100.        ],\n",
       "            [ 62.5       ,  83.33333333,   0.        ],\n",
       "            [ 62.5       ,  83.33333333,  50.        ],\n",
       "            [ 62.5       ,  83.33333333, 100.        ],\n",
       "            [ 62.5       , 100.        ,   0.        ],\n",
       "            [ 62.5       , 100.        ,  50.        ],\n",
       "            [ 62.5       , 100.        , 100.        ],\n",
       "            [ 75.        ,   0.        ,   0.        ],\n",
       "            [ 75.        ,   0.        ,  50.        ],\n",
       "            [ 75.        ,   0.        , 100.        ],\n",
       "            [ 75.        ,  16.66666667,   0.        ],\n",
       "            [ 75.        ,  16.66666667,  50.        ],\n",
       "            [ 75.        ,  16.66666667, 100.        ],\n",
       "            [ 75.        ,  33.33333333,   0.        ],\n",
       "            [ 75.        ,  33.33333333,  50.        ],\n",
       "            [ 75.        ,  33.33333333, 100.        ],\n",
       "            [ 75.        ,  50.        ,   0.        ],\n",
       "            [ 75.        ,  50.        ,  50.        ],\n",
       "            [ 75.        ,  50.        , 100.        ],\n",
       "            [ 75.        ,  66.66666667,   0.        ],\n",
       "            [ 75.        ,  66.66666667,  50.        ],\n",
       "            [ 75.        ,  66.66666667, 100.        ],\n",
       "            [ 75.        ,  83.33333333,   0.        ],\n",
       "            [ 75.        ,  83.33333333,  50.        ],\n",
       "            [ 75.        ,  83.33333333, 100.        ],\n",
       "            [ 75.        , 100.        ,   0.        ],\n",
       "            [ 75.        , 100.        ,  50.        ],\n",
       "            [ 75.        , 100.        , 100.        ],\n",
       "            [ 87.5       ,   0.        ,   0.        ],\n",
       "            [ 87.5       ,   0.        ,  50.        ],\n",
       "            [ 87.5       ,   0.        , 100.        ],\n",
       "            [ 87.5       ,  16.66666667,   0.        ],\n",
       "            [ 87.5       ,  16.66666667,  50.        ],\n",
       "            [ 87.5       ,  16.66666667, 100.        ],\n",
       "            [ 87.5       ,  33.33333333,   0.        ],\n",
       "            [ 87.5       ,  33.33333333,  50.        ],\n",
       "            [ 87.5       ,  33.33333333, 100.        ],\n",
       "            [ 87.5       ,  50.        ,   0.        ],\n",
       "            [ 87.5       ,  50.        ,  50.        ],\n",
       "            [ 87.5       ,  50.        , 100.        ],\n",
       "            [ 87.5       ,  66.66666667,   0.        ],\n",
       "            [ 87.5       ,  66.66666667,  50.        ],\n",
       "            [ 87.5       ,  66.66666667, 100.        ],\n",
       "            [ 87.5       ,  83.33333333,   0.        ],\n",
       "            [ 87.5       ,  83.33333333,  50.        ],\n",
       "            [ 87.5       ,  83.33333333, 100.        ],\n",
       "            [ 87.5       , 100.        ,   0.        ],\n",
       "            [ 87.5       , 100.        ,  50.        ],\n",
       "            [ 87.5       , 100.        , 100.        ],\n",
       "            [100.        ,   0.        ,   0.        ],\n",
       "            [100.        ,   0.        ,  50.        ],\n",
       "            [100.        ,   0.        , 100.        ],\n",
       "            [100.        ,  16.66666667,   0.        ],\n",
       "            [100.        ,  16.66666667,  50.        ],\n",
       "            [100.        ,  16.66666667, 100.        ],\n",
       "            [100.        ,  33.33333333,   0.        ],\n",
       "            [100.        ,  33.33333333,  50.        ],\n",
       "            [100.        ,  33.33333333, 100.        ],\n",
       "            [100.        ,  50.        ,   0.        ],\n",
       "            [100.        ,  50.        ,  50.        ],\n",
       "            [100.        ,  50.        , 100.        ],\n",
       "            [100.        ,  66.66666667,   0.        ],\n",
       "            [100.        ,  66.66666667,  50.        ],\n",
       "            [100.        ,  66.66666667, 100.        ],\n",
       "            [100.        ,  83.33333333,   0.        ],\n",
       "            [100.        ,  83.33333333,  50.        ],\n",
       "            [100.        ,  83.33333333, 100.        ],\n",
       "            [100.        , 100.        ,   0.        ],\n",
       "            [100.        , 100.        ,  50.        ],\n",
       "            [100.        , 100.        , 100.        ]])"
      ]
     },
     "execution_count": 122,
     "metadata": {},
     "output_type": "execute_result"
    }
   ],
   "source": [
    "mesh['grids', 'H8'].coords(from_cells=True)"
   ]
  },
  {
   "cell_type": "code",
   "execution_count": 123,
   "metadata": {},
   "outputs": [
    {
     "data": {
      "text/plain": [
       "(310, 3)"
      ]
     },
     "execution_count": 123,
     "metadata": {},
     "output_type": "execute_result"
    }
   ],
   "source": [
    "mesh['grids'].coords(from_cells=True).shape"
   ]
  },
  {
   "cell_type": "code",
   "execution_count": 124,
   "metadata": {},
   "outputs": [
    {
     "data": {
      "text/plain": [
       "(310, 3)"
      ]
     },
     "execution_count": 124,
     "metadata": {},
     "output_type": "execute_result"
    }
   ],
   "source": [
    "np.vstack([mesh['grids','Q4'].coords(from_cells=True), mesh['grids','H8'].coords(from_cells=True)]).shape"
   ]
  },
  {
   "cell_type": "code",
   "execution_count": 125,
   "metadata": {},
   "outputs": [
    {
     "data": {
      "text/plain": [
       "(100, 3)"
      ]
     },
     "execution_count": 125,
     "metadata": {},
     "output_type": "execute_result"
    }
   ],
   "source": [
    "mesh['tri'].coords(from_cells=True).shape"
   ]
  },
  {
   "cell_type": "code",
   "execution_count": 126,
   "metadata": {},
   "outputs": [
    {
     "data": {
      "text/plain": [
       "((100, 3), (310, 3))"
      ]
     },
     "execution_count": 126,
     "metadata": {},
     "output_type": "execute_result"
    }
   ],
   "source": [
    "mesh['tri'].coords(from_cells=True).shape, mesh['grids'].coords(from_cells=True).shape"
   ]
  },
  {
   "cell_type": "code",
   "execution_count": 127,
   "metadata": {},
   "outputs": [],
   "source": [
    "mesh.plot()"
   ]
  }
 ],
 "metadata": {
  "kernelspec": {
   "display_name": "Python 3.8.10 ('.venv': venv)",
   "language": "python",
   "name": "python3"
  },
  "language_info": {
   "codemirror_mode": {
    "name": "ipython",
    "version": 3
   },
   "file_extension": ".py",
   "mimetype": "text/x-python",
   "name": "python",
   "nbconvert_exporter": "python",
   "pygments_lexer": "ipython3",
   "version": "3.8.10"
  },
  "orig_nbformat": 4,
  "vscode": {
   "interpreter": {
    "hash": "8c09a45765ebf85a9115831261f2d9f9fd8a9e02e626ce64403198137c7fd90c"
   }
  }
 },
 "nbformat": 4,
 "nbformat_minor": 2
}
