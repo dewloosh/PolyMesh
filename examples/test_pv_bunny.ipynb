{
 "cells": [
  {
   "cell_type": "code",
   "execution_count": 1,
   "metadata": {},
   "outputs": [],
   "source": [
    "import pyvista as pv\n",
    "from pyvista import examples\n",
    "import numpy as np\n",
    "import tetgen"
   ]
  },
  {
   "cell_type": "code",
   "execution_count": 2,
   "metadata": {},
   "outputs": [],
   "source": [
    "bunny = examples.download_bunny_coarse()\n",
    "\n",
    "plotter = pv.Plotter()\n",
    "\n",
    "plotter.add_mesh(bunny, show_edges = True, opacity = 0.5)\n",
    "#plotter.add_mesh(pv.PolyData(bunny.points), color='red',\n",
    "#       point_size=5, render_points_as_spheres=True)\n",
    "#plotter.add_mesh(bunny.extract_cells([bunny.n_cells-i for i in range(1,200)]),\n",
    "#           color='yellow', edge_color='blue',\n",
    "#           line_width=2, show_edges=True, opacity = 0.9)\n",
    "plotter.add_bounding_box()\n",
    "plotter.camera_position = [(0.02, 0.30, 0.73),\n",
    "                 (0.02, 0.03, -0.022),\n",
    "                 (-0.03, 0.94, -0.34)]\n",
    "#plotter.show(notebook=False)"
   ]
  },
  {
   "cell_type": "code",
   "execution_count": 3,
   "metadata": {},
   "outputs": [
    {
     "data": {
      "application/vnd.jupyter.widget-view+json": {
       "model_id": "7919e4397d1b4b2e8bb0419006c50e22",
       "version_major": 2,
       "version_minor": 0
      },
      "text/plain": [
       "ViewInteractiveWidget(height=768, layout=Layout(height='auto', width='100%'), width=1024)"
      ]
     },
     "metadata": {},
     "output_type": "display_data"
    }
   ],
   "source": [
    "bunny.plot(notebook=True, show_edges=True)"
   ]
  }
 ],
 "metadata": {
  "interpreter": {
   "hash": "21a5b831f31d8f5bc4d1a7e87efea655c8d919ed75ed2e2241ada442f25ec7bf"
  },
  "kernelspec": {
   "display_name": "Python 3.8.10 64-bit ('.dewloosh': venv)",
   "language": "python",
   "name": "python3"
  },
  "language_info": {
   "codemirror_mode": {
    "name": "ipython",
    "version": 3
   },
   "file_extension": ".py",
   "mimetype": "text/x-python",
   "name": "python",
   "nbconvert_exporter": "python",
   "pygments_lexer": "ipython3",
   "version": "3.8.10"
  },
  "orig_nbformat": 4
 },
 "nbformat": 4,
 "nbformat_minor": 2
}
