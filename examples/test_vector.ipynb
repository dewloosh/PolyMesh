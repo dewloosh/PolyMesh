{
 "cells": [
  {
   "cell_type": "code",
   "execution_count": 1,
   "metadata": {},
   "outputs": [],
   "source": [
    "import numpy as np"
   ]
  },
  {
   "cell_type": "code",
   "execution_count": 2,
   "metadata": {},
   "outputs": [],
   "source": [
    "# old base vectors in old frame\n",
    "e1 = np.array([1., 0.])\n",
    "e2 = np.array([0., 1.])\n",
    "\n",
    "# new base vectors in old frame\n",
    "E1 = np.array([0., 1.])\n",
    "E2 = np.array([-1., 0.])\n",
    "\n",
    "# direction cosine matrix\n",
    "DCM = np.stack([E1, E2])\n",
    "\n",
    "# the transpose of DCM transforms the base vectors as column arrays\n",
    "assert np.all(np.isclose(DCM.T @ e1, E1, rtol=1e-05, atol=1e-08))\n",
    "assert np.all(np.isclose(DCM.T @ e2, E2, rtol=1e-05, atol=1e-08))\n",
    "\n",
    "# the DCM transforms the base vectors as row arrays\n",
    "assert np.all(np.isclose(e1 @ DCM, E1, rtol=1e-05, atol=1e-08))\n",
    "assert np.all(np.isclose(e2 @ DCM, E2, rtol=1e-05, atol=1e-08))\n",
    "\n",
    "# transform the complete frame at once\n",
    "assert np.all(np.isclose(DCM @ np.stack([e1, e2]), np.stack([E1, E2]), \n",
    "                         rtol=1e-05, atol=1e-08))"
   ]
  },
  {
   "cell_type": "code",
   "execution_count": 3,
   "metadata": {},
   "outputs": [
    {
     "data": {
      "text/plain": [
       "array([[ 0.,  1.],\n",
       "       [-1.,  0.]])"
      ]
     },
     "execution_count": 3,
     "metadata": {},
     "output_type": "execute_result"
    }
   ],
   "source": [
    "DCM"
   ]
  },
  {
   "cell_type": "code",
   "execution_count": 4,
   "metadata": {},
   "outputs": [],
   "source": [
    "from sympy.physics.vector import ReferenceFrame"
   ]
  },
  {
   "cell_type": "code",
   "execution_count": 5,
   "metadata": {},
   "outputs": [],
   "source": [
    "source = ReferenceFrame('source')\n",
    "target = source.orientnew('target', 'Body', [0, 0, 90*np.pi/180],  'XYZ')\n",
    "DCM = np.array(target.dcm(source).evalf()).astype(float)[:2, :2]\n",
    "DCM[np.abs(DCM) < 1e-12] = 0."
   ]
  },
  {
   "cell_type": "code",
   "execution_count": 6,
   "metadata": {},
   "outputs": [
    {
     "data": {
      "text/plain": [
       "array([[ 0.,  1.],\n",
       "       [-1.,  0.]])"
      ]
     },
     "execution_count": 6,
     "metadata": {},
     "output_type": "execute_result"
    }
   ],
   "source": [
    "DCM"
   ]
  },
  {
   "cell_type": "code",
   "execution_count": 7,
   "metadata": {},
   "outputs": [],
   "source": [
    "from dewloosh.geom.space import CartesianFrame\n",
    "from dewloosh.math.linalg import Vector"
   ]
  },
  {
   "cell_type": "code",
   "execution_count": 8,
   "metadata": {},
   "outputs": [
    {
     "data": {
      "text/plain": [
       "ArrayBase([[ 6.123234e-17,  1.000000e+00,  0.000000e+00],\n",
       "           [-1.000000e+00,  6.123234e-17,  0.000000e+00],\n",
       "           [ 0.000000e+00,  0.000000e+00,  1.000000e+00]])"
      ]
     },
     "execution_count": 8,
     "metadata": {},
     "output_type": "execute_result"
    }
   ],
   "source": [
    "A = CartesianFrame(name='A')\n",
    "B = A.orient_new('Body', [0, 0, 90*np.pi/180], 'XYZ', name='B')\n",
    "B.dcm()"
   ]
  },
  {
   "cell_type": "code",
   "execution_count": 9,
   "metadata": {},
   "outputs": [
    {
     "data": {
      "text/plain": [
       "ArrayBase([1.000000e+00, 6.123234e-17, 0.000000e+00])"
      ]
     },
     "execution_count": 9,
     "metadata": {},
     "output_type": "execute_result"
    }
   ],
   "source": [
    "v = Vector([0.0, 1.0, 0.0], frame=A)\n",
    "v.view(B)"
   ]
  },
  {
   "cell_type": "code",
   "execution_count": 10,
   "metadata": {},
   "outputs": [
    {
     "data": {
      "text/plain": [
       "ArrayBase([ 1.2246468e-16, -1.0000000e+00,  0.0000000e+00])"
      ]
     },
     "execution_count": 10,
     "metadata": {},
     "output_type": "execute_result"
    }
   ],
   "source": [
    "v.orient('Body', [0, 0, -90*np.pi/180], 'XYZ')\n",
    "v.view(B)"
   ]
  },
  {
   "cell_type": "code",
   "execution_count": 11,
   "metadata": {},
   "outputs": [
    {
     "data": {
      "text/plain": [
       "ArrayBase([1.000000e+00, 6.123234e-17, 0.000000e+00])"
      ]
     },
     "execution_count": 11,
     "metadata": {},
     "output_type": "execute_result"
    }
   ],
   "source": [
    "v.view()"
   ]
  }
 ],
 "metadata": {
  "interpreter": {
   "hash": "8d15e2cb4dca8274af5fb092bbadab583a099b53b169f927cb892edc8b735b32"
  },
  "kernelspec": {
   "display_name": "Python 3.8.10 64-bit ('.dewloosh': venv)",
   "language": "python",
   "name": "python3"
  },
  "language_info": {
   "codemirror_mode": {
    "name": "ipython",
    "version": 3
   },
   "file_extension": ".py",
   "mimetype": "text/x-python",
   "name": "python",
   "nbconvert_exporter": "python",
   "pygments_lexer": "ipython3",
   "version": "3.8.10"
  },
  "orig_nbformat": 4
 },
 "nbformat": 4,
 "nbformat_minor": 2
}
