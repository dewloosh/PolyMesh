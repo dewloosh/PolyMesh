{
 "cells": [
  {
   "cell_type": "code",
   "execution_count": 9,
   "metadata": {},
   "outputs": [],
   "source": [
    "from dewloosh.geom import PolyData, TriMesh, grid\n",
    "from dewloosh.geom.space import PointCloud\n",
    "from dewloosh.geom.space import StandardFrame\n",
    "import numpy as np"
   ]
  },
  {
   "cell_type": "code",
   "execution_count": 10,
   "metadata": {},
   "outputs": [],
   "source": [
    "from sectionproperties.pre.library.steel_sections import i_section\n",
    "\n",
    "geometry = i_section(d=203, b=133, t_f=7.8, t_w=5.8, r=8.9, n_r=16)\n",
    "mesh = geometry.create_mesh(mesh_sizes=[3.0])"
   ]
  },
  {
   "cell_type": "code",
   "execution_count": 11,
   "metadata": {},
   "outputs": [],
   "source": [
    "coords = np.array(mesh.mesh['vertices'])\n",
    "topo = np.array(mesh.mesh['triangles'].tolist())[:, :3]\n",
    "A = StandardFrame(dim=3)\n",
    "mesh = PolyData(coords=coords, topo=topo[:, :3], frame=A)"
   ]
  },
  {
   "cell_type": "code",
   "execution_count": 12,
   "metadata": {},
   "outputs": [],
   "source": [
    "B = A.orient_new('Body', [0., 60*np.pi/180, 0.], 'XYZ')\n",
    "mesh = PolyData(coords=coords, topo=topo[:, :3], frame=B)\n"
   ]
  },
  {
   "cell_type": "code",
   "execution_count": 13,
   "metadata": {},
   "outputs": [],
   "source": [
    "mesh.plot()"
   ]
  },
  {
   "cell_type": "code",
   "execution_count": 14,
   "metadata": {},
   "outputs": [
    {
     "data": {
      "text/plain": [
       "VectorBase([[   0.        ,    0.        ,    0.        ],\n",
       "            [  66.5       ,    0.        , -115.1813787 ],\n",
       "            [  66.5       ,    7.8       , -115.1813787 ],\n",
       "            ...,\n",
       "            [   0.59570542,    2.6501184 ,   -1.03179205],\n",
       "            [   0.        ,    0.975     ,    0.        ],\n",
       "            [   0.5       ,    0.        ,   -0.8660254 ]])"
      ]
     },
     "execution_count": 14,
     "metadata": {},
     "output_type": "execute_result"
    }
   ],
   "source": [
    "mesh.points().show(B)"
   ]
  },
  {
   "cell_type": "code",
   "execution_count": 15,
   "metadata": {},
   "outputs": [],
   "source": [
    "A = StandardFrame(dim=3)\n",
    "mesh = PolyData(frame=A)\n",
    "mesh['tri', 'trimesh-1'] = TriMesh(size=(800, 600), shape=(10, 10), frame=A)\n",
    "mesh['tri', 'trimesh-2'] = TriMesh(size=(600, 800), shape=(10, 10), frame=A)\n",
    "coords, topo = grid(size=(600, 800), shape=(10, 10), eshape='Q4')\n",
    "coords = PointCloud(coords, frame=A)\n",
    "mesh['quad', 'grid-1'] = PolyData(coords=coords.array, topo=topo, frame=A)"
   ]
  },
  {
   "cell_type": "code",
   "execution_count": 16,
   "metadata": {},
   "outputs": [
    {
     "data": {
      "text/plain": [
       "(324, 3)"
      ]
     },
     "execution_count": 16,
     "metadata": {},
     "output_type": "execute_result"
    }
   ],
   "source": [
    "mesh['tri'].topology().shape"
   ]
  },
  {
   "cell_type": "code",
   "execution_count": 17,
   "metadata": {},
   "outputs": [
    {
     "data": {
      "text/plain": [
       "(162, 3)"
      ]
     },
     "execution_count": 17,
     "metadata": {},
     "output_type": "execute_result"
    }
   ],
   "source": [
    "mesh['tri', 'trimesh-1'].topology().shape"
   ]
  },
  {
   "cell_type": "code",
   "execution_count": 18,
   "metadata": {},
   "outputs": [
    {
     "data": {
      "text/plain": [
       "(162, 3)"
      ]
     },
     "execution_count": 18,
     "metadata": {},
     "output_type": "execute_result"
    }
   ],
   "source": [
    "mesh['tri']['trimesh-2'].topology().shape"
   ]
  },
  {
   "cell_type": "code",
   "execution_count": 19,
   "metadata": {},
   "outputs": [
    {
     "data": {
      "text/plain": [
       "(100, 4)"
      ]
     },
     "execution_count": 19,
     "metadata": {},
     "output_type": "execute_result"
    }
   ],
   "source": [
    "mesh['quad', 'grid-1'].topology().shape"
   ]
  },
  {
   "cell_type": "code",
   "execution_count": 20,
   "metadata": {},
   "outputs": [
    {
     "data": {
      "text/plain": [
       "424"
      ]
     },
     "execution_count": 20,
     "metadata": {},
     "output_type": "execute_result"
    }
   ],
   "source": [
    "len(mesh.topology())"
   ]
  },
  {
   "cell_type": "code",
   "execution_count": 21,
   "metadata": {},
   "outputs": [
    {
     "data": {
      "text/plain": [
       "<Array [16, 15, 5] type='3 * int32'>"
      ]
     },
     "execution_count": 21,
     "metadata": {},
     "output_type": "execute_result"
    }
   ],
   "source": [
    "mesh.topology()[0]"
   ]
  },
  {
   "cell_type": "code",
   "execution_count": 22,
   "metadata": {},
   "outputs": [
    {
     "data": {
      "text/plain": [
       "<Array [108, 119, 120, 109] type='4 * int32'>"
      ]
     },
     "execution_count": 22,
     "metadata": {},
     "output_type": "execute_result"
    }
   ],
   "source": [
    "mesh.topology()[-1]"
   ]
  }
 ],
 "metadata": {
  "kernelspec": {
   "display_name": "Python 3.8.10 ('.venv': venv)",
   "language": "python",
   "name": "python3"
  },
  "language_info": {
   "codemirror_mode": {
    "name": "ipython",
    "version": 3
   },
   "file_extension": ".py",
   "mimetype": "text/x-python",
   "name": "python",
   "nbconvert_exporter": "python",
   "pygments_lexer": "ipython3",
   "version": "3.8.10"
  },
  "orig_nbformat": 4,
  "vscode": {
   "interpreter": {
    "hash": "9c2b48080b9534e70b93bd405daf21f734949f5d4ed9a4b80ef04ea3f0227e4a"
   }
  }
 },
 "nbformat": 4,
 "nbformat_minor": 2
}
