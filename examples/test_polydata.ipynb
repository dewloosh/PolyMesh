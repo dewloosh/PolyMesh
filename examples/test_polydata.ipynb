{
 "cells": [
  {
   "cell_type": "code",
   "execution_count": 9,
   "metadata": {},
   "outputs": [],
   "source": [
    "from dewloosh.geom.space import CartesianFrame\n",
    "from dewloosh.geom import CoordinateArray\n",
    "import numpy as np"
   ]
  },
  {
   "cell_type": "code",
   "execution_count": 10,
   "metadata": {},
   "outputs": [],
   "source": [
    "A = CartesianFrame(name='A')\n",
    "COORD = CoordinateArray([[1, 0, 0], [0, 1, 0], [0, 0, 1], [1, 1, 1]],\n",
    "                        inds=np.array([0, 1, 2, 3]), frame=A)"
   ]
  },
  {
   "cell_type": "code",
   "execution_count": 11,
   "metadata": {},
   "outputs": [
    {
     "data": {
      "text/plain": [
       "VectorBase([[ 6.123234e-17, -1.000000e+00,  0.000000e+00],\n",
       "            [ 1.000000e+00,  6.123234e-17,  0.000000e+00],\n",
       "            [ 0.000000e+00,  0.000000e+00,  1.000000e+00],\n",
       "            [ 1.000000e+00, -1.000000e+00,  1.000000e+00]])"
      ]
     },
     "execution_count": 11,
     "metadata": {},
     "output_type": "execute_result"
    }
   ],
   "source": [
    "B = A.orient_new('Body', [0, 0, 90*np.pi/180], 'XYZ', name='B')\n",
    "COORD.view(B)"
   ]
  },
  {
   "cell_type": "code",
   "execution_count": 12,
   "metadata": {},
   "outputs": [
    {
     "data": {
      "text/plain": [
       "VectorBase([ 6.123234e-17, -1.000000e+00,  0.000000e+00])"
      ]
     },
     "execution_count": 12,
     "metadata": {},
     "output_type": "execute_result"
    }
   ],
   "source": [
    "COORD.view(B)[0]"
   ]
  },
  {
   "cell_type": "code",
   "execution_count": 13,
   "metadata": {},
   "outputs": [
    {
     "data": {
      "text/plain": [
       "array([0, 1])"
      ]
     },
     "execution_count": 13,
     "metadata": {},
     "output_type": "execute_result"
    }
   ],
   "source": [
    "COORD[:2].inds"
   ]
  },
  {
   "cell_type": "code",
   "execution_count": 14,
   "metadata": {},
   "outputs": [
    {
     "data": {
      "text/plain": [
       "array([0.5, 0.5, 0.5])"
      ]
     },
     "execution_count": 14,
     "metadata": {},
     "output_type": "execute_result"
    }
   ],
   "source": [
    "COORD.center()"
   ]
  },
  {
   "cell_type": "code",
   "execution_count": 15,
   "metadata": {},
   "outputs": [
    {
     "data": {
      "text/plain": [
       "VectorBase([0, 0, 1])"
      ]
     },
     "execution_count": 15,
     "metadata": {},
     "output_type": "execute_result"
    }
   ],
   "source": [
    "COORD[2].center()"
   ]
  }
 ],
 "metadata": {
  "interpreter": {
   "hash": "8d15e2cb4dca8274af5fb092bbadab583a099b53b169f927cb892edc8b735b32"
  },
  "kernelspec": {
   "display_name": "Python 3.8.10 64-bit ('.dewloosh': venv)",
   "language": "python",
   "name": "python3"
  },
  "language_info": {
   "codemirror_mode": {
    "name": "ipython",
    "version": 3
   },
   "file_extension": ".py",
   "mimetype": "text/x-python",
   "name": "python",
   "nbconvert_exporter": "python",
   "pygments_lexer": "ipython3",
   "version": "3.8.10"
  },
  "orig_nbformat": 4
 },
 "nbformat": 4,
 "nbformat_minor": 2
}
