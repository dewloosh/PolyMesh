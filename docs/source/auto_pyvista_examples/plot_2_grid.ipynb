{
  "cells": [
    {
      "cell_type": "code",
      "execution_count": null,
      "metadata": {
        "collapsed": false
      },
      "outputs": [],
      "source": [
        "%matplotlib inline"
      ]
    },
    {
      "cell_type": "markdown",
      "metadata": {},
      "source": [
        "\n# Grid Based Mesh Generation\n"
      ]
    },
    {
      "cell_type": "code",
      "execution_count": null,
      "metadata": {
        "collapsed": false
      },
      "outputs": [],
      "source": [
        "import numpy as np\nfrom polymesh import grid, Grid, PolyData, CartesianFrame\nfrom polymesh.cells import H8, H27, Q9, Q4\nsize = Lx, Ly, Lz = 800, 600, 100\nshape = nx, ny, nz = 8, 6, 2\nxbins = np.linspace(0, Lx, nx+1)\nybins = np.linspace(0, Ly, ny+1)\nzbins = np.linspace(0, Lz, nz+1)\nbins = xbins, ybins, zbins\ncoords, topo = grid(bins=bins, eshape='H8')\npd = PolyData(coords=coords, topo=topo, celltype=H8)"
      ]
    },
    {
      "cell_type": "markdown",
      "metadata": {},
      "source": [
        "The `PolyData` class delegates plotting-related jobs to `pyVista`. Call your objects `plot` method the same way you'd call a `pyVista` object:\n\n"
      ]
    },
    {
      "cell_type": "code",
      "execution_count": null,
      "metadata": {
        "collapsed": false
      },
      "outputs": [],
      "source": [
        "pd.plot(off_screen=True, window_size = (600, 400))"
      ]
    },
    {
      "cell_type": "code",
      "execution_count": null,
      "metadata": {
        "collapsed": false
      },
      "outputs": [],
      "source": [
        "coords, topo = grid(bins=bins, eshape='H27')\npd = PolyData(coords=coords, topo=topo, celltype=H27)\npd.plot(off_screen=True, window_size = (600, 400))"
      ]
    },
    {
      "cell_type": "code",
      "execution_count": null,
      "metadata": {
        "collapsed": false
      },
      "outputs": [],
      "source": [
        "coords, topo = grid(bins=(xbins, ybins), eshape='Q4')\nframe = CartesianFrame(dim=3)\npd = PolyData(coords=coords, topo=topo, celltype=Q4, frame=frame)\npd.plot(off_screen=True, window_size = (600, 400))"
      ]
    },
    {
      "cell_type": "code",
      "execution_count": null,
      "metadata": {
        "collapsed": false
      },
      "outputs": [],
      "source": [
        "coords, topo = grid(bins=(xbins, ybins), eshape='Q9')\nframe = CartesianFrame(dim=3)\npd = PolyData(coords=coords, topo=topo, celltype=Q9, frame=frame)\npd.plot(off_screen=True, window_size = (600, 400))"
      ]
    },
    {
      "cell_type": "markdown",
      "metadata": {},
      "source": [
        "## Voxelization\n\n"
      ]
    },
    {
      "cell_type": "code",
      "execution_count": null,
      "metadata": {
        "collapsed": false
      },
      "outputs": [],
      "source": [
        "n_angles = 60\nn_radii = 30\nmin_radius = 5\nmax_radius = 25\nn_z = 20\nh = 50\nangle=1\n\nshape = (min_radius, max_radius), angle, h\nsize = n_radii, n_angles, n_z"
      ]
    },
    {
      "cell_type": "code",
      "execution_count": null,
      "metadata": {
        "collapsed": false
      },
      "outputs": [],
      "source": [
        "from polymesh.recipes import cylinder\ncyl = cylinder(shape, size, voxelize=True)\ncyl.plot(off_screen=True, window_size = (600, 400))"
      ]
    }
  ],
  "metadata": {
    "kernelspec": {
      "display_name": "Python 3",
      "language": "python",
      "name": "python3"
    },
    "language_info": {
      "codemirror_mode": {
        "name": "ipython",
        "version": 3
      },
      "file_extension": ".py",
      "mimetype": "text/x-python",
      "name": "python",
      "nbconvert_exporter": "python",
      "pygments_lexer": "ipython3",
      "version": "3.8.10"
    }
  },
  "nbformat": 4,
  "nbformat_minor": 0
}