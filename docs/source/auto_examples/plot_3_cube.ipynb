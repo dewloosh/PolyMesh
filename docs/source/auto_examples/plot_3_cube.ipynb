{
 "cells": [
  {
   "cell_type": "code",
   "execution_count": null,
   "metadata": {
    "collapsed": false
   },
   "outputs": [],
   "source": [
    "%matplotlib inline"
   ]
  },
  {
   "cell_type": "markdown",
   "metadata": {},
   "source": [
    "\n# A Simple Cube\n"
   ]
  },
  {
   "cell_type": "code",
   "execution_count": null,
   "metadata": {
    "collapsed": false
   },
   "outputs": [],
   "source": [
    "from polymesh import PolyData, PointData\n",
    "from polymesh.grid import grid\n",
    "from polymesh.space import StandardFrame\n",
    "from polymesh.cells import H27\n",
    "\n",
    "size = Lx, Ly, Lz = 100, 100, 100\n",
    "shape = nx, ny, nz = 10, 10, 10\n",
    "coords, topo = grid(size=size, shape=shape, eshape=\"H27\")\n",
    "GlobalFrame = StandardFrame(dim=3)\n",
    "pd = PointData(coords=coords, frame=GlobalFrame)\n",
    "mesh = PolyData(pd, frame=GlobalFrame)\n",
    "\n",
    "part1 = H27(topo=topo[:10], frames=GlobalFrame)\n",
    "part2 = H27(topo=topo[10:-10], frames=GlobalFrame)\n",
    "part3 = H27(topo=topo[-10:], frames=GlobalFrame)\n",
    "\n",
    "mesh[\"A\"][\"Part1\"] = PolyData(cd=part1)\n",
    "mesh[\"A\"][\"Part2\"] = PolyData(cd=part2)\n",
    "mesh[\"A\"][\"Part3\"] = PolyData(cd=part3)\n",
    "\n",
    "import pyvista as pv\n",
    "from pyvista import themes\n",
    "\n",
    "my_theme = themes.DarkTheme()\n",
    "my_theme.color = \"red\"\n",
    "my_theme.lighting = False\n",
    "my_theme.show_edges = True\n",
    "my_theme.axes.box = True\n",
    "\n",
    "pv.set_plot_theme(my_theme)\n",
    "\n",
    "mesh.pvplot(\n",
    "    off_screen=True, window_size=(600, 400), theme=my_theme, jupyter_backend=\"static\"\n",
    ")"
   ]
  }
 ],
 "metadata": {
  "kernelspec": {
   "display_name": "Python 3",
   "language": "python",
   "name": "python3"
  },
  "language_info": {
   "codemirror_mode": {
    "name": "ipython",
    "version": 3
   },
   "file_extension": ".py",
   "mimetype": "text/x-python",
   "name": "python",
   "nbconvert_exporter": "python",
   "pygments_lexer": "ipython3",
   "version": "3.8.10"
  }
 },
 "nbformat": 4,
 "nbformat_minor": 0
}