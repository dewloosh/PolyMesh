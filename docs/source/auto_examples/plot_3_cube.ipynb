{
  "cells": [
    {
      "cell_type": "code",
      "execution_count": null,
      "metadata": {
        "collapsed": false
      },
      "outputs": [],
      "source": [
        "%matplotlib inline"
      ]
    },
    {
      "cell_type": "markdown",
      "metadata": {},
      "source": [
        "\n# A Simple Cube\n"
      ]
    },
    {
      "cell_type": "code",
      "execution_count": null,
      "metadata": {
        "collapsed": false
      },
      "outputs": [],
      "source": [
        "from polymesh import PolyData, PointData\nfrom polymesh.grid import grid\nfrom polymesh.space import StandardFrame\nfrom polymesh.cells import H27\n\nsize = Lx, Ly, Lz = 100, 100, 100\nshape = nx, ny, nz = 10, 10, 10\ncoords, topo = grid(size=size, shape=shape, eshape='H27')\nGlobalFrame = StandardFrame(dim=3)\npd = PointData(coords=coords, frame=GlobalFrame)\nmesh = PolyData(pd, frame=GlobalFrame)\n\npart1 = H27(topo=topo[:10], frames=GlobalFrame)\npart2 = H27(topo=topo[10:-10], frames=GlobalFrame)\npart3 = H27(topo=topo[-10:], frames=GlobalFrame)\n\nmesh['A']['Part1'] = PolyData(cd=part1)\nmesh['A']['Part2'] = PolyData(cd=part2)\nmesh['A']['Part3'] = PolyData(cd=part3)\n\nimport pyvista as pv\nfrom pyvista import themes\n\nmy_theme = themes.DarkTheme()\nmy_theme.color = 'red'\nmy_theme.lighting = False\nmy_theme.show_edges = True\nmy_theme.axes.box = True\n\npv.set_plot_theme(my_theme)\n\nmesh.pvplot(off_screen=True, window_size = (600, 400), theme=my_theme,\n            jupyter_backend='static')"
      ]
    }
  ],
  "metadata": {
    "kernelspec": {
      "display_name": "Python 3",
      "language": "python",
      "name": "python3"
    },
    "language_info": {
      "codemirror_mode": {
        "name": "ipython",
        "version": 3
      },
      "file_extension": ".py",
      "mimetype": "text/x-python",
      "name": "python",
      "nbconvert_exporter": "python",
      "pygments_lexer": "ipython3",
      "version": "3.8.10"
    }
  },
  "nbformat": 4,
  "nbformat_minor": 0
}