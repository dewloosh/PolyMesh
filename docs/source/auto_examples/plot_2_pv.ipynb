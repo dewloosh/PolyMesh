{
 "cells": [
  {
   "cell_type": "code",
   "execution_count": null,
   "metadata": {
    "collapsed": false
   },
   "outputs": [],
   "source": [
    "%matplotlib inline"
   ]
  },
  {
   "cell_type": "markdown",
   "metadata": {},
   "source": [
    "\n# Compound Meshes\n"
   ]
  },
  {
   "cell_type": "code",
   "execution_count": null,
   "metadata": {
    "collapsed": false
   },
   "outputs": [],
   "source": [
    "from polymesh import PolyData\n",
    "from polymesh.trimesh import TriMesh\n",
    "from polymesh.grid import Grid\n",
    "from polymesh.space import StandardFrame\n",
    "import numpy as np\n",
    "\n",
    "A = StandardFrame(dim=3)\n",
    "tri = TriMesh(size=(100, 100), shape=(10, 10), frame=A)\n",
    "grid2d = Grid(size=(100, 100), shape=(10, 10), eshape=\"Q4\", frame=A)\n",
    "grid3d = Grid(size=(100, 100, 100), shape=(8, 6, 2), eshape=\"H8\", frame=A)\n",
    "\n",
    "mesh = PolyData(frame=A)\n",
    "mesh[\"tri\", \"T3\"] = tri.move(np.array([0.0, 0.0, -200]))\n",
    "mesh[\"grids\", \"Q4\"] = grid2d.move(np.array([0.0, 0.0, 200]))\n",
    "mesh[\"grids\", \"H8\"] = grid3d\n",
    "\n",
    "mesh[\"tri\", \"T3\"].pointdata[\"values\"] = np.full(tri.coords().shape[0], 5.0)\n",
    "mesh[\"grids\", \"Q4\"].pointdata[\"values\"] = np.full(grid2d.coords().shape[0], 10.0)\n",
    "mesh[\"grids\", \"H8\"].pointdata[\"values\"] = np.full(grid3d.coords().shape[0], -5.0)\n",
    "\n",
    "mesh.to_standard_form()\n",
    "mesh.lock(create_mappers=True)\n",
    "\n",
    "import pyvista as pv\n",
    "from pyvista import themes\n",
    "\n",
    "my_theme = themes.DarkTheme()\n",
    "my_theme.color = \"red\"\n",
    "my_theme.lighting = False\n",
    "my_theme.show_edges = True\n",
    "my_theme.axes.box = True\n",
    "\n",
    "pv.set_plot_theme(my_theme)\n",
    "\n",
    "mesh.pvplot(\n",
    "    off_screen=True, window_size=(600, 400), theme=my_theme, jupyter_backend=\"static\"\n",
    ")"
   ]
  }
 ],
 "metadata": {
  "kernelspec": {
   "display_name": "Python 3",
   "language": "python",
   "name": "python3"
  },
  "language_info": {
   "codemirror_mode": {
    "name": "ipython",
    "version": 3
   },
   "file_extension": ".py",
   "mimetype": "text/x-python",
   "name": "python",
   "nbconvert_exporter": "python",
   "pygments_lexer": "ipython3",
   "version": "3.8.10"
  }
 },
 "nbformat": 4,
 "nbformat_minor": 0
}