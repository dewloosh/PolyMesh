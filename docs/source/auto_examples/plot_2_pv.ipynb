{
  "cells": [
    {
      "cell_type": "code",
      "execution_count": null,
      "metadata": {
        "collapsed": false
      },
      "outputs": [],
      "source": [
        "%matplotlib inline"
      ]
    },
    {
      "cell_type": "markdown",
      "metadata": {},
      "source": [
        "\n# Compound Meshes\n"
      ]
    },
    {
      "cell_type": "code",
      "execution_count": null,
      "metadata": {
        "collapsed": false
      },
      "outputs": [],
      "source": [
        "from polymesh import PolyData\nfrom polymesh.tri.trimesh import TriMesh\nfrom polymesh.grid import Grid\nfrom polymesh.space import StandardFrame\nimport numpy as np\n\nA = StandardFrame(dim=3)\ntri = TriMesh(size=(100, 100), shape=(10, 10), frame=A)\ngrid2d = Grid(size=(100, 100), shape=(10, 10), eshape='Q4', frame=A)\ngrid3d = Grid(size=(100, 100, 100), shape=(8, 6, 2), eshape='H8', frame=A)\n\nmesh = PolyData(frame=A)\nmesh['tri', 'T3'] = tri.move(np.array([0., 0., -200]))\nmesh['grids', 'Q4'] = grid2d.move(np.array([0., 0., 200]))\nmesh['grids', 'H8'] = grid3d\n\nmesh['tri', 'T3'].pointdata['values'] = np.full(tri.coords().shape[0], 5.)\nmesh['grids', 'Q4'].pointdata['values'] = np.full(grid2d.coords().shape[0], 10.)\nmesh['grids', 'H8'].pointdata['values'] = np.full(grid3d.coords().shape[0], -5.)\n\nmesh['tri', 'T3'].pointdata.values.to_numpy()\n\nimport pyvista as pv\nfrom pyvista import themes\n\nmy_theme = themes.DarkTheme()\nmy_theme.color = 'red'\nmy_theme.lighting = False\nmy_theme.show_edges = True\nmy_theme.axes.box = True\n\npv.set_plot_theme(my_theme)\n\nmesh.pvplot(off_screen=True, window_size = (600, 400), theme=my_theme,\n            jupyter_backend='static')"
      ]
    }
  ],
  "metadata": {
    "kernelspec": {
      "display_name": "Python 3",
      "language": "python",
      "name": "python3"
    },
    "language_info": {
      "codemirror_mode": {
        "name": "ipython",
        "version": 3
      },
      "file_extension": ".py",
      "mimetype": "text/x-python",
      "name": "python",
      "nbconvert_exporter": "python",
      "pygments_lexer": "ipython3",
      "version": "3.8.10"
    }
  },
  "nbformat": 4,
  "nbformat_minor": 0
}