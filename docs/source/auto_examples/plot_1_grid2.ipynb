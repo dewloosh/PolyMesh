{
 "cells": [
  {
   "cell_type": "code",
   "execution_count": null,
   "metadata": {
    "collapsed": false
   },
   "outputs": [],
   "source": [
    "%matplotlib inline"
   ]
  },
  {
   "cell_type": "markdown",
   "metadata": {},
   "source": [
    "\n# Grid Based Mesh Generation\n"
   ]
  },
  {
   "cell_type": "code",
   "execution_count": null,
   "metadata": {
    "collapsed": false
   },
   "outputs": [],
   "source": [
    "import numpy as np\n",
    "from polymesh.grid import grid\n",
    "from polymesh import PolyData, CartesianFrame\n",
    "from polymesh.cells import H8, H27, Q9, Q4\n",
    "\n",
    "size = Lx, Ly, Lz = 800, 600, 100\n",
    "shape = nx, ny, nz = 8, 6, 2\n",
    "xbins = np.linspace(0, Lx, nx + 1)\n",
    "ybins = np.linspace(0, Ly, ny + 1)\n",
    "zbins = np.linspace(0, Lz, nz + 1)\n",
    "bins = xbins, ybins, zbins\n",
    "coords, topo = grid(bins=bins, eshape=\"H8\")\n",
    "pd = PolyData(coords=coords, topo=topo, celltype=H8)"
   ]
  },
  {
   "cell_type": "markdown",
   "metadata": {},
   "source": [
    "The `PolyData` class delegates plotting-related jobs to `pyVista`. Call your objects `plot` method the same way you'd call a `pyVista` object:\n\n"
   ]
  },
  {
   "cell_type": "code",
   "execution_count": null,
   "metadata": {
    "collapsed": false
   },
   "outputs": [],
   "source": [
    "pd.plot(off_screen=True, window_size=(600, 400))"
   ]
  },
  {
   "cell_type": "code",
   "execution_count": null,
   "metadata": {
    "collapsed": false
   },
   "outputs": [],
   "source": [
    "coords, topo = grid(bins=bins, eshape=\"H27\")\n",
    "pd = PolyData(coords=coords, topo=topo, celltype=H27)\n",
    "pd.plot(off_screen=True, window_size=(600, 400))"
   ]
  },
  {
   "cell_type": "code",
   "execution_count": null,
   "metadata": {
    "collapsed": false
   },
   "outputs": [],
   "source": [
    "coords, topo = grid(bins=(xbins, ybins), eshape=\"Q4\")\n",
    "frame = CartesianFrame(dim=3)\n",
    "pd = PolyData(coords=coords, topo=topo, celltype=Q4, frame=frame)\n",
    "pd.plot(off_screen=True, window_size=(600, 400))"
   ]
  },
  {
   "cell_type": "code",
   "execution_count": null,
   "metadata": {
    "collapsed": false
   },
   "outputs": [],
   "source": [
    "coords, topo = grid(bins=(xbins, ybins), eshape=\"Q9\")\n",
    "frame = CartesianFrame(dim=3)\n",
    "pd = PolyData(coords=coords, topo=topo, celltype=Q9, frame=frame)\n",
    "pd.plot(off_screen=True, window_size=(600, 400))"
   ]
  },
  {
   "cell_type": "markdown",
   "metadata": {},
   "source": [
    "## Voxelization\n\n"
   ]
  },
  {
   "cell_type": "code",
   "execution_count": null,
   "metadata": {
    "collapsed": false
   },
   "outputs": [],
   "source": [
    "n_angles = 60\n",
    "n_radii = 30\n",
    "min_radius = 5\n",
    "max_radius = 25\n",
    "n_z = 20\n",
    "h = 50\n",
    "angle = 1\n",
    "\n",
    "shape = (min_radius, max_radius), angle, h\n",
    "size = n_radii, n_angles, n_z"
   ]
  },
  {
   "cell_type": "code",
   "execution_count": null,
   "metadata": {
    "collapsed": false
   },
   "outputs": [],
   "source": [
    "from polymesh.recipes import cylinder\n",
    "\n",
    "cyl = cylinder(shape, size, voxelize=True)\n",
    "cyl.plot(off_screen=True, window_size=(600, 400))"
   ]
  }
 ],
 "metadata": {
  "kernelspec": {
   "display_name": "Python 3",
   "language": "python",
   "name": "python3"
  },
  "language_info": {
   "codemirror_mode": {
    "name": "ipython",
    "version": 3
   },
   "file_extension": ".py",
   "mimetype": "text/x-python",
   "name": "python",
   "nbconvert_exporter": "python",
   "pygments_lexer": "ipython3",
   "version": "3.8.10"
  }
 },
 "nbformat": 4,
 "nbformat_minor": 0
}