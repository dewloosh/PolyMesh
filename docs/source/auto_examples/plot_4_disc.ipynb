{
 "cells": [
  {
   "cell_type": "code",
   "execution_count": null,
   "metadata": {
    "collapsed": false
   },
   "outputs": [],
   "source": [
    "%matplotlib inline"
   ]
  },
  {
   "cell_type": "markdown",
   "metadata": {},
   "source": [
    "\n# Circular Disk with PyVista\n"
   ]
  },
  {
   "cell_type": "code",
   "execution_count": null,
   "metadata": {
    "collapsed": false
   },
   "outputs": [],
   "source": [
    "from polymesh.recipes import circular_disk\n",
    "\n",
    "n_angles = 60\n",
    "n_radii = 30\n",
    "min_radius = 5\n",
    "max_radius = 25\n",
    "\n",
    "disk = circular_disk(n_angles, n_radii, min_radius, max_radius)\n",
    "\n",
    "import pyvista as pv\n",
    "from pyvista import themes\n",
    "\n",
    "my_theme = themes.DarkTheme()\n",
    "my_theme.color = \"red\"\n",
    "my_theme.lighting = False\n",
    "my_theme.show_edges = True\n",
    "my_theme.axes.box = True\n",
    "\n",
    "pv.set_plot_theme(my_theme)\n",
    "\n",
    "disk.pvplot(\n",
    "    off_screen=True, window_size=(600, 400), theme=my_theme, jupyter_backend=\"static\"\n",
    ")"
   ]
  }
 ],
 "metadata": {
  "kernelspec": {
   "display_name": "Python 3",
   "language": "python",
   "name": "python3"
  },
  "language_info": {
   "codemirror_mode": {
    "name": "ipython",
    "version": 3
   },
   "file_extension": ".py",
   "mimetype": "text/x-python",
   "name": "python",
   "nbconvert_exporter": "python",
   "pygments_lexer": "ipython3",
   "version": "3.8.10"
  }
 },
 "nbformat": 4,
 "nbformat_minor": 0
}