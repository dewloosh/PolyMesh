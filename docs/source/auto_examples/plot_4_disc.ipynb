{
  "cells": [
    {
      "cell_type": "code",
      "execution_count": null,
      "metadata": {
        "collapsed": false
      },
      "outputs": [],
      "source": [
        "%matplotlib inline"
      ]
    },
    {
      "cell_type": "markdown",
      "metadata": {},
      "source": [
        "\n# Corcular Disk\n"
      ]
    },
    {
      "cell_type": "code",
      "execution_count": null,
      "metadata": {
        "collapsed": false
      },
      "outputs": [],
      "source": [
        "from polymesh.recipes import circular_disk\n\nn_angles = 60\nn_radii = 30\nmin_radius = 5\nmax_radius = 25\n\ndisk = circular_disk(n_angles, n_radii, min_radius, max_radius)\n\nimport pyvista as pv\nfrom pyvista import themes\n\nmy_theme = themes.DarkTheme()\nmy_theme.color = 'red'\nmy_theme.lighting = False\nmy_theme.show_edges = True\nmy_theme.axes.box = True\n\npv.set_plot_theme(my_theme)\n\ndisk.pvplot(off_screen=True, window_size = (600, 400), theme=my_theme,\n            jupyter_backend='static')"
      ]
    }
  ],
  "metadata": {
    "kernelspec": {
      "display_name": "Python 3",
      "language": "python",
      "name": "python3"
    },
    "language_info": {
      "codemirror_mode": {
        "name": "ipython",
        "version": 3
      },
      "file_extension": ".py",
      "mimetype": "text/x-python",
      "name": "python",
      "nbconvert_exporter": "python",
      "pygments_lexer": "ipython3",
      "version": "3.8.10"
    }
  },
  "nbformat": 4,
  "nbformat_minor": 0
}