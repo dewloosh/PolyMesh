{
 "cells": [
  {
   "cell_type": "code",
   "execution_count": 1,
   "metadata": {},
   "outputs": [],
   "source": [
    "order = 2\n",
    "h = 0.5"
   ]
  },
  {
   "cell_type": "code",
   "execution_count": 2,
   "metadata": {},
   "outputs": [],
   "source": [
    "import pygmsh\n",
    "\n",
    "from polymesh import PolyData\n",
    "\n",
    "\n",
    "with pygmsh.occ.Geometry() as geom:\n",
    "    geom.characteristic_length_min = 0.2\n",
    "    geom.characteristic_length_max = 0.2\n",
    "    rectangle = geom.add_rectangle([-1.0, -1.0, 0.0], 2.0, 2.0)\n",
    "    disk = geom.add_disk([0.0, 0.0, 0.0], 0.5)\n",
    "    flat = geom.boolean_difference(rectangle, disk)\n",
    "    geom.extrude(flat, [0, 0, 0.3])\n",
    "    mesh = geom.generate_mesh(order=1)\n",
    "\n",
    "polydata = PolyData(mesh)"
   ]
  },
  {
   "cell_type": "code",
   "execution_count": 3,
   "metadata": {},
   "outputs": [],
   "source": [
    "polydata.plot()"
   ]
  },
  {
   "cell_type": "code",
   "execution_count": null,
   "metadata": {},
   "outputs": [],
   "source": [
    "from polymesh import PolyData\n",
    "from polymesh.extrude import extrude_T3_W6\n",
    "from polymesh.cells import W6, W18\n",
    "from polymesh.utils.topology.tr import W6_to_W18\n",
    "\n",
    "n_z = 2\n",
    "mesh = polydata[\"triangle\"]\n",
    "triangles = mesh.topology()\n",
    "coords, topo = extrude_T3_W6(polydata.coords(), triangles, h, n_z)\n",
    "ct = W6\n",
    "if order == 2:\n",
    "    coords, topo = W6_to_W18(coords, topo)\n",
    "    ct = W18\n",
    "wedges = PolyData(coords=coords, topo=topo, celltype=ct, frame=GlobalFrame)\n",
    "wedges.plot()"
   ]
  }
 ],
 "metadata": {
  "kernelspec": {
   "display_name": ".sigeps",
   "language": "python",
   "name": "python3"
  },
  "language_info": {
   "codemirror_mode": {
    "name": "ipython",
    "version": 3
   },
   "file_extension": ".py",
   "mimetype": "text/x-python",
   "name": "python",
   "nbconvert_exporter": "python",
   "pygments_lexer": "ipython3",
   "version": "3.8.10"
  },
  "orig_nbformat": 4,
  "vscode": {
   "interpreter": {
    "hash": "28d81e0e1442962330764574f1956d80898814d1923baa1210fb6369a4e79b2a"
   }
  }
 },
 "nbformat": 4,
 "nbformat_minor": 2
}
