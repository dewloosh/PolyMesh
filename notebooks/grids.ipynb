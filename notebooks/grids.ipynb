{
 "cells": [
  {
   "cell_type": "markdown",
   "metadata": {},
   "source": [
    "# Grid Generation and Plotting with `PyVista`"
   ]
  },
  {
   "cell_type": "code",
   "execution_count": 1,
   "metadata": {},
   "outputs": [],
   "source": [
    "import numpy as np\n",
    "from polymesh import PolyData, CartesianFrame\n",
    "from polymesh.grid import grid\n",
    "from polymesh.cells import H8, H27, Q9, Q4\n",
    "size = Lx, Ly, Lz = 800, 600, 100\n",
    "shape = nx, ny, nz = 8, 6, 2\n",
    "xbins = np.linspace(0, Lx, nx+1)\n",
    "ybins = np.linspace(0, Ly, ny+1)\n",
    "zbins = np.linspace(0, Lz, nz+1)\n",
    "bins = xbins, ybins, zbins\n",
    "frame = CartesianFrame(dim=3)"
   ]
  },
  {
   "cell_type": "markdown",
   "metadata": {},
   "source": [
    "The `PolyData` class delegates plotting-related jobs to `pyVista`. Call your objects `plot` method the same way you'd call a `pyVista` object:"
   ]
  },
  {
   "cell_type": "code",
   "execution_count": 2,
   "metadata": {
    "tags": [
     "nbsphinx-thumbnail"
    ]
   },
   "outputs": [
    {
     "data": {
      "application/vnd.jupyter.widget-view+json": {
       "model_id": "919118e06f544a30817a3d83c018b746",
       "version_major": 2,
       "version_minor": 0
      },
      "text/plain": [
       "Renderer(camera=PerspectiveCamera(aspect=1.5, children=(DirectionalLight(intensity=0.25, position=(0.0, 0.0, 1…"
      ]
     },
     "metadata": {},
     "output_type": "display_data"
    }
   ],
   "source": [
    "coords, topo = grid(bins=bins, eshape='H8')\n",
    "pd = PolyData(coords=coords, topo=topo, celltype=H8, frame=frame)\n",
    "pd.plot(notebook=True, jupyter_backend='pythreejs', window_size=(600, 400))\n"
   ]
  },
  {
   "cell_type": "code",
   "execution_count": 3,
   "metadata": {},
   "outputs": [
    {
     "data": {
      "application/vnd.jupyter.widget-view+json": {
       "model_id": "37f05d5ba345475cbd907482a6cdeba7",
       "version_major": 2,
       "version_minor": 0
      },
      "text/plain": [
       "Renderer(camera=PerspectiveCamera(aspect=1.5, children=(DirectionalLight(intensity=0.25, position=(0.0, 0.0, 1…"
      ]
     },
     "metadata": {},
     "output_type": "display_data"
    }
   ],
   "source": [
    "coords, topo = grid(bins=bins, eshape='H27')\n",
    "pd = PolyData(coords=coords, topo=topo, celltype=H27)\n",
    "pd.plot(notebook=True, window_size = (600, 400))"
   ]
  },
  {
   "cell_type": "code",
   "execution_count": 4,
   "metadata": {},
   "outputs": [
    {
     "data": {
      "application/vnd.jupyter.widget-view+json": {
       "model_id": "e7c59c9ba5a2402790b3e9bf1dc06757",
       "version_major": 2,
       "version_minor": 0
      },
      "text/plain": [
       "Renderer(camera=PerspectiveCamera(aspect=1.5, children=(DirectionalLight(intensity=0.25, position=(0.0, 0.0, 1…"
      ]
     },
     "metadata": {},
     "output_type": "display_data"
    }
   ],
   "source": [
    "coords, topo = grid(bins=(xbins, ybins), eshape='Q4')\n",
    "frame = CartesianFrame(dim=3)\n",
    "pd = PolyData(coords=coords, topo=topo, celltype=Q4, frame=frame)\n",
    "pd.plot(notebook=True, window_size = (600, 400))"
   ]
  },
  {
   "cell_type": "code",
   "execution_count": 5,
   "metadata": {},
   "outputs": [
    {
     "data": {
      "application/vnd.jupyter.widget-view+json": {
       "model_id": "acf000ab0c1b4e09a278889ea0dfc21d",
       "version_major": 2,
       "version_minor": 0
      },
      "text/plain": [
       "Renderer(camera=PerspectiveCamera(aspect=1.5, children=(DirectionalLight(intensity=0.25, position=(0.0, 0.0, 1…"
      ]
     },
     "metadata": {},
     "output_type": "display_data"
    }
   ],
   "source": [
    "coords, topo = grid(bins=(xbins, ybins), eshape='Q9')\n",
    "frame = CartesianFrame(dim=3)\n",
    "pd = PolyData(coords=coords, topo=topo, celltype=Q9, frame=frame)\n",
    "pd.plot(notebook=True, window_size = (600, 400))"
   ]
  }
 ],
 "metadata": {
  "kernelspec": {
   "display_name": "Python 3.8.10 ('.sigeps': venv)",
   "language": "python",
   "name": "python3"
  },
  "language_info": {
   "codemirror_mode": {
    "name": "ipython",
    "version": 3
   },
   "file_extension": ".py",
   "mimetype": "text/x-python",
   "name": "python",
   "nbconvert_exporter": "python",
   "pygments_lexer": "ipython3",
   "version": "3.8.10"
  },
  "vscode": {
   "interpreter": {
    "hash": "5facf25dadae24d0f6f3d9b821e9851478f51388ee31821a60476e833f1169c6"
   }
  },
  "widgets": {
   "application/vnd.jupyter.widget-state+json": {
    "state": {
     "003d994b653741bf94811c0afea4d448": {
      "model_module": "jupyter-threejs",
      "model_module_version": "^2.1.0",
      "model_name": "PerspectiveCameraModel",
      "state": {
       "_view_module": null,
       "_view_module_version": "",
       "aspect": 1.5,
       "children": [
        "IPY_MODEL_1a4bfffd4bcd49bb82044fdd747d22e5",
        "IPY_MODEL_78f9d1331e8d4615957001765c50ebb0",
        "IPY_MODEL_f5b8136b12d44cd5b050cd1eb08120a7",
        "IPY_MODEL_898e71974c0d48b6aad5b49a962c4bfc",
        "IPY_MODEL_3abaa6beccf74da58c5770b5ae011fcf"
       ],
       "far": 193185165.2578137,
       "fov": 30,
       "matrix": [
        1,
        0,
        0,
        0,
        0,
        1,
        0,
        0,
        0,
        0,
        1,
        0,
        1115.3550716504108,
        1115.3550716504108,
        1115.3550716504108,
        1
       ],
       "near": 0.01,
       "position": [
        1115.3550716504108,
        1115.3550716504108,
        1115.3550716504108
       ],
       "projectionMatrix": [
        2.488033871712585,
        0,
        0,
        0,
        0,
        3.7320508075688776,
        0,
        0,
        0,
        0,
        -1.0000000001035274,
        -1,
        0,
        0,
        -0.020000000001035276,
        0
       ],
       "up": [
        0,
        0,
        1
       ]
      }
     },
     "030c9a825eca4fa69cf6a24e051c8a8c": {
      "model_module": "jupyter-threejs",
      "model_module_version": "^2.1.0",
      "model_name": "LineBasicMaterialModel",
      "state": {
       "_view_module": null,
       "_view_module_version": "",
       "color": "#000000"
      }
     },
     "082c99ee545240fe8f2b2f6db01df9ea": {
      "model_module": "jupyter-threejs",
      "model_module_version": "^2.1.0",
      "model_name": "WebGLShadowMapModel",
      "state": {
       "_view_module": null,
       "_view_module_version": ""
      }
     },
     "0a7d4c09214448cc9f91b6a1c96607f1": {
      "model_module": "jupyter-threejs",
      "model_module_version": "^2.1.0",
      "model_name": "MeshModel",
      "state": {
       "_view_module": null,
       "_view_module_version": "",
       "geometry": "IPY_MODEL_30165a9843ce48688cb940405fd6cd2d",
       "material": "IPY_MODEL_2ff55b56be98494f98a28fd9ee0d5516",
       "matrix": [
        1,
        0,
        0,
        0,
        0,
        1,
        0,
        0,
        0,
        0,
        1,
        0,
        -400,
        -300,
        -50,
        1
       ],
       "morphTargetInfluences": [],
       "position": [
        -400,
        -300,
        -50
       ]
      }
     },
     "1410630ba2d947ec80923aa5d82ee7fe": {
      "buffers": [
       {
        "data": "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",
        "encoding": "base64",
        "path": [
         "array",
         "buffer"
        ]
       }
      ],
      "model_module": "jupyter-threejs",
      "model_module_version": "^2.1.0",
      "model_name": "BufferAttributeModel",
      "state": {
       "_view_module": null,
       "_view_module_version": "",
       "array": {
        "dtype": "uint16",
        "shape": [
         3648
        ]
       },
       "version": 2
      }
     },
     "19d435ac794647ec9a6272427696f086": {
      "buffers": [
       {
        "data": "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",
        "encoding": "base64",
        "path": [
         "array",
         "buffer"
        ]
       }
      ],
      "model_module": "jupyter-threejs",
      "model_module_version": "^2.1.0",
      "model_name": "BufferAttributeModel",
      "state": {
       "_view_module": null,
       "_view_module_version": "",
       "array": {
        "dtype": "uint16",
        "shape": [
         1208
        ]
       },
       "version": 2
      }
     },
     "1a4bfffd4bcd49bb82044fdd747d22e5": {
      "model_module": "jupyter-threejs",
      "model_module_version": "^2.1.0",
      "model_name": "DirectionalLightModel",
      "state": {
       "_view_module": null,
       "_view_module_version": "",
       "intensity": 0.25,
       "matrixWorldNeedsUpdate": true,
       "position": [
        0,
        0,
        100000
       ],
       "shadow": "IPY_MODEL_78a2f613-a79b-4dba-a223-8e2b6f52ca13",
       "target": "IPY_MODEL_68ffe4de-6da3-4d12-83f4-1286b69d3c6a"
      }
     },
     "1a4fe5bd-1689-43a8-9587-4eacca79c6b6": {
      "model_module": "jupyter-threejs",
      "model_module_version": "^2.1.0",
      "model_name": "OrthographicCameraModel",
      "state": {
       "bottom": -5,
       "far": 500,
       "left": -5,
       "near": 0.5,
       "projectionMatrix": [
        0.2,
        0,
        0,
        0,
        0,
        0.2,
        0,
        0,
        0,
        0,
        -0.004004004004004004,
        0,
        0,
        0,
        -1.002002002002002,
        1
       ],
       "right": 5,
       "top": 5
      }
     },
     "1d9def88-37cb-49ec-b722-e19a810de008": {
      "model_module": "jupyter-threejs",
      "model_module_version": "^2.1.0",
      "model_name": "OrthographicCameraModel",
      "state": {
       "bottom": -5,
       "far": 500,
       "left": -5,
       "near": 0.5,
       "projectionMatrix": [
        0.2,
        0,
        0,
        0,
        0,
        0.2,
        0,
        0,
        0,
        0,
        -0.004004004004004004,
        0,
        0,
        0,
        -1.002002002002002,
        1
       ],
       "right": 5,
       "top": 5
      }
     },
     "1e89ddbc6abf4498be12ded5ef25fb47": {
      "model_module": "jupyter-threejs",
      "model_module_version": "^2.1.0",
      "model_name": "LineSegmentsModel",
      "state": {
       "_view_module": null,
       "_view_module_version": "",
       "geometry": "IPY_MODEL_ce9e48af3dc6458d994e7da4c9f9c5b2",
       "material": "IPY_MODEL_030c9a825eca4fa69cf6a24e051c8a8c",
       "matrix": [
        1,
        0,
        0,
        0,
        0,
        1,
        0,
        0,
        0,
        0,
        1,
        0,
        -400,
        -300,
        0,
        1
       ],
       "position": [
        -400,
        -300,
        0
       ]
      }
     },
     "20233cb7127e4b41889d1d9e5e08473d": {
      "model_module": "jupyter-threejs",
      "model_module_version": "^2.1.0",
      "model_name": "AxesHelperModel",
      "state": {
       "_view_module": null,
       "_view_module_version": "",
       "size": 0.1,
       "type": "LineSegments"
      }
     },
     "229630f13a924ce8b2d8d1ff099c05ec": {
      "buffers": [
       {
        "data": "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",
        "encoding": "base64",
        "path": [
         "array",
         "buffer"
        ]
       }
      ],
      "model_module": "jupyter-threejs",
      "model_module_version": "^2.1.0",
      "model_name": "BufferAttributeModel",
      "state": {
       "_view_module": null,
       "_view_module_version": "",
       "array": {
        "dtype": "uint16",
        "shape": [
         1152
        ]
       },
       "version": 2
      }
     },
     "235cde76-dee1-42e8-ba64-30dd2bfd4487": {
      "model_module": "jupyter-threejs",
      "model_module_version": "^2.1.0",
      "model_name": "Object3DModel",
      "state": {}
     },
     "2fe6c727739c4489a5edeb56ec8e8199": {
      "model_module": "jupyter-threejs",
      "model_module_version": "^2.1.0",
      "model_name": "DirectionalLightModel",
      "state": {
       "_view_module": null,
       "_view_module_version": "",
       "intensity": 0.21428571428571427,
       "matrixWorldNeedsUpdate": true,
       "position": [
        93969.26207859084,
        0,
        -34202.01433256687
       ],
       "shadow": "IPY_MODEL_31a6d573-94a0-4f7c-b57d-0141a199e3af",
       "target": "IPY_MODEL_8af1f8f4-4305-4bdf-91ea-3f61cafef59a"
      }
     },
     "2ff55b56be98494f98a28fd9ee0d5516": {
      "model_module": "jupyter-threejs",
      "model_module_version": "^2.1.0",
      "model_name": "MeshPhongMaterialModel",
      "state": {
       "_view_module": null,
       "_view_module_version": "",
       "color": "#d2b48c",
       "flatShading": true,
       "polygonOffset": true,
       "polygonOffsetFactor": 1,
       "polygonOffsetUnits": 1,
       "reflectivity": 0,
       "shininess": 0,
       "side": "DoubleSide",
       "specular": "#000000"
      }
     },
     "30165a9843ce48688cb940405fd6cd2d": {
      "model_module": "jupyter-threejs",
      "model_module_version": "^2.1.0",
      "model_name": "BufferGeometryModel",
      "state": {
       "_view_module": null,
       "_view_module_version": "",
       "attributes": {
        "index": "IPY_MODEL_1410630ba2d947ec80923aa5d82ee7fe",
        "position": "IPY_MODEL_c50af546280749d1b2cbe09c2150cb1f"
       }
      }
     },
     "30d39ffc-6c2e-4c93-8287-4fb01c4e0000": {
      "model_module": "jupyter-threejs",
      "model_module_version": "^2.1.0",
      "model_name": "Object3DModel",
      "state": {}
     },
     "30e1200e7a954054809f8bca06656880": {
      "model_module": "jupyter-threejs",
      "model_module_version": "^2.1.0",
      "model_name": "MeshPhongMaterialModel",
      "state": {
       "_view_module": null,
       "_view_module_version": "",
       "color": "#d2b48c",
       "flatShading": true,
       "polygonOffset": true,
       "polygonOffsetFactor": 1,
       "polygonOffsetUnits": 1,
       "reflectivity": 0,
       "shininess": 0,
       "side": "DoubleSide",
       "specular": "#000000"
      }
     },
     "315be6dd-d5da-46cb-bd8e-f32834613627": {
      "model_module": "jupyter-threejs",
      "model_module_version": "^2.1.0",
      "model_name": "Object3DModel",
      "state": {}
     },
     "3179ab68e2b24c37855e7a8282c3ad03": {
      "model_module": "@jupyter-widgets/base",
      "model_module_version": "1.2.0",
      "model_name": "LayoutModel",
      "state": {}
     },
     "31a6d573-94a0-4f7c-b57d-0141a199e3af": {
      "model_module": "jupyter-threejs",
      "model_module_version": "^2.1.0",
      "model_name": "DirectionalLightShadowModel",
      "state": {
       "camera": "IPY_MODEL_1d9def88-37cb-49ec-b722-e19a810de008"
      }
     },
     "33f89107-1749-4fb9-a49b-96020b78abda": {
      "model_module": "jupyter-threejs",
      "model_module_version": "^2.1.0",
      "model_name": "DirectionalLightShadowModel",
      "state": {
       "camera": "IPY_MODEL_7876ddc0-6193-456f-bf17-a26999d37423"
      }
     },
     "3446c87c-a5cb-471d-9315-ea5738f368f8": {
      "model_module": "jupyter-threejs",
      "model_module_version": "^2.1.0",
      "model_name": "OrthographicCameraModel",
      "state": {
       "bottom": -5,
       "far": 500,
       "left": -5,
       "near": 0.5,
       "projectionMatrix": [
        0.2,
        0,
        0,
        0,
        0,
        0.2,
        0,
        0,
        0,
        0,
        -0.004004004004004004,
        0,
        0,
        0,
        -1.002002002002002,
        1
       ],
       "right": 5,
       "top": 5
      }
     },
     "371cf951-94e6-4b3d-9861-f5026a28eb68": {
      "model_module": "jupyter-threejs",
      "model_module_version": "^2.1.0",
      "model_name": "DirectionalLightShadowModel",
      "state": {
       "camera": "IPY_MODEL_d652760b-6c33-4835-84fc-60c31a3c3186"
      }
     },
     "3abaa6beccf74da58c5770b5ae011fcf": {
      "model_module": "jupyter-threejs",
      "model_module_version": "^2.1.0",
      "model_name": "DirectionalLightModel",
      "state": {
       "_view_module": null,
       "_view_module_version": "",
       "intensity": 0.21428571428571427,
       "matrixWorldNeedsUpdate": true,
       "position": [
        -93969.26207859084,
        0,
        -34202.01433256687
       ],
       "shadow": "IPY_MODEL_8a881a3a-4af0-4626-8ce8-9b08ecade4e7",
       "target": "IPY_MODEL_924ba067-73ed-481d-834f-a0e9233dc8ac"
      }
     },
     "40ec6b16-1c89-4dc5-a5a2-43e371af225e": {
      "model_module": "jupyter-threejs",
      "model_module_version": "^2.1.0",
      "model_name": "OrthographicCameraModel",
      "state": {
       "bottom": -5,
       "far": 500,
       "left": -5,
       "near": 0.5,
       "projectionMatrix": [
        0.2,
        0,
        0,
        0,
        0,
        0.2,
        0,
        0,
        0,
        0,
        -0.004004004004004004,
        0,
        0,
        0,
        -1.002002002002002,
        1
       ],
       "right": 5,
       "top": 5
      }
     },
     "4166d6a20e504cdab91d19ca562d51ea": {
      "model_module": "jupyter-threejs",
      "model_module_version": "^2.1.0",
      "model_name": "BufferGeometryModel",
      "state": {
       "_view_module": null,
       "_view_module_version": "",
       "attributes": {
        "index": "IPY_MODEL_6433a8fe5b954cf5a9ab09c8a038b963",
        "position": "IPY_MODEL_8c3dd9b46da1440bb77761b284efd33b"
       }
      }
     },
     "46f475f1-9047-4742-bb81-9c0219e2f247": {
      "model_module": "jupyter-threejs",
      "model_module_version": "^2.1.0",
      "model_name": "DirectionalLightShadowModel",
      "state": {
       "camera": "IPY_MODEL_3446c87c-a5cb-471d-9315-ea5738f368f8"
      }
     },
     "489a89ccf6f24728b1c30bd5e75bbf53": {
      "model_module": "jupyter-threejs",
      "model_module_version": "^2.1.0",
      "model_name": "MeshPhongMaterialModel",
      "state": {
       "_view_module": null,
       "_view_module_version": "",
       "color": "#d2b48c",
       "flatShading": true,
       "polygonOffset": true,
       "polygonOffsetFactor": 1,
       "polygonOffsetUnits": 1,
       "reflectivity": 0,
       "shininess": 0,
       "side": "DoubleSide",
       "specular": "#000000"
      }
     },
     "4ea7266c-4ce2-4723-b295-8b990a749651": {
      "model_module": "jupyter-threejs",
      "model_module_version": "^2.1.0",
      "model_name": "OrthographicCameraModel",
      "state": {
       "bottom": -5,
       "far": 500,
       "left": -5,
       "near": 0.5,
       "projectionMatrix": [
        0.2,
        0,
        0,
        0,
        0,
        0.2,
        0,
        0,
        0,
        0,
        -0.004004004004004004,
        0,
        0,
        0,
        -1.002002002002002,
        1
       ],
       "right": 5,
       "top": 5
      }
     },
     "4f5cb91a24c7478391c1582bd7bae366": {
      "model_module": "jupyter-threejs",
      "model_module_version": "^2.1.0",
      "model_name": "OrbitControlsModel",
      "state": {
       "_view_module": null,
       "_view_module_version": "",
       "controlling": "IPY_MODEL_003d994b653741bf94811c0afea4d448",
       "maxAzimuthAngle": 100000000000000000000,
       "maxDistance": 100000000000000000000,
       "maxZoom": 100000000000000000000,
       "minAzimuthAngle": -100000000000000000000
      }
     },
     "55a238a8-1cee-48ab-89a1-a5536960e8a9": {
      "model_module": "jupyter-threejs",
      "model_module_version": "^2.1.0",
      "model_name": "Object3DModel",
      "state": {}
     },
     "56d31043e2f949c0948b8035dcc41a63": {
      "model_module": "@jupyter-widgets/base",
      "model_module_version": "1.2.0",
      "model_name": "LayoutModel",
      "state": {}
     },
     "570ec2eb01d744d2b0744e2b2c5ea14f": {
      "model_module": "jupyter-threejs",
      "model_module_version": "^2.1.0",
      "model_name": "WebGLShadowMapModel",
      "state": {
       "_view_module": null,
       "_view_module_version": ""
      }
     },
     "5aa07e34a87d4cd5863e9ba1d4e9329d": {
      "buffers": [
       {
        "data": "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",
        "encoding": "base64",
        "path": [
         "array",
         "buffer"
        ]
       }
      ],
      "model_module": "jupyter-threejs",
      "model_module_version": "^2.1.0",
      "model_name": "BufferAttributeModel",
      "state": {
       "_view_module": null,
       "_view_module_version": "",
       "array": {
        "dtype": "float32",
        "shape": [
         610,
         3
        ]
       },
       "version": 2
      }
     },
     "5d6e54700ae645568f4aed2c72b5df5a": {
      "model_module": "jupyter-threejs",
      "model_module_version": "^2.1.0",
      "model_name": "OrbitControlsModel",
      "state": {
       "_view_module": null,
       "_view_module_version": "",
       "controlling": "IPY_MODEL_f160194884384cc29c2adca78f3e41a6",
       "maxAzimuthAngle": 100000000000000000000,
       "maxDistance": 100000000000000000000,
       "maxZoom": 100000000000000000000,
       "minAzimuthAngle": -100000000000000000000
      }
     },
     "5daec65a-f122-4447-be53-c1a2197c74ed": {
      "model_module": "jupyter-threejs",
      "model_module_version": "^2.1.0",
      "model_name": "OrthographicCameraModel",
      "state": {
       "bottom": -5,
       "far": 500,
       "left": -5,
       "near": 0.5,
       "projectionMatrix": [
        0.2,
        0,
        0,
        0,
        0,
        0.2,
        0,
        0,
        0,
        0,
        -0.004004004004004004,
        0,
        0,
        0,
        -1.002002002002002,
        1
       ],
       "right": 5,
       "top": 5
      }
     },
     "600f769b-ab8e-4b89-91a6-98d867134f53": {
      "model_module": "jupyter-threejs",
      "model_module_version": "^2.1.0",
      "model_name": "DirectionalLightShadowModel",
      "state": {
       "camera": "IPY_MODEL_5daec65a-f122-4447-be53-c1a2197c74ed"
      }
     },
     "60122a40-1dbd-41ce-b405-4dbde365867b": {
      "model_module": "jupyter-threejs",
      "model_module_version": "^2.1.0",
      "model_name": "Object3DModel",
      "state": {}
     },
     "60e395e052ee4a9dbc9b8ff7f2171597": {
      "model_module": "jupyter-threejs",
      "model_module_version": "^2.1.0",
      "model_name": "DirectionalLightModel",
      "state": {
       "_view_module": null,
       "_view_module_version": "",
       "color": "#f5f7ff",
       "intensity": 0.25,
       "matrixWorldNeedsUpdate": true,
       "position": [
        -4494.345552754778,
        -96592.58262890684,
        25488.700224417877
       ],
       "shadow": "IPY_MODEL_33f89107-1749-4fb9-a49b-96020b78abda",
       "target": "IPY_MODEL_74fb0afc-358b-4e4a-b506-fc6aa367b61c"
      }
     },
     "6433a8fe5b954cf5a9ab09c8a038b963": {
      "buffers": [
       {
        "data": "AAABAAEAAgACAAMAAwAAAAIABAAEAAUABQADAAQABgAGAAcABwAFAAYACAAIAAkACQAHAAgACgAKAAsACwAJAAoADAAMAA0ADQALAAEADgAOAA8ADwACAA8AEAAQAAQAEAARABEABgARABIAEgAIABIAEwATAAoAEwAUABQADAAOABUAFQAWABYADwAWABcAFwAQABcAGAAYABEAGAAZABkAEgAZABoAGgATABoAGwAbABQAFQAcABwAHQAdABYAHQAeAB4AFwAeAB8AHwAYAB8AIAAgABkAIAAhACEAGgAhACIAIgAbABwAIwAjACQAJAAdACQAJQAlAB4AJQAmACYAHwAmACcAJwAgACcAKAAoACEAKAApACkAIgAjACoAKgArACsAJAArACwALAAlACwALQAtACYALQAuAC4AJwAuAC8ALwAoAC8AMAAwACkAKgAxADEAMgAyACsAMgAzADMALAAzADQANAAtADQANQA1AC4ANQA2ADYALwA2ADcANwAwADEAOAA4ADkAOQAyADkAOgA6ADMAOgA7ADsANAA7ADwAPAA1ADwAPQA9ADYAPQA+AD4ANwA=",
        "encoding": "base64",
        "path": [
         "array",
         "buffer"
        ]
       }
      ],
      "model_module": "jupyter-threejs",
      "model_module_version": "^2.1.0",
      "model_name": "BufferAttributeModel",
      "state": {
       "_view_module": null,
       "_view_module_version": "",
       "array": {
        "dtype": "uint16",
        "shape": [
         220
        ]
       },
       "version": 2
      }
     },
     "6745849e45fc4ba588cdcbdcda4d6d40": {
      "buffers": [
       {
        "data": "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",
        "encoding": "base64",
        "path": [
         "array",
         "buffer"
        ]
       }
      ],
      "model_module": "jupyter-threejs",
      "model_module_version": "^2.1.0",
      "model_name": "BufferAttributeModel",
      "state": {
       "_view_module": null,
       "_view_module_version": "",
       "array": {
        "dtype": "float32",
        "shape": [
         221,
         3
        ]
       },
       "version": 2
      }
     },
     "68ffe4de-6da3-4d12-83f4-1286b69d3c6a": {
      "model_module": "jupyter-threejs",
      "model_module_version": "^2.1.0",
      "model_name": "Object3DModel",
      "state": {}
     },
     "6ac5e0cf1b024a169eb3afe44ac9baf7": {
      "buffers": [
       {
        "data": "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",
        "encoding": "base64",
        "path": [
         "array",
         "buffer"
        ]
       }
      ],
      "model_module": "jupyter-threejs",
      "model_module_version": "^2.1.0",
      "model_name": "BufferAttributeModel",
      "state": {
       "_view_module": null,
       "_view_module_version": "",
       "array": {
        "dtype": "uint16",
        "shape": [
         3648
        ]
       },
       "version": 2
      }
     },
     "6bc19756-12c9-4688-862f-4613d680e7e3": {
      "model_module": "jupyter-threejs",
      "model_module_version": "^2.1.0",
      "model_name": "DirectionalLightShadowModel",
      "state": {
       "camera": "IPY_MODEL_f3c070e3-bb9f-43bc-a2c7-fc65bf8952c5"
      }
     },
     "6e1ce3d0-5395-4a4d-806a-17eb52f4ecac": {
      "model_module": "jupyter-threejs",
      "model_module_version": "^2.1.0",
      "model_name": "DirectionalLightShadowModel",
      "state": {
       "camera": "IPY_MODEL_c9eff535-7a28-4e8e-8ee5-b92a8ce340b0"
      }
     },
     "72c7baa009d040008da5caa5bc03e547": {
      "model_module": "jupyter-threejs",
      "model_module_version": "^2.1.0",
      "model_name": "DirectionalLightModel",
      "state": {
       "_view_module": null,
       "_view_module_version": "",
       "color": "#f5f7ff",
       "intensity": 0.25,
       "matrixWorldNeedsUpdate": true,
       "position": [
        -4494.345552754778,
        -96592.58262890684,
        25488.700224417877
       ],
       "shadow": "IPY_MODEL_600f769b-ab8e-4b89-91a6-98d867134f53",
       "target": "IPY_MODEL_315be6dd-d5da-46cb-bd8e-f32834613627"
      }
     },
     "7444fe70-f84e-46c2-a79b-71dc087bd414": {
      "model_module": "jupyter-threejs",
      "model_module_version": "^2.1.0",
      "model_name": "Object3DModel",
      "state": {}
     },
     "74f89b1111054fc1ac42cb1bf1112839": {
      "buffers": [
       {
        "data": "AAAAAAAAAAAAAAAAAADIQgAAAAAAAAAAAADIQgAAyEIAAAAAAAAAAAAAyEIAAAAAAADIQgAASEMAAAAAAAAAAAAASEMAAAAAAADIQgAAlkMAAAAAAAAAAAAAlkMAAAAAAADIQgAAyEMAAAAAAAAAAAAAyEMAAAAAAADIQgAA+kMAAAAAAAAAAAAA+kMAAAAAAADIQgAAFkQAAAAAAAAAAAAAFkQAAAAAAABIQwAAAAAAAAAAAABIQwAAyEIAAAAAAABIQwAASEMAAAAAAABIQwAAlkMAAAAAAABIQwAAyEMAAAAAAABIQwAA+kMAAAAAAABIQwAAFkQAAAAAAACWQwAAAAAAAAAAAACWQwAAyEIAAAAAAACWQwAASEMAAAAAAACWQwAAlkMAAAAAAACWQwAAyEMAAAAAAACWQwAA+kMAAAAAAACWQwAAFkQAAAAAAADIQwAAAAAAAAAAAADIQwAAyEIAAAAAAADIQwAASEMAAAAAAADIQwAAlkMAAAAAAADIQwAAyEMAAAAAAADIQwAA+kMAAAAAAADIQwAAFkQAAAAAAAD6QwAAAAAAAAAAAAD6QwAAyEIAAAAAAAD6QwAASEMAAAAAAAD6QwAAlkMAAAAAAAD6QwAAyEMAAAAAAAD6QwAA+kMAAAAAAAD6QwAAFkQAAAAAAAAWRAAAAAAAAAAAAAAWRAAAyEIAAAAAAAAWRAAASEMAAAAAAAAWRAAAlkMAAAAAAAAWRAAAyEMAAAAAAAAWRAAA+kMAAAAAAAAWRAAAFkQAAAAAAAAvRAAAAAAAAAAAAAAvRAAAyEIAAAAAAAAvRAAASEMAAAAAAAAvRAAAlkMAAAAAAAAvRAAAyEMAAAAAAAAvRAAA+kMAAAAAAAAvRAAAFkQAAAAAAABIRAAAAAAAAAAAAABIRAAAyEIAAAAAAABIRAAASEMAAAAAAABIRAAAlkMAAAAAAABIRAAAyEMAAAAAAABIRAAA+kMAAAAAAABIRAAAFkQAAAAA",
        "encoding": "base64",
        "path": [
         "array",
         "buffer"
        ]
       }
      ],
      "model_module": "jupyter-threejs",
      "model_module_version": "^2.1.0",
      "model_name": "BufferAttributeModel",
      "state": {
       "_view_module": null,
       "_view_module_version": "",
       "array": {
        "dtype": "float32",
        "shape": [
         63,
         3
        ]
       },
       "version": 2
      }
     },
     "74fb0afc-358b-4e4a-b506-fc6aa367b61c": {
      "model_module": "jupyter-threejs",
      "model_module_version": "^2.1.0",
      "model_name": "Object3DModel",
      "state": {}
     },
     "7876ddc0-6193-456f-bf17-a26999d37423": {
      "model_module": "jupyter-threejs",
      "model_module_version": "^2.1.0",
      "model_name": "OrthographicCameraModel",
      "state": {
       "bottom": -5,
       "far": 500,
       "left": -5,
       "near": 0.5,
       "projectionMatrix": [
        0.2,
        0,
        0,
        0,
        0,
        0.2,
        0,
        0,
        0,
        0,
        -0.004004004004004004,
        0,
        0,
        0,
        -1.002002002002002,
        1
       ],
       "right": 5,
       "top": 5
      }
     },
     "78a2f613-a79b-4dba-a223-8e2b6f52ca13": {
      "model_module": "jupyter-threejs",
      "model_module_version": "^2.1.0",
      "model_name": "DirectionalLightShadowModel",
      "state": {
       "camera": "IPY_MODEL_c78e031b-fe5b-445a-97cc-8b9209a1bf10"
      }
     },
     "78f9d1331e8d4615957001765c50ebb0": {
      "model_module": "jupyter-threejs",
      "model_module_version": "^2.1.0",
      "model_name": "DirectionalLightModel",
      "state": {
       "_view_module": null,
       "_view_module_version": "",
       "color": "#fffcf4",
       "intensity": 0.75,
       "matrixWorldNeedsUpdate": true,
       "position": [
        11161.889704894966,
        76604.4443118978,
        63302.222155948904
       ],
       "shadow": "IPY_MODEL_b472a2ce-52af-4fb3-ada6-ae77c9f6a485",
       "target": "IPY_MODEL_d05cd61c-2c7c-4e62-84b6-9f6d55e0bf9f"
      }
     },
     "7ab6171764ea4e7fb9af50920f22c5d5": {
      "model_module": "jupyter-threejs",
      "model_module_version": "^2.1.0",
      "model_name": "BufferGeometryModel",
      "state": {
       "_view_module": null,
       "_view_module_version": "",
       "attributes": {
        "index": "IPY_MODEL_f39bd48094264fbc907fbcf0b45556ea",
        "position": "IPY_MODEL_74f89b1111054fc1ac42cb1bf1112839"
       }
      }
     },
     "80c058ec5b0a4b07bedc6ef400816b11": {
      "model_module": "jupyter-threejs",
      "model_module_version": "^2.1.0",
      "model_name": "AxesHelperModel",
      "state": {
       "_view_module": null,
       "_view_module_version": "",
       "size": 0.1,
       "type": "LineSegments"
      }
     },
     "80d387b7-d341-4710-84ad-beaa97fd49a0": {
      "model_module": "jupyter-threejs",
      "model_module_version": "^2.1.0",
      "model_name": "Object3DModel",
      "state": {}
     },
     "86114571105041af871dde609aa9cbe9": {
      "buffers": [
       {
        "data": "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",
        "encoding": "base64",
        "path": [
         "array",
         "buffer"
        ]
       }
      ],
      "model_module": "jupyter-threejs",
      "model_module_version": "^2.1.0",
      "model_name": "BufferAttributeModel",
      "state": {
       "_view_module": null,
       "_view_module_version": "",
       "array": {
        "dtype": "float32",
        "shape": [
         221,
         3
        ]
       },
       "version": 2
      }
     },
     "887150a4-9292-4a9e-bf91-fc97f3974898": {
      "model_module": "jupyter-threejs",
      "model_module_version": "^2.1.0",
      "model_name": "Object3DModel",
      "state": {}
     },
     "88a6c00c1a9b41a3a963b60baeae6d19": {
      "model_module": "jupyter-threejs",
      "model_module_version": "^2.1.0",
      "model_name": "DirectionalLightModel",
      "state": {
       "_view_module": null,
       "_view_module_version": "",
       "color": "#fffcf4",
       "intensity": 0.75,
       "matrixWorldNeedsUpdate": true,
       "position": [
        11161.889704894966,
        76604.4443118978,
        63302.222155948904
       ],
       "shadow": "IPY_MODEL_ae40bab6-905b-49b4-9691-a58ccf94b9d5",
       "target": "IPY_MODEL_80d387b7-d341-4710-84ad-beaa97fd49a0"
      }
     },
     "898e71974c0d48b6aad5b49a962c4bfc": {
      "model_module": "jupyter-threejs",
      "model_module_version": "^2.1.0",
      "model_name": "DirectionalLightModel",
      "state": {
       "_view_module": null,
       "_view_module_version": "",
       "intensity": 0.21428571428571427,
       "matrixWorldNeedsUpdate": true,
       "position": [
        93969.26207859084,
        0,
        -34202.01433256687
       ],
       "shadow": "IPY_MODEL_6bc19756-12c9-4688-862f-4613d680e7e3",
       "target": "IPY_MODEL_ce7de5f0-9f89-4862-9f0b-eb036d1cc6df"
      }
     },
     "8a881a3a-4af0-4626-8ce8-9b08ecade4e7": {
      "model_module": "jupyter-threejs",
      "model_module_version": "^2.1.0",
      "model_name": "DirectionalLightShadowModel",
      "state": {
       "camera": "IPY_MODEL_4ea7266c-4ce2-4723-b295-8b990a749651"
      }
     },
     "8ab1eb32850e460fa5eb8c4689714bf6": {
      "model_module": "jupyter-threejs",
      "model_module_version": "^2.1.0",
      "model_name": "SceneModel",
      "state": {
       "_view_module": null,
       "_view_module_version": "",
       "children": [
        "IPY_MODEL_e60ad32d73bf46feb7c170334e0090c1",
        "IPY_MODEL_924ff85e1fc744d287f4f1ac65a83bef",
        "IPY_MODEL_003d994b653741bf94811c0afea4d448",
        "IPY_MODEL_80c058ec5b0a4b07bedc6ef400816b11"
       ]
      }
     },
     "8af1f8f4-4305-4bdf-91ea-3f61cafef59a": {
      "model_module": "jupyter-threejs",
      "model_module_version": "^2.1.0",
      "model_name": "Object3DModel",
      "state": {}
     },
     "8c3dd9b46da1440bb77761b284efd33b": {
      "buffers": [
       {
        "data": "AAAAAAAAAAAAAAAAAADIQgAAAAAAAAAAAADIQgAAyEIAAAAAAAAAAAAAyEIAAAAAAADIQgAASEMAAAAAAAAAAAAASEMAAAAAAADIQgAAlkMAAAAAAAAAAAAAlkMAAAAAAADIQgAAyEMAAAAAAAAAAAAAyEMAAAAAAADIQgAA+kMAAAAAAAAAAAAA+kMAAAAAAADIQgAAFkQAAAAAAAAAAAAAFkQAAAAAAABIQwAAAAAAAAAAAABIQwAAyEIAAAAAAABIQwAASEMAAAAAAABIQwAAlkMAAAAAAABIQwAAyEMAAAAAAABIQwAA+kMAAAAAAABIQwAAFkQAAAAAAACWQwAAAAAAAAAAAACWQwAAyEIAAAAAAACWQwAASEMAAAAAAACWQwAAlkMAAAAAAACWQwAAyEMAAAAAAACWQwAA+kMAAAAAAACWQwAAFkQAAAAAAADIQwAAAAAAAAAAAADIQwAAyEIAAAAAAADIQwAASEMAAAAAAADIQwAAlkMAAAAAAADIQwAAyEMAAAAAAADIQwAA+kMAAAAAAADIQwAAFkQAAAAAAAD6QwAAAAAAAAAAAAD6QwAAyEIAAAAAAAD6QwAASEMAAAAAAAD6QwAAlkMAAAAAAAD6QwAAyEMAAAAAAAD6QwAA+kMAAAAAAAD6QwAAFkQAAAAAAAAWRAAAAAAAAAAAAAAWRAAAyEIAAAAAAAAWRAAASEMAAAAAAAAWRAAAlkMAAAAAAAAWRAAAyEMAAAAAAAAWRAAA+kMAAAAAAAAWRAAAFkQAAAAAAAAvRAAAAAAAAAAAAAAvRAAAyEIAAAAAAAAvRAAASEMAAAAAAAAvRAAAlkMAAAAAAAAvRAAAyEMAAAAAAAAvRAAA+kMAAAAAAAAvRAAAFkQAAAAAAABIRAAAAAAAAAAAAABIRAAAyEIAAAAAAABIRAAASEMAAAAAAABIRAAAlkMAAAAAAABIRAAAyEMAAAAAAABIRAAA+kMAAAAAAABIRAAAFkQAAAAA",
        "encoding": "base64",
        "path": [
         "array",
         "buffer"
        ]
       }
      ],
      "model_module": "jupyter-threejs",
      "model_module_version": "^2.1.0",
      "model_name": "BufferAttributeModel",
      "state": {
       "_view_module": null,
       "_view_module_version": "",
       "array": {
        "dtype": "float32",
        "shape": [
         63,
         3
        ]
       },
       "version": 2
      }
     },
     "8d269f6a1a0844ac9dd8b5e64967cb27": {
      "model_module": "jupyter-threejs",
      "model_module_version": "^2.1.0",
      "model_name": "LineBasicMaterialModel",
      "state": {
       "_view_module": null,
       "_view_module_version": "",
       "color": "#000000"
      }
     },
     "8e70c5878acd4de69ccaa5d17a666271": {
      "model_module": "jupyter-threejs",
      "model_module_version": "^2.1.0",
      "model_name": "LineSegmentsModel",
      "state": {
       "_view_module": null,
       "_view_module_version": "",
       "geometry": "IPY_MODEL_a52c6060b85949f6bdabfbdf18f953f9",
       "material": "IPY_MODEL_8d269f6a1a0844ac9dd8b5e64967cb27",
       "matrix": [
        1,
        0,
        0,
        0,
        0,
        1,
        0,
        0,
        0,
        0,
        1,
        0,
        -400,
        -300,
        -50,
        1
       ],
       "position": [
        -400,
        -300,
        -50
       ]
      }
     },
     "8ef953c9694842838fb8b951bbc90647": {
      "model_module": "jupyter-threejs",
      "model_module_version": "^2.1.0",
      "model_name": "DirectionalLightModel",
      "state": {
       "_view_module": null,
       "_view_module_version": "",
       "color": "#fffcf4",
       "intensity": 0.75,
       "matrixWorldNeedsUpdate": true,
       "position": [
        11161.889704894966,
        76604.4443118978,
        63302.222155948904
       ],
       "shadow": "IPY_MODEL_a1d28b1f-f56e-46c7-9a57-51daf0917473",
       "target": "IPY_MODEL_7444fe70-f84e-46c2-a79b-71dc087bd414"
      }
     },
     "904886e1-1c3e-40cb-b35d-1782608b1563": {
      "model_module": "jupyter-threejs",
      "model_module_version": "^2.1.0",
      "model_name": "Object3DModel",
      "state": {}
     },
     "91368a63e28147219350b40fa16a37f8": {
      "model_module": "jupyter-threejs",
      "model_module_version": "^2.1.0",
      "model_name": "OrbitControlsModel",
      "state": {
       "_view_module": null,
       "_view_module_version": "",
       "controlling": "IPY_MODEL_ef7ed8a9a5094cfe9838853ee0260749",
       "maxAzimuthAngle": 100000000000000000000,
       "maxDistance": 100000000000000000000,
       "maxZoom": 100000000000000000000,
       "minAzimuthAngle": -100000000000000000000
      }
     },
     "924ba067-73ed-481d-834f-a0e9233dc8ac": {
      "model_module": "jupyter-threejs",
      "model_module_version": "^2.1.0",
      "model_name": "Object3DModel",
      "state": {}
     },
     "924ff85e1fc744d287f4f1ac65a83bef": {
      "model_module": "jupyter-threejs",
      "model_module_version": "^2.1.0",
      "model_name": "MeshModel",
      "state": {
       "_view_module": null,
       "_view_module_version": "",
       "geometry": "IPY_MODEL_7ab6171764ea4e7fb9af50920f22c5d5",
       "material": "IPY_MODEL_489a89ccf6f24728b1c30bd5e75bbf53",
       "matrix": [
        1,
        0,
        0,
        0,
        0,
        1,
        0,
        0,
        0,
        0,
        1,
        0,
        -400,
        -300,
        0,
        1
       ],
       "morphTargetInfluences": [],
       "position": [
        -400,
        -300,
        0
       ]
      }
     },
     "925e760081a149e1b20346aeaef443c0": {
      "model_module": "jupyter-threejs",
      "model_module_version": "^2.1.0",
      "model_name": "DirectionalLightModel",
      "state": {
       "_view_module": null,
       "_view_module_version": "",
       "intensity": 0.25,
       "matrixWorldNeedsUpdate": true,
       "position": [
        0,
        0,
        100000
       ],
       "shadow": "IPY_MODEL_f3c3cb87-764e-482b-a4ff-2a18954b205d",
       "target": "IPY_MODEL_30d39ffc-6c2e-4c93-8287-4fb01c4e0000"
      }
     },
     "a1d28b1f-f56e-46c7-9a57-51daf0917473": {
      "model_module": "jupyter-threejs",
      "model_module_version": "^2.1.0",
      "model_name": "DirectionalLightShadowModel",
      "state": {
       "camera": "IPY_MODEL_1a4fe5bd-1689-43a8-9587-4eacca79c6b6"
      }
     },
     "a43aa8fc-bab1-4f3f-95a0-3ce29e472cef": {
      "model_module": "jupyter-threejs",
      "model_module_version": "^2.1.0",
      "model_name": "OrthographicCameraModel",
      "state": {
       "bottom": -5,
       "far": 500,
       "left": -5,
       "near": 0.5,
       "projectionMatrix": [
        0.2,
        0,
        0,
        0,
        0,
        0.2,
        0,
        0,
        0,
        0,
        -0.004004004004004004,
        0,
        0,
        0,
        -1.002002002002002,
        1
       ],
       "right": 5,
       "top": 5
      }
     },
     "a52c6060b85949f6bdabfbdf18f953f9": {
      "model_module": "jupyter-threejs",
      "model_module_version": "^2.1.0",
      "model_name": "BufferGeometryModel",
      "state": {
       "_view_module": null,
       "_view_module_version": "",
       "attributes": {
        "index": "IPY_MODEL_6ac5e0cf1b024a169eb3afe44ac9baf7",
        "position": "IPY_MODEL_5aa07e34a87d4cd5863e9ba1d4e9329d"
       }
      }
     },
     "a8ab0979d68946c0b9ff4507f08511de": {
      "model_module": "jupyter-threejs",
      "model_module_version": "^2.1.0",
      "model_name": "SceneModel",
      "state": {
       "_view_module": null,
       "_view_module_version": "",
       "children": [
        "IPY_MODEL_8e70c5878acd4de69ccaa5d17a666271",
        "IPY_MODEL_0a7d4c09214448cc9f91b6a1c96607f1",
        "IPY_MODEL_f160194884384cc29c2adca78f3e41a6",
        "IPY_MODEL_20233cb7127e4b41889d1d9e5e08473d"
       ]
      }
     },
     "a969aace6499428d810ab629bc51b5a6": {
      "model_module": "jupyter-threejs",
      "model_module_version": "^2.1.0",
      "model_name": "RendererModel",
      "state": {
       "_alpha": true,
       "_height": 400,
       "_webgl_version": 2,
       "_width": 600,
       "camera": "IPY_MODEL_ef7ed8a9a5094cfe9838853ee0260749",
       "clearOpacity": 0,
       "controls": [
        "IPY_MODEL_91368a63e28147219350b40fa16a37f8"
       ],
       "layout": "IPY_MODEL_3179ab68e2b24c37855e7a8282c3ad03",
       "scene": "IPY_MODEL_a9c731556e8240ea9b588988206d48bc",
       "shadowMap": "IPY_MODEL_082c99ee545240fe8f2b2f6db01df9ea"
      }
     },
     "a9c731556e8240ea9b588988206d48bc": {
      "model_module": "jupyter-threejs",
      "model_module_version": "^2.1.0",
      "model_name": "SceneModel",
      "state": {
       "_view_module": null,
       "_view_module_version": "",
       "children": [
        "IPY_MODEL_1e89ddbc6abf4498be12ded5ef25fb47",
        "IPY_MODEL_bdcaca275d1f475dacd0fa70ca3ddc30",
        "IPY_MODEL_ef7ed8a9a5094cfe9838853ee0260749",
        "IPY_MODEL_b569aaa311a8443ca1d09d1a5b824787"
       ]
      }
     },
     "ae40bab6-905b-49b4-9691-a58ccf94b9d5": {
      "model_module": "jupyter-threejs",
      "model_module_version": "^2.1.0",
      "model_name": "DirectionalLightShadowModel",
      "state": {
       "camera": "IPY_MODEL_ce93378d-d34b-4504-aacb-6041b74bbe7c"
      }
     },
     "b472a2ce-52af-4fb3-ada6-ae77c9f6a485": {
      "model_module": "jupyter-threejs",
      "model_module_version": "^2.1.0",
      "model_name": "DirectionalLightShadowModel",
      "state": {
       "camera": "IPY_MODEL_a43aa8fc-bab1-4f3f-95a0-3ce29e472cef"
      }
     },
     "b569aaa311a8443ca1d09d1a5b824787": {
      "model_module": "jupyter-threejs",
      "model_module_version": "^2.1.0",
      "model_name": "AxesHelperModel",
      "state": {
       "_view_module": null,
       "_view_module_version": "",
       "size": 0.1,
       "type": "LineSegments"
      }
     },
     "b74ea983-137e-477d-a2c4-b0f4a6aaae4e": {
      "model_module": "jupyter-threejs",
      "model_module_version": "^2.1.0",
      "model_name": "OrthographicCameraModel",
      "state": {
       "bottom": -5,
       "far": 500,
       "left": -5,
       "near": 0.5,
       "projectionMatrix": [
        0.2,
        0,
        0,
        0,
        0,
        0.2,
        0,
        0,
        0,
        0,
        -0.004004004004004004,
        0,
        0,
        0,
        -1.002002002002002,
        1
       ],
       "right": 5,
       "top": 5
      }
     },
     "b9b10546bbbc4091af360cdaa32e5da2": {
      "model_module": "@jupyter-widgets/base",
      "model_module_version": "1.2.0",
      "model_name": "LayoutModel",
      "state": {}
     },
     "bdcaca275d1f475dacd0fa70ca3ddc30": {
      "model_module": "jupyter-threejs",
      "model_module_version": "^2.1.0",
      "model_name": "MeshModel",
      "state": {
       "_view_module": null,
       "_view_module_version": "",
       "geometry": "IPY_MODEL_d7f781cdcaa14c35849ea18da89b9b45",
       "material": "IPY_MODEL_30e1200e7a954054809f8bca06656880",
       "matrix": [
        1,
        0,
        0,
        0,
        0,
        1,
        0,
        0,
        0,
        0,
        1,
        0,
        -400,
        -300,
        0,
        1
       ],
       "morphTargetInfluences": [],
       "position": [
        -400,
        -300,
        0
       ]
      }
     },
     "c48aa1a17e2e44c0a74a4793d12b7807": {
      "model_module": "jupyter-threejs",
      "model_module_version": "^2.1.0",
      "model_name": "DirectionalLightModel",
      "state": {
       "_view_module": null,
       "_view_module_version": "",
       "intensity": 0.25,
       "matrixWorldNeedsUpdate": true,
       "position": [
        0,
        0,
        100000
       ],
       "shadow": "IPY_MODEL_c51ee016-77fc-481f-abe9-d7f74f3ac54e",
       "target": "IPY_MODEL_235cde76-dee1-42e8-ba64-30dd2bfd4487"
      }
     },
     "c50af546280749d1b2cbe09c2150cb1f": {
      "buffers": [
       {
        "data": "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",
        "encoding": "base64",
        "path": [
         "array",
         "buffer"
        ]
       }
      ],
      "model_module": "jupyter-threejs",
      "model_module_version": "^2.1.0",
      "model_name": "BufferAttributeModel",
      "state": {
       "_view_module": null,
       "_view_module_version": "",
       "array": {
        "dtype": "float32",
        "shape": [
         610,
         3
        ]
       },
       "version": 2
      }
     },
     "c51ee016-77fc-481f-abe9-d7f74f3ac54e": {
      "model_module": "jupyter-threejs",
      "model_module_version": "^2.1.0",
      "model_name": "DirectionalLightShadowModel",
      "state": {
       "camera": "IPY_MODEL_b74ea983-137e-477d-a2c4-b0f4a6aaae4e"
      }
     },
     "c78e031b-fe5b-445a-97cc-8b9209a1bf10": {
      "model_module": "jupyter-threejs",
      "model_module_version": "^2.1.0",
      "model_name": "OrthographicCameraModel",
      "state": {
       "bottom": -5,
       "far": 500,
       "left": -5,
       "near": 0.5,
       "projectionMatrix": [
        0.2,
        0,
        0,
        0,
        0,
        0.2,
        0,
        0,
        0,
        0,
        -0.004004004004004004,
        0,
        0,
        0,
        -1.002002002002002,
        1
       ],
       "right": 5,
       "top": 5
      }
     },
     "c9eff535-7a28-4e8e-8ee5-b92a8ce340b0": {
      "model_module": "jupyter-threejs",
      "model_module_version": "^2.1.0",
      "model_name": "OrthographicCameraModel",
      "state": {
       "bottom": -5,
       "far": 500,
       "left": -5,
       "near": 0.5,
       "projectionMatrix": [
        0.2,
        0,
        0,
        0,
        0,
        0.2,
        0,
        0,
        0,
        0,
        -0.004004004004004004,
        0,
        0,
        0,
        -1.002002002002002,
        1
       ],
       "right": 5,
       "top": 5
      }
     },
     "ca78d8ca6fe14760adc2d2e96f877854": {
      "model_module": "jupyter-threejs",
      "model_module_version": "^2.1.0",
      "model_name": "RendererModel",
      "state": {
       "_alpha": true,
       "_height": 400,
       "_webgl_version": 2,
       "_width": 600,
       "camera": "IPY_MODEL_003d994b653741bf94811c0afea4d448",
       "clearOpacity": 0,
       "controls": [
        "IPY_MODEL_4f5cb91a24c7478391c1582bd7bae366"
       ],
       "layout": "IPY_MODEL_56d31043e2f949c0948b8035dcc41a63",
       "scene": "IPY_MODEL_8ab1eb32850e460fa5eb8c4689714bf6",
       "shadowMap": "IPY_MODEL_570ec2eb01d744d2b0744e2b2c5ea14f"
      }
     },
     "ce7de5f0-9f89-4862-9f0b-eb036d1cc6df": {
      "model_module": "jupyter-threejs",
      "model_module_version": "^2.1.0",
      "model_name": "Object3DModel",
      "state": {}
     },
     "ce93378d-d34b-4504-aacb-6041b74bbe7c": {
      "model_module": "jupyter-threejs",
      "model_module_version": "^2.1.0",
      "model_name": "OrthographicCameraModel",
      "state": {
       "bottom": -5,
       "far": 500,
       "left": -5,
       "near": 0.5,
       "projectionMatrix": [
        0.2,
        0,
        0,
        0,
        0,
        0.2,
        0,
        0,
        0,
        0,
        -0.004004004004004004,
        0,
        0,
        0,
        -1.002002002002002,
        1
       ],
       "right": 5,
       "top": 5
      }
     },
     "ce9e48af3dc6458d994e7da4c9f9c5b2": {
      "model_module": "jupyter-threejs",
      "model_module_version": "^2.1.0",
      "model_name": "BufferGeometryModel",
      "state": {
       "_view_module": null,
       "_view_module_version": "",
       "attributes": {
        "index": "IPY_MODEL_19d435ac794647ec9a6272427696f086",
        "position": "IPY_MODEL_6745849e45fc4ba588cdcbdcda4d6d40"
       }
      }
     },
     "cecd03ec18b94167b0c385160d1dcaaa": {
      "model_module": "jupyter-threejs",
      "model_module_version": "^2.1.0",
      "model_name": "RendererModel",
      "state": {
       "_alpha": true,
       "_height": 400,
       "_webgl_version": 2,
       "_width": 600,
       "camera": "IPY_MODEL_f160194884384cc29c2adca78f3e41a6",
       "clearOpacity": 0,
       "controls": [
        "IPY_MODEL_5d6e54700ae645568f4aed2c72b5df5a"
       ],
       "layout": "IPY_MODEL_b9b10546bbbc4091af360cdaa32e5da2",
       "scene": "IPY_MODEL_a8ab0979d68946c0b9ff4507f08511de",
       "shadowMap": "IPY_MODEL_f2f8b778c39243cf8ce27e2f537c2cd6"
      }
     },
     "d05cd61c-2c7c-4e62-84b6-9f6d55e0bf9f": {
      "model_module": "jupyter-threejs",
      "model_module_version": "^2.1.0",
      "model_name": "Object3DModel",
      "state": {}
     },
     "d652760b-6c33-4835-84fc-60c31a3c3186": {
      "model_module": "jupyter-threejs",
      "model_module_version": "^2.1.0",
      "model_name": "OrthographicCameraModel",
      "state": {
       "bottom": -5,
       "far": 500,
       "left": -5,
       "near": 0.5,
       "projectionMatrix": [
        0.2,
        0,
        0,
        0,
        0,
        0.2,
        0,
        0,
        0,
        0,
        -0.004004004004004004,
        0,
        0,
        0,
        -1.002002002002002,
        1
       ],
       "right": 5,
       "top": 5
      }
     },
     "d6817eadd9324ffe9b5857086b9c1b26": {
      "model_module": "jupyter-threejs",
      "model_module_version": "^2.1.0",
      "model_name": "DirectionalLightModel",
      "state": {
       "_view_module": null,
       "_view_module_version": "",
       "intensity": 0.21428571428571427,
       "matrixWorldNeedsUpdate": true,
       "position": [
        -93969.26207859084,
        0,
        -34202.01433256687
       ],
       "shadow": "IPY_MODEL_e039b075-c5e4-407c-bb96-0781213985ed",
       "target": "IPY_MODEL_904886e1-1c3e-40cb-b35d-1782608b1563"
      }
     },
     "d7f781cdcaa14c35849ea18da89b9b45": {
      "model_module": "jupyter-threejs",
      "model_module_version": "^2.1.0",
      "model_name": "BufferGeometryModel",
      "state": {
       "_view_module": null,
       "_view_module_version": "",
       "attributes": {
        "index": "IPY_MODEL_229630f13a924ce8b2d8d1ff099c05ec",
        "position": "IPY_MODEL_86114571105041af871dde609aa9cbe9"
       }
      }
     },
     "d88f686f-e5c3-411e-b16e-2da308edc509": {
      "model_module": "jupyter-threejs",
      "model_module_version": "^2.1.0",
      "model_name": "OrthographicCameraModel",
      "state": {
       "bottom": -5,
       "far": 500,
       "left": -5,
       "near": 0.5,
       "projectionMatrix": [
        0.2,
        0,
        0,
        0,
        0,
        0.2,
        0,
        0,
        0,
        0,
        -0.004004004004004004,
        0,
        0,
        0,
        -1.002002002002002,
        1
       ],
       "right": 5,
       "top": 5
      }
     },
     "d89679aba28546979069c5120d4d748c": {
      "model_module": "jupyter-threejs",
      "model_module_version": "^2.1.0",
      "model_name": "DirectionalLightModel",
      "state": {
       "_view_module": null,
       "_view_module_version": "",
       "intensity": 0.21428571428571427,
       "matrixWorldNeedsUpdate": true,
       "position": [
        93969.26207859084,
        0,
        -34202.01433256687
       ],
       "shadow": "IPY_MODEL_371cf951-94e6-4b3d-9861-f5026a28eb68",
       "target": "IPY_MODEL_60122a40-1dbd-41ce-b405-4dbde365867b"
      }
     },
     "e039b075-c5e4-407c-bb96-0781213985ed": {
      "model_module": "jupyter-threejs",
      "model_module_version": "^2.1.0",
      "model_name": "DirectionalLightShadowModel",
      "state": {
       "camera": "IPY_MODEL_d88f686f-e5c3-411e-b16e-2da308edc509"
      }
     },
     "e60ad32d73bf46feb7c170334e0090c1": {
      "model_module": "jupyter-threejs",
      "model_module_version": "^2.1.0",
      "model_name": "LineSegmentsModel",
      "state": {
       "_view_module": null,
       "_view_module_version": "",
       "geometry": "IPY_MODEL_4166d6a20e504cdab91d19ca562d51ea",
       "material": "IPY_MODEL_ea86f0b472db460aaa339a6ac64387b5",
       "matrix": [
        1,
        0,
        0,
        0,
        0,
        1,
        0,
        0,
        0,
        0,
        1,
        0,
        -400,
        -300,
        0,
        1
       ],
       "position": [
        -400,
        -300,
        0
       ]
      }
     },
     "ea86f0b472db460aaa339a6ac64387b5": {
      "model_module": "jupyter-threejs",
      "model_module_version": "^2.1.0",
      "model_name": "LineBasicMaterialModel",
      "state": {
       "_view_module": null,
       "_view_module_version": "",
       "color": "#000000"
      }
     },
     "ef7ed8a9a5094cfe9838853ee0260749": {
      "model_module": "jupyter-threejs",
      "model_module_version": "^2.1.0",
      "model_name": "PerspectiveCameraModel",
      "state": {
       "_view_module": null,
       "_view_module_version": "",
       "aspect": 1.5,
       "children": [
        "IPY_MODEL_c48aa1a17e2e44c0a74a4793d12b7807",
        "IPY_MODEL_8ef953c9694842838fb8b951bbc90647",
        "IPY_MODEL_72c7baa009d040008da5caa5bc03e547",
        "IPY_MODEL_2fe6c727739c4489a5edeb56ec8e8199",
        "IPY_MODEL_d6817eadd9324ffe9b5857086b9c1b26"
       ],
       "far": 193185165.2578137,
       "fov": 30,
       "matrix": [
        1,
        0,
        0,
        0,
        0,
        1,
        0,
        0,
        0,
        0,
        1,
        0,
        1115.3550716504108,
        1115.3550716504108,
        1115.3550716504108,
        1
       ],
       "near": 0.01,
       "position": [
        1115.3550716504108,
        1115.3550716504108,
        1115.3550716504108
       ],
       "projectionMatrix": [
        2.488033871712585,
        0,
        0,
        0,
        0,
        3.7320508075688776,
        0,
        0,
        0,
        0,
        -1.0000000001035274,
        -1,
        0,
        0,
        -0.020000000001035276,
        0
       ],
       "up": [
        0,
        0,
        1
       ]
      }
     },
     "f160194884384cc29c2adca78f3e41a6": {
      "model_module": "jupyter-threejs",
      "model_module_version": "^2.1.0",
      "model_name": "PerspectiveCameraModel",
      "state": {
       "_view_module": null,
       "_view_module_version": "",
       "aspect": 1.5,
       "children": [
        "IPY_MODEL_925e760081a149e1b20346aeaef443c0",
        "IPY_MODEL_88a6c00c1a9b41a3a963b60baeae6d19",
        "IPY_MODEL_60e395e052ee4a9dbc9b8ff7f2171597",
        "IPY_MODEL_d89679aba28546979069c5120d4d748c",
        "IPY_MODEL_f47de7870a8b408d8d41f0628cd989a7"
       ],
       "far": 194148688.26867124,
       "fov": 30,
       "matrix": [
        1,
        0,
        0,
        0,
        0,
        1,
        0,
        0,
        0,
        0,
        1,
        0,
        1120.9179743473007,
        1120.9179743473007,
        1120.9179743473007,
        1
       ],
       "near": 0.01,
       "position": [
        1175.7355094715215,
        1036.5502848517006,
        1145.6792022141333
       ],
       "projectionMatrix": [
        2.488033871712585,
        0,
        0,
        0,
        0,
        3.7320508075688776,
        0,
        0,
        0,
        0,
        -1.0000000001030138,
        -1,
        0,
        0,
        -0.020000000001030138,
        0
       ],
       "quaternion": [
        0.18629741475479586,
        0.4126030372591856,
        0.8126590098598064,
        0.36692961258782797
       ],
       "up": [
        0,
        0,
        1
       ]
      }
     },
     "f2f8b778c39243cf8ce27e2f537c2cd6": {
      "model_module": "jupyter-threejs",
      "model_module_version": "^2.1.0",
      "model_name": "WebGLShadowMapModel",
      "state": {
       "_view_module": null,
       "_view_module_version": ""
      }
     },
     "f39bd48094264fbc907fbcf0b45556ea": {
      "buffers": [
       {
        "data": "AAABAAMAAgADAAEAAwACAAUABAAFAAIABQAEAAcABgAHAAQABwAGAAkACAAJAAYACQAIAAsACgALAAgACwAKAA0ADAANAAoAAQAOAAIADwACAA4AAgAPAAQAEAAEAA8ABAAQAAYAEQAGABAABgARAAgAEgAIABEACAASAAoAEwAKABIACgATAAwAFAAMABMADgAVAA8AFgAPABUADwAWABAAFwAQABYAEAAXABEAGAARABcAEQAYABIAGQASABgAEgAZABMAGgATABkAEwAaABQAGwAUABoAFQAcABYAHQAWABwAFgAdABcAHgAXAB0AFwAeABgAHwAYAB4AGAAfABkAIAAZAB8AGQAgABoAIQAaACAAGgAhABsAIgAbACEAHAAjAB0AJAAdACMAHQAkAB4AJQAeACQAHgAlAB8AJgAfACUAHwAmACAAJwAgACYAIAAnACEAKAAhACcAIQAoACIAKQAiACgAIwAqACQAKwAkACoAJAArACUALAAlACsAJQAsACYALQAmACwAJgAtACcALgAnAC0AJwAuACgALwAoAC4AKAAvACkAMAApAC8AKgAxACsAMgArADEAKwAyACwAMwAsADIALAAzAC0ANAAtADMALQA0AC4ANQAuADQALgA1AC8ANgAvADUALwA2ADAANwAwADYAMQA4ADIAOQAyADgAMgA5ADMAOgAzADkAMwA6ADQAOwA0ADoANAA7ADUAPAA1ADsANQA8ADYAPQA2ADwANgA9ADcAPgA3AD0A",
        "encoding": "base64",
        "path": [
         "array",
         "buffer"
        ]
       }
      ],
      "model_module": "jupyter-threejs",
      "model_module_version": "^2.1.0",
      "model_name": "BufferAttributeModel",
      "state": {
       "_view_module": null,
       "_view_module_version": "",
       "array": {
        "dtype": "uint16",
        "shape": [
         288
        ]
       },
       "version": 2
      }
     },
     "f3c070e3-bb9f-43bc-a2c7-fc65bf8952c5": {
      "model_module": "jupyter-threejs",
      "model_module_version": "^2.1.0",
      "model_name": "OrthographicCameraModel",
      "state": {
       "bottom": -5,
       "far": 500,
       "left": -5,
       "near": 0.5,
       "projectionMatrix": [
        0.2,
        0,
        0,
        0,
        0,
        0.2,
        0,
        0,
        0,
        0,
        -0.004004004004004004,
        0,
        0,
        0,
        -1.002002002002002,
        1
       ],
       "right": 5,
       "top": 5
      }
     },
     "f3c3cb87-764e-482b-a4ff-2a18954b205d": {
      "model_module": "jupyter-threejs",
      "model_module_version": "^2.1.0",
      "model_name": "DirectionalLightShadowModel",
      "state": {
       "camera": "IPY_MODEL_40ec6b16-1c89-4dc5-a5a2-43e371af225e"
      }
     },
     "f47de7870a8b408d8d41f0628cd989a7": {
      "model_module": "jupyter-threejs",
      "model_module_version": "^2.1.0",
      "model_name": "DirectionalLightModel",
      "state": {
       "_view_module": null,
       "_view_module_version": "",
       "intensity": 0.21428571428571427,
       "matrixWorldNeedsUpdate": true,
       "position": [
        -93969.26207859084,
        0,
        -34202.01433256687
       ],
       "shadow": "IPY_MODEL_46f475f1-9047-4742-bb81-9c0219e2f247",
       "target": "IPY_MODEL_55a238a8-1cee-48ab-89a1-a5536960e8a9"
      }
     },
     "f5b8136b12d44cd5b050cd1eb08120a7": {
      "model_module": "jupyter-threejs",
      "model_module_version": "^2.1.0",
      "model_name": "DirectionalLightModel",
      "state": {
       "_view_module": null,
       "_view_module_version": "",
       "color": "#f5f7ff",
       "intensity": 0.25,
       "matrixWorldNeedsUpdate": true,
       "position": [
        -4494.345552754778,
        -96592.58262890684,
        25488.700224417877
       ],
       "shadow": "IPY_MODEL_6e1ce3d0-5395-4a4d-806a-17eb52f4ecac",
       "target": "IPY_MODEL_887150a4-9292-4a9e-bf91-fc97f3974898"
      }
     }
    },
    "version_major": 2,
    "version_minor": 0
   }
  }
 },
 "nbformat": 4,
 "nbformat_minor": 4
}
