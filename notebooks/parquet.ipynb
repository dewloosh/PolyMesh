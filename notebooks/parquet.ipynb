{
 "cells": [
  {
   "cell_type": "markdown",
   "metadata": {},
   "source": [
    "# Read and Write Mesh Data"
   ]
  },
  {
   "cell_type": "code",
   "execution_count": null,
   "metadata": {},
   "outputs": [],
   "source": [
    "from polymesh import PolyData\n",
    "from polymesh.tri.trimesh import TriMesh\n",
    "from polymesh.grid import Grid\n",
    "from polymesh.space import StandardFrame\n",
    "import numpy as np\n",
    "import awkward as ak\n",
    "\n",
    "A = StandardFrame(dim=3)\n",
    "tri = TriMesh(size=(100, 100), shape=(10, 10), frame=A)\n",
    "grid2d = Grid(size=(100, 100), shape=(10, 10), eshape='Q4', frame=A)\n",
    "grid3d = Grid(size=(100, 100, 100), shape=(8, 6, 2), eshape='H8', frame=A)\n",
    "\n",
    "mesh = PolyData(frame=A)\n",
    "mesh['tri', 'T3'] = tri.move(np.array([0., 0., -50]))\n",
    "mesh['grids', 'Q4'] = grid2d.move(np.array([0., 0., 150]))\n",
    "mesh['grids', 'H8'] = grid3d\n",
    "\n",
    "mesh['tri', 'T3'].pointdata['values'] = np.full(tri.coords().shape[0], 5.)\n",
    "mesh['grids', 'Q4'].pointdata['values'] = np.full(\n",
    "    grid2d.coords().shape[0], 10.)\n",
    "mesh['grids', 'H8'].pointdata['values'] = np.full(\n",
    "    grid3d.coords().shape[0], -5.)\n"
   ]
  },
  {
   "cell_type": "code",
   "execution_count": null,
   "metadata": {},
   "outputs": [],
   "source": [
    "mesh.topology()"
   ]
  },
  {
   "cell_type": "code",
   "execution_count": null,
   "metadata": {},
   "outputs": [],
   "source": [
    "mesh.plot()"
   ]
  },
  {
   "cell_type": "code",
   "execution_count": null,
   "metadata": {},
   "outputs": [],
   "source": [
    "mesh['tri', 'T3'].pd.to_parquet(\"pdT3.parquet\")\n",
    "mesh['grids', 'Q4'].pd.to_parquet(\"pdQ4.parquet\")\n",
    "mesh['grids', 'H8'].pd.to_parquet(\"pdH8.parquet\")\n",
    "mesh['tri', 'T3'].cd.to_parquet(\"cdT3.parquet\")\n",
    "mesh['grids', 'Q4'].cd.to_parquet(\"cdQ4.parquet\")\n",
    "mesh['grids', 'H8'].cd.to_parquet(\"cdH8.parquet\")\n"
   ]
  },
  {
   "cell_type": "code",
   "execution_count": null,
   "metadata": {},
   "outputs": [],
   "source": [
    "from polymesh.cells import T3, Q4, H8\n",
    "from polymesh import PointData\n",
    "\n",
    "frame=StandardFrame(dim=3)\n",
    "mesh = PolyData(frame=frame)\n",
    "\n",
    "\"\"\"pd = PointData(db=ak.from_parquet(\"pdT3.parquet\"))\n",
    "cd = T3(db=ak.from_parquet(\"cdT3.parquet\"))\n",
    "mesh['tri', 'T3'] = PolyData(pd, cd, frame=frame)\"\"\"\n",
    "\n",
    "\"\"\"pd = PointData(db=ak.from_parquet(\"pdQ4.parquet\"))\n",
    "cd = Q4(db=ak.from_parquet(\"cdQ4.parquet\"))\n",
    "mesh['grids', 'Q4'] = PolyData(pd, cd, frame=frame)\"\"\"\n",
    "\n",
    "pd = PointData(db=ak.from_parquet(\"pdH8.parquet\"))\n",
    "cd = H8(db=ak.from_parquet(\"cdH8.parquet\"))\n",
    "mesh['grids', 'H8'] = PolyData(pd, cd, frame=frame)\n"
   ]
  },
  {
   "cell_type": "code",
   "execution_count": null,
   "metadata": {},
   "outputs": [],
   "source": [
    "mesh.plot()"
   ]
  },
  {
   "cell_type": "code",
   "execution_count": null,
   "metadata": {},
   "outputs": [],
   "source": [
    "from neumann.array import minmax\n",
    "minmax(mesh['grids', 'H8'].topology())"
   ]
  },
  {
   "cell_type": "code",
   "execution_count": null,
   "metadata": {},
   "outputs": [],
   "source": [
    "mesh.plot()"
   ]
  },
  {
   "cell_type": "code",
   "execution_count": null,
   "metadata": {},
   "outputs": [],
   "source": [
    "import pyvista as pv\n",
    "from pyvista import themes\n",
    "\n",
    "pv.set_plot_theme('paraview')\n",
    "\n",
    "my_theme = themes.DarkTheme()\n",
    "my_theme.color = 'red'\n",
    "my_theme.lighting = False\n",
    "my_theme.show_edges = True\n",
    "my_theme.axes.box = True\n",
    "\n",
    "pv.global_theme.load_theme(my_theme)\n"
   ]
  },
  {
   "cell_type": "code",
   "execution_count": null,
   "metadata": {},
   "outputs": [],
   "source": [
    "from pyvistaqt import BackgroundPlotter\n",
    "\n",
    "plotter = BackgroundPlotter()\n",
    "colors = ['red', 'green', 'blue']\n",
    "for i, cb in enumerate(mesh.cellblocks()):\n",
    "    data = cb.pointdata['values']\n",
    "    plotter.add_mesh(cb.to_pv(), scalars=data)"
   ]
  },
  {
   "cell_type": "code",
   "execution_count": null,
   "metadata": {},
   "outputs": [],
   "source": [
    "plotter = BackgroundPlotter()\n",
    "colors = ['red', 'green', 'blue']\n",
    "for i, cb in enumerate(mesh.cellblocks()):\n",
    "    m = cb.to_pv(scalars='values', fuse=False)[0]\n",
    "    plotter.add_mesh(m)"
   ]
  }
 ],
 "metadata": {
  "kernelspec": {
   "display_name": "Python 3.8.10 ('.polymesh': venv)",
   "language": "python",
   "name": "python3"
  },
  "language_info": {
   "codemirror_mode": {
    "name": "ipython",
    "version": 3
   },
   "file_extension": ".py",
   "mimetype": "text/x-python",
   "name": "python",
   "nbconvert_exporter": "python",
   "pygments_lexer": "ipython3",
   "version": "3.8.10"
  },
  "orig_nbformat": 4,
  "vscode": {
   "interpreter": {
    "hash": "196717f9976529e91b541b41c9e9f5d31e7d5aa72506e34109ccbbf8eac01645"
   }
  }
 },
 "nbformat": 4,
 "nbformat_minor": 2
}
