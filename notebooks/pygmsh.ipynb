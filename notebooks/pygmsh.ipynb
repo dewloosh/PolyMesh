{
 "cells": [
  {
   "cell_type": "code",
   "execution_count": 1,
   "metadata": {},
   "outputs": [],
   "source": [
    "import pygmsh\n",
    "\n",
    "with pygmsh.geo.Geometry() as geom:\n",
    "    geom.add_polygon(\n",
    "        [\n",
    "            [0.0, 0.0],\n",
    "            [1.0, -0.2],\n",
    "            [1.1, 1.2],\n",
    "            [0.1, 0.7],\n",
    "        ],\n",
    "        mesh_size=0.1,\n",
    "    )\n",
    "    mesh = geom.generate_mesh()"
   ]
  },
  {
   "cell_type": "code",
   "execution_count": 6,
   "metadata": {},
   "outputs": [
    {
     "data": {
      "text/plain": [
       "[<meshio CellBlock, type: line, num cells: 46, tags: []>,\n",
       " <meshio CellBlock, type: triangle, num cells: 292, tags: []>,\n",
       " <meshio CellBlock, type: vertex, num cells: 4, tags: []>]"
      ]
     },
     "execution_count": 6,
     "metadata": {},
     "output_type": "execute_result"
    }
   ],
   "source": [
    "mesh.cells"
   ]
  },
  {
   "cell_type": "code",
   "execution_count": 5,
   "metadata": {},
   "outputs": [],
   "source": [
    "coords = mesh.points\n",
    "topo = None\n",
    "for m in mesh.cells:\n",
    "    if m.type == 'triangle':\n",
    "        topo = m.data"
   ]
  },
  {
   "cell_type": "code",
   "execution_count": null,
   "metadata": {},
   "outputs": [],
   "source": [
    "from math import pi\n",
    "\n",
    "with pygmsh.geo.Geometry() as geom:\n",
    "    poly = geom.add_polygon(\n",
    "        [\n",
    "            [0.0, 0.2, 0.0],\n",
    "            [0.0, 1.2, 0.0],\n",
    "            [0.0, 1.2, 1.0],\n",
    "        ],\n",
    "        mesh_size=0.1,\n",
    "    )\n",
    "    geom.revolve(poly, [0.0, 0.0, 1.0], [0.0, 0.0, 0.0], 0.8 * pi)\n",
    "    mesh = geom.generate_mesh()"
   ]
  },
  {
   "cell_type": "code",
   "execution_count": null,
   "metadata": {},
   "outputs": [],
   "source": [
    "with pygmsh.geo.Geometry() as geom:\n",
    "    poly = geom.add_polygon(\n",
    "        [\n",
    "            [+0.0, +0.5],\n",
    "            [-0.1, +0.1],\n",
    "            [-0.5, +0.0],\n",
    "            [-0.1, -0.1],\n",
    "            [+0.0, -0.5],\n",
    "            [+0.1, -0.1],\n",
    "            [+0.5, +0.0],\n",
    "            [+0.1, +0.1],\n",
    "        ],\n",
    "        mesh_size=0.05,\n",
    "    )\n",
    "\n",
    "    geom.twist(\n",
    "        poly,\n",
    "        translation_axis=[0, 0, 1],\n",
    "        rotation_axis=[0, 0, 1],\n",
    "        point_on_axis=[0, 0, 0],\n",
    "        angle=pi / 3,\n",
    "    )\n",
    "\n",
    "    mesh = geom.generate_mesh()"
   ]
  },
  {
   "cell_type": "code",
   "execution_count": null,
   "metadata": {},
   "outputs": [],
   "source": [
    "pygmsh.optimize()"
   ]
  }
 ],
 "metadata": {
  "kernelspec": {
   "display_name": "Python 3.8.10 ('.sigeps': venv)",
   "language": "python",
   "name": "python3"
  },
  "language_info": {
   "codemirror_mode": {
    "name": "ipython",
    "version": 3
   },
   "file_extension": ".py",
   "mimetype": "text/x-python",
   "name": "python",
   "nbconvert_exporter": "python",
   "pygments_lexer": "ipython3",
   "version": "3.8.10"
  },
  "orig_nbformat": 4,
  "vscode": {
   "interpreter": {
    "hash": "5facf25dadae24d0f6f3d9b821e9851478f51388ee31821a60476e833f1169c6"
   }
  }
 },
 "nbformat": 4,
 "nbformat_minor": 2
}
