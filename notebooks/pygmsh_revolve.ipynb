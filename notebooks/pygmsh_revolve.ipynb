{
 "cells": [
  {
   "cell_type": "code",
   "execution_count": 1,
   "metadata": {},
   "outputs": [],
   "source": [
    "from math import pi\n",
    "import pygmsh\n",
    "\n",
    "with pygmsh.geo.Geometry() as geom:\n",
    "    poly = geom.add_polygon(\n",
    "        [\n",
    "            [0.0, 0.2, 0.0],\n",
    "            [0.0, 1.2, 0.0],\n",
    "            [0.0, 1.2, 1.0],\n",
    "        ],\n",
    "        mesh_size = 0.1,\n",
    "    )\n",
    "    geom.revolve(poly, [0.0, 0.0, 1.0], [0.0, 0.0, 0.0], 0.8 * pi)\n",
    "    mesh = geom.generate_mesh()\n",
    "    edict = mesh.cells_dict\n"
   ]
  },
  {
   "cell_type": "code",
   "execution_count": 2,
   "metadata": {},
   "outputs": [
    {
     "data": {
      "text/plain": [
       "dict_keys(['line', 'triangle', 'tetra', 'vertex'])"
      ]
     },
     "execution_count": 2,
     "metadata": {},
     "output_type": "execute_result"
    }
   ],
   "source": [
    "edict['tetra']"
   ]
  },
  {
   "cell_type": "code",
   "execution_count": 3,
   "metadata": {},
   "outputs": [
    {
     "data": {
      "text/plain": [
       "array([[ 0.        ,  0.2       ,  0.        ],\n",
       "       [ 0.        ,  1.2       ,  0.        ],\n",
       "       [ 0.        ,  1.2       ,  1.        ],\n",
       "       ...,\n",
       "       [-0.77826193, -0.05221915,  0.46548875],\n",
       "       [-0.32464718,  0.5329132 ,  0.29485311],\n",
       "       [-0.74653246, -0.35764193,  0.34202195]])"
      ]
     },
     "execution_count": 3,
     "metadata": {},
     "output_type": "execute_result"
    }
   ],
   "source": [
    "mesh.points"
   ]
  }
 ],
 "metadata": {
  "interpreter": {
   "hash": "991cffc88f62a007cbdf50957ae45a6761c829bfaa7adfcdae06da73a49e122c"
  },
  "kernelspec": {
   "display_name": "Python 3.8.10 64-bit ('.axisvm': venv)",
   "language": "python",
   "name": "python3"
  },
  "language_info": {
   "codemirror_mode": {
    "name": "ipython",
    "version": 3
   },
   "file_extension": ".py",
   "mimetype": "text/x-python",
   "name": "python",
   "nbconvert_exporter": "python",
   "pygments_lexer": "ipython3",
   "version": "3.8.10"
  },
  "orig_nbformat": 4
 },
 "nbformat": 4,
 "nbformat_minor": 2
}
