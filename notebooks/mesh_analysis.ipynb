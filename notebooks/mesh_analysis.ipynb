{
 "cells": [
  {
   "cell_type": "markdown",
   "metadata": {},
   "source": [
    "# Mesh Analysis"
   ]
  },
  {
   "cell_type": "markdown",
   "metadata": {},
   "source": [
    "PolyMesh provides some useful classes and algorithms for mesh management and operations related to the geometry or the topology of polygonal meshes."
   ]
  },
  {
   "cell_type": "markdown",
   "metadata": {},
   "source": [
    "## Nodal Adjacency"
   ]
  },
  {
   "cell_type": "code",
   "execution_count": 1,
   "metadata": {},
   "outputs": [],
   "source": [
    "import pyvista as pv\n",
    "import numpy as np\n",
    "from polymesh import PolyData\n",
    "\n",
    "d, h, a = 6.0, 15.0, 15.0\n",
    "cyl = pv.CylinderStructured(center=(0.0, 0.0, 0.0), direction=(0.0, 0.0, 1.0),\n",
    "                            radius=np.linspace(d/2, a/2, 15), height=h, \n",
    "                            theta_resolution=100, z_resolution=40)\n",
    "pd = PolyData.from_pv(cyl)"
   ]
  },
  {
   "cell_type": "markdown",
   "metadata": {},
   "source": [
    "To access the nodal adjacency matrix as a scipy sparse matrix:"
   ]
  },
  {
   "cell_type": "code",
   "execution_count": 14,
   "metadata": {},
   "outputs": [
    {
     "data": {
      "text/plain": [
       "<60000x60000 sparse matrix of type '<class 'numpy.intc'>'\n",
       "\twith 1512052 stored elements in Compressed Sparse Row format>"
      ]
     },
     "execution_count": 14,
     "metadata": {},
     "output_type": "execute_result"
    }
   ],
   "source": [
    "pd.nodal_adjacency_matrix(frmt='scipy-csr')"
   ]
  },
  {
   "cell_type": "markdown",
   "metadata": {},
   "source": [
    "as a NetworkX graph:"
   ]
  },
  {
   "cell_type": "code",
   "execution_count": 3,
   "metadata": {},
   "outputs": [
    {
     "data": {
      "text/plain": [
       "<networkx.classes.graph.Graph at 0x20547155760>"
      ]
     },
     "execution_count": 3,
     "metadata": {},
     "output_type": "execute_result"
    }
   ],
   "source": [
    "pd.nodal_adjacency_matrix(frmt='nx')"
   ]
  },
  {
   "cell_type": "markdown",
   "metadata": {},
   "source": [
    "as an `Awkward` array:"
   ]
  },
  {
   "cell_type": "code",
   "execution_count": 4,
   "metadata": {},
   "outputs": [
    {
     "data": {
      "text/plain": [
       "<Array [[0, 1, 15, ... 59984, 59998, 59999]] type='60000 * var * int64'>"
      ]
     },
     "execution_count": 4,
     "metadata": {},
     "output_type": "execute_result"
    }
   ],
   "source": [
    "pd.nodal_adjacency_matrix(frmt='jagged')"
   ]
  },
  {
   "cell_type": "markdown",
   "metadata": {},
   "source": [
    "or as a Numba-jittable CSR matrix from `Neumann`:"
   ]
  },
  {
   "cell_type": "code",
   "execution_count": null,
   "metadata": {},
   "outputs": [],
   "source": [
    "pd.nodal_adjacency_matrix(frmt='csr')"
   ]
  },
  {
   "cell_type": "markdown",
   "metadata": {},
   "source": [
    "## Pseudo Peripheral Nodes"
   ]
  },
  {
   "cell_type": "code",
   "execution_count": null,
   "metadata": {},
   "outputs": [],
   "source": [
    "from neumann.topology.graph import pseudo_peripheral_nodes\n",
    "csr = pd.nodal_adjacency_matrix(frmt='csr')\n",
    "ppn = pseudo_peripheral_nodes(csr)"
   ]
  },
  {
   "cell_type": "markdown",
   "metadata": {},
   "source": [
    "## Rooted Level Structure"
   ]
  },
  {
   "cell_type": "code",
   "execution_count": null,
   "metadata": {},
   "outputs": [],
   "source": [
    "from neumann.topology.graph import rooted_level_structure\n",
    "rls = rooted_level_structure(csr)"
   ]
  },
  {
   "cell_type": "markdown",
   "metadata": {},
   "source": [
    "## K-Nearest-Neighbours with ``Scipy`` or ``SkLearn``"
   ]
  },
  {
   "cell_type": "code",
   "execution_count": 15,
   "metadata": {},
   "outputs": [
    {
     "data": {
      "text/plain": [
       "array([[0, 1, 4],\n",
       "       [1, 2, 0],\n",
       "       [2, 3, 1],\n",
       "       [3, 2, 7],\n",
       "       [4, 5, 0]], dtype=int64)"
      ]
     },
     "execution_count": 15,
     "metadata": {},
     "output_type": "execute_result"
    }
   ],
   "source": [
    "from polymesh.grid import Grid\n",
    "\n",
    "size = 80, 60, 20\n",
    "shape = 10, 8, 4\n",
    "grid = Grid(size=size, shape=shape, eshape='H8')\n",
    "grid.k_nearest_cell_neighbours(k=3, knn_options=dict(max_distance=10.0))[:5]"
   ]
  }
 ],
 "metadata": {
  "kernelspec": {
   "display_name": "Python 3.8.10 ('.sigeps': venv)",
   "language": "python",
   "name": "python3"
  },
  "language_info": {
   "codemirror_mode": {
    "name": "ipython",
    "version": 3
   },
   "file_extension": ".py",
   "mimetype": "text/x-python",
   "name": "python",
   "nbconvert_exporter": "python",
   "pygments_lexer": "ipython3",
   "version": "3.8.10"
  },
  "orig_nbformat": 4,
  "vscode": {
   "interpreter": {
    "hash": "5facf25dadae24d0f6f3d9b821e9851478f51388ee31821a60476e833f1169c6"
   }
  }
 },
 "nbformat": 4,
 "nbformat_minor": 2
}
