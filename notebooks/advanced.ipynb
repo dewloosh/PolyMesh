{
 "cells": [
  {
   "cell_type": "markdown",
   "metadata": {},
   "source": [
    "# Advanced Mesh Composition"
   ]
  },
  {
   "cell_type": "markdown",
   "metadata": {},
   "source": [
    "We are going to build the surface of a cube. On each face, we want to have the ability of specifying a certain cross section from a variety of available options. For the latter we are going to use the `sectionproperties` library, that has plenty of pre-defined shapes. For the different mesh operations and the composition of the overall watertight mesh, we are going to use `PolyMesh`."
   ]
  },
  {
   "cell_type": "code",
   "execution_count": 1,
   "metadata": {},
   "outputs": [],
   "source": [
    "from polymesh import PolyData\n",
    "from polymesh.space import StandardFrame, PointCloud\n",
    "from polymesh.utils import centralize, center_of_points\n",
    "from neumann.linalg import linspace, Vector\n",
    "from polymesh.tri.triang import triangulate\n",
    "from polymesh.grid import grid\n",
    "from polymesh.tri.triutils import get_points_inside_triangles\n",
    "from polymesh.topo import remap_topo\n",
    "from sectionproperties.pre.library.steel_sections import circular_hollow_section as CHS\n",
    "from sectionproperties.pre.library.steel_sections import rectangular_hollow_section as RHS\n",
    "from sectionproperties.pre.library.steel_sections import i_section\n",
    "from sectionproperties.analysis.section import Section\n",
    "from sectionproperties.pre.pre import Material\n",
    "import numpy as np\n"
   ]
  },
  {
   "cell_type": "markdown",
   "metadata": {},
   "source": [
    "Althought being irrelevant for the purposes of the example, for some operations to be available in `sectionproperties`, we have to provide a suitable material. "
   ]
  },
  {
   "cell_type": "code",
   "execution_count": 2,
   "metadata": {},
   "outputs": [],
   "source": [
    "# this aould be any material that sectionproperties accepts\n",
    "steel = Material(\n",
    "    name='Steel', elastic_modulus=200e3, poissons_ratio=0.3, density=7.85e-6,\n",
    "    yield_strength=250, color='grey'\n",
    ")\n"
   ]
  },
  {
   "cell_type": "markdown",
   "metadata": {},
   "source": [
    "Define the database for this example like this:"
   ]
  },
  {
   "cell_type": "code",
   "execution_count": 3,
   "metadata": {},
   "outputs": [],
   "source": [
    "from linkeddeepdict import LinkedDeepDict\n",
    "database = LinkedDeepDict({\n",
    "    'left': {\n",
    "        'geom': CHS(d=100, t=10, n=64),\n",
    "    },\n",
    "    'right': {\n",
    "        'geom': CHS(d=100, t=10, n=64),\n",
    "    },\n",
    "    'front': {\n",
    "        'geom': RHS(d=100, b=100, t=10, r_out=0, n_r=0, material=steel),\n",
    "    },\n",
    "    'back': {\n",
    "        'geom': RHS(d=100, b=100, t=10, r_out=0, n_r=0, material=steel),\n",
    "    },\n",
    "    'top': {\n",
    "        'geom': i_section(d=170, b=110, t_f=7.8, t_w=5.8, r=8.9, n_r=16, material=steel),\n",
    "    },\n",
    "})\n"
   ]
  },
  {
   "cell_type": "markdown",
   "metadata": {},
   "source": [
    "To access a face, do this:"
   ]
  },
  {
   "cell_type": "code",
   "execution_count": 4,
   "metadata": {},
   "outputs": [
    {
     "name": "stdout",
     "output_type": "stream",
     "text": [
      "sectionproperties.pre.geometry.Geometry\n",
      "object at: 0x167ab604fa0\n",
      "Material: default\n"
     ]
    },
    {
     "data": {
      "image/svg+xml": "<svg xmlns=\"http://www.w3.org/2000/svg\" xmlns:xlink=\"http://www.w3.org/1999/xlink\" width=\"108.0\" height=\"108.0\" viewBox=\"-54.0 -54.0 108.0 108.0\" preserveAspectRatio=\"xMinYMin meet\"><g transform=\"matrix(1,0,0,-1,0,0.0)\"><path fill-rule=\"evenodd\" fill=\"#66cc99\" stroke=\"#555555\" stroke-width=\"2.0\" opacity=\"0.6\" d=\"M 49.75923633361,-4.900857016478 L 49.039264020162,-9.754516100806 L 47.84701678661,-14.514233862723 L 46.193976625564,-19.134171618255 L 44.096063217418,-23.5698368413 L 41.573480615127,-27.77851165098 L 38.650522668137,-31.719664208182 L 35.355339059327,-35.355339059327 L 31.719664208182,-38.650522668137 L 27.77851165098,-41.573480615127 L 23.5698368413,-44.096063217418 L 19.134171618254,-46.193976625564 L 14.514233862723,-47.84701678661 L 9.754516100806,-49.039264020162 L 4.900857016478,-49.75923633361 L -0.0,-50.0 L -4.900857016478,-49.75923633361 L -9.754516100806,-49.039264020162 L -14.514233862723,-47.84701678661 L -19.134171618255,-46.193976625564 L -23.5698368413,-44.096063217418 L -27.77851165098,-41.573480615127 L -31.719664208182,-38.650522668137 L -35.355339059327,-35.355339059327 L -38.650522668137,-31.719664208182 L -41.573480615127,-27.77851165098 L -44.096063217418,-23.5698368413 L -46.193976625564,-19.134171618254 L -47.84701678661,-14.514233862723 L -49.039264020162,-9.754516100806 L -49.75923633361,-4.900857016478 L -50.0,0.0 L -49.75923633361,4.900857016478 L -49.039264020162,9.754516100806 L -47.84701678661,14.514233862723 L -46.193976625564,19.134171618254 L -44.096063217418,23.5698368413 L -41.573480615127,27.77851165098 L -38.650522668137,31.719664208182 L -35.355339059327,35.355339059327 L -31.719664208182,38.650522668137 L -27.77851165098,41.573480615127 L -23.5698368413,44.096063217418 L -19.134171618254,46.193976625564 L -14.514233862723,47.84701678661 L -9.754516100806,49.039264020162 L -4.900857016478,49.75923633361 L 0.0,50.0 L 4.900857016478,49.75923633361 L 9.754516100806,49.039264020162 L 14.514233862723,47.84701678661 L 19.134171618254,46.193976625564 L 23.5698368413,44.096063217418 L 27.77851165098,41.573480615127 L 31.719664208182,38.650522668137 L 35.355339059327,35.355339059327 L 38.650522668137,31.719664208182 L 41.573480615127,27.77851165098 L 44.096063217418,23.5698368413 L 46.193976625564,19.134171618254 L 47.84701678661,14.514233862723 L 49.039264020162,9.754516100806 L 49.75923633361,4.900857016478 L 50.0,0.0 L 49.75923633361,-4.900857016478 z M 39.807389066888,3.920685613182 L 39.231411216129,7.803612880645 L 38.277613429288,11.611387090178 L 36.955181300451,15.307337294604 L 35.276850573934,18.85586947304 L 33.258784492102,22.222809320784 L 30.920418134509,25.375731366546 L 28.284271247462,28.284271247462 L 25.375731366546,30.920418134509 L 22.222809320784,33.258784492102 L 18.85586947304,35.276850573934 L 15.307337294604,36.955181300451 L 11.611387090178,38.277613429288 L 7.803612880645,39.231411216129 L 3.920685613182,39.807389066888 L 0.0,40.0 L -3.920685613182,39.807389066888 L -7.803612880645,39.231411216129 L -11.611387090178,38.277613429288 L -15.307337294604,36.955181300451 L -18.85586947304,35.276850573934 L -22.222809320784,33.258784492102 L -25.375731366546,30.920418134509 L -28.284271247462,28.284271247462 L -30.920418134509,25.375731366546 L -33.258784492102,22.222809320784 L -35.276850573934,18.85586947304 L -36.955181300451,15.307337294604 L -38.277613429288,11.611387090178 L -39.231411216129,7.803612880645 L -39.807389066888,3.920685613182 L -40.0,0.0 L -39.807389066888,-3.920685613182 L -39.231411216129,-7.803612880645 L -38.277613429288,-11.611387090178 L -36.955181300451,-15.307337294604 L -35.276850573934,-18.85586947304 L -33.258784492102,-22.222809320784 L -30.920418134509,-25.375731366546 L -28.284271247462,-28.284271247462 L -25.375731366546,-30.920418134509 L -22.222809320784,-33.258784492102 L -18.85586947304,-35.276850573934 L -15.307337294604,-36.955181300451 L -11.611387090178,-38.277613429288 L -7.803612880645,-39.231411216129 L -3.920685613182,-39.807389066888 L -0.0,-40.0 L 3.920685613182,-39.807389066888 L 7.803612880645,-39.231411216129 L 11.611387090178,-38.277613429288 L 15.307337294604,-36.955181300451 L 18.85586947304,-35.276850573934 L 22.222809320784,-33.258784492102 L 25.375731366546,-30.920418134509 L 28.284271247462,-28.284271247462 L 30.920418134509,-25.375731366546 L 33.258784492102,-22.222809320784 L 35.276850573934,-18.85586947304 L 36.955181300451,-15.307337294604 L 38.277613429288,-11.611387090178 L 39.231411216129,-7.803612880645 L 39.807389066888,-3.920685613182 L 40.0,0.0 L 39.807389066888,3.920685613182 z\" /></g></svg>",
      "text/plain": [
       "<sectionproperties.pre.geometry.Geometry at 0x167ab604fa0>"
      ]
     },
     "execution_count": 4,
     "metadata": {},
     "output_type": "execute_result"
    }
   ],
   "source": [
    "database['left', 'geom']\n"
   ]
  },
  {
   "cell_type": "markdown",
   "metadata": {},
   "source": [
    "Define the size of the cube and the number of points along it's edges."
   ]
  },
  {
   "cell_type": "code",
   "execution_count": 5,
   "metadata": {},
   "outputs": [],
   "source": [
    "Lx, Ly, Lz = 220, 220, 220\n",
    "points_per_edge = 25\n",
    "mesh_size = Lx / (points_per_edge-1)  # largest length of an edge\n"
   ]
  },
  {
   "cell_type": "markdown",
   "metadata": {},
   "source": [
    "Create the geometry of the cube and local coordinate frames for each face. The maneouvers later in the notebook require some basic index management, which make the introduction of counters and different buffer objects inevitable."
   ]
  },
  {
   "cell_type": "code",
   "execution_count": 6,
   "metadata": {},
   "outputs": [],
   "source": [
    "points = []  # sink for points, it gets filled up in this block\n",
    "frames = {}  # sink for face frames, it gets filled up in this block\n",
    "\n",
    "nTotalPoints = 0  # node counter for contiguous node indices at the end\n",
    "\n",
    "# corners\n",
    "corner_coords = [\n",
    "    [-Lx/2, -Ly/2, -Lz/2],\n",
    "    [Lx/2, -Ly/2, -Lz/2],\n",
    "    [Lx/2, Ly/2, -Lz/2],\n",
    "    [-Lx/2, Ly/2, -Lz/2],\n",
    "    [-Lx/2, -Ly/2, Lz/2],\n",
    "    [Lx/2, -Ly/2, Lz/2],\n",
    "    [Lx/2, Ly/2, Lz/2],\n",
    "    [-Lx/2, Ly/2, Lz/2]\n",
    "]\n",
    "corner_coords = np.array(corner_coords)\n",
    "points.append(corner_coords)\n",
    "nTotalPoints += len(corner_coords)\n",
    "\n",
    "# populate edges\n",
    "nodes_of_edges = [\n",
    "    [0, 1], [1, 2], [2, 3], [3, 0],\n",
    "    [4, 5], [5, 6], [6, 7], [7, 4],\n",
    "    [0, 4], [1, 5], [2, 6], [3, 7]\n",
    "]\n",
    "edge_coords = []\n",
    "N = points_per_edge + 2\n",
    "for nodes in nodes_of_edges:\n",
    "    p0 = corner_coords[nodes[0]]\n",
    "    p1 = corner_coords[nodes[1]]\n",
    "    edge_coords.append(linspace(p0, p1, N)[1:-1])\n",
    "edge_coords = np.vstack(edge_coords)\n",
    "points.append(edge_coords)\n",
    "nTotalPoints += len(edge_coords)\n",
    "\n",
    "# faces\n",
    "corners_of_faces = {\n",
    "    'front': [1, 2, 6, 5],\n",
    "    'back': [0, 3, 7, 4],\n",
    "    'left': [2, 3, 7, 6],\n",
    "    'right': [0, 1, 5, 4],\n",
    "    'bottom': [0, 1, 2, 3],\n",
    "    'top': [4, 5, 6, 7],\n",
    "}\n",
    "edges_of_faces = {\n",
    "    'front': [1, 5, 9, 10],\n",
    "    'back': [3, 7, 8, 11],\n",
    "    'right': [0, 9, 4, 8],\n",
    "    'left': [2, 6, 10, 11],\n",
    "    'bottom': [0, 1, 2, 3],\n",
    "    'top': [4, 5, 6, 7],\n",
    "}\n",
    "\n",
    "\n",
    "def cof(id):\n",
    "    \"\"\"center of face\"\"\"\n",
    "    return center_of_points(corner_coords[corners_of_faces[id]])\n",
    "\n",
    "\n",
    "# face frames\n",
    "GlobalFrame = StandardFrame(dim=3)\n",
    "frames['front'] = GlobalFrame.fork().move(cof('front'))\n",
    "rot90z = 'Body', [0, 0, np.pi/2], 'XYZ'\n",
    "frames['left'] = frames['front'].fork(*rot90z).move(cof('left') - cof('front'))\n",
    "frames['back'] = frames['left'].fork(*rot90z).move(cof('back') - cof('left'))\n",
    "frames['right'] = frames['back'].fork(*rot90z).move(cof('right') - cof('back'))\n",
    "rot_front_top = 'Body', [0, -np.pi/2, 0], 'XYZ'\n",
    "frames['top'] = frames['front'].fork(\n",
    "    *rot_front_top).move(cof('top') - cof('front'))\n",
    "rot180y = 'Body', [0, np.pi, 0], 'XYZ'\n",
    "frames['bottom'] = frames['top'].fork(\n",
    "    *rot180y).move(cof('bottom') - cof('top'))\n",
    "#frames = {}\n"
   ]
  },
  {
   "cell_type": "markdown",
   "metadata": {},
   "source": [
    "Create the seeds for the faces. We are going to be repeatedly repopulate these with the nodes\n",
    "of the sections to create a surface triangulation."
   ]
  },
  {
   "cell_type": "code",
   "execution_count": null,
   "metadata": {},
   "outputs": [],
   "source": [
    "coords_grid, topo_grid = grid(size=(Lx*0.99, Ly*0.99), shape=(N, N),\n",
    "                              eshape='Q4', centralize=True)\n",
    "Grid = PolyData(coords=coords_grid, topo=topo_grid, frame=GlobalFrame)\n",
    "grid_centers = Grid.centers()[:, :2]\n"
   ]
  },
  {
   "cell_type": "markdown",
   "metadata": {},
   "source": [
    "Repopulate the base seeds with section nodes for each face, do triangulations and save the resulting topology:"
   ]
  },
  {
   "cell_type": "code",
   "execution_count": null,
   "metadata": {},
   "outputs": [],
   "source": [
    "for face in frames:\n",
    "\n",
    "    f_frame = frames[face]\n",
    "    # collect points on corners and edges and their global indices\n",
    "    # these indices are used later to remap the default topology\n",
    "    # resulting from per-face triangulations\n",
    "    f_coords_base = []\n",
    "    f_inds_base = []\n",
    "    _corner_inds = []\n",
    "    for corner in corners_of_faces[face]:\n",
    "        f_coords_base.append(corner_coords[corner])\n",
    "        _corner_inds.append(corner)\n",
    "    f_inds_base.append(np.array(_corner_inds, dtype=int))\n",
    "    for edge in edges_of_faces[face]:\n",
    "        inds = np.arange(points_per_edge) + edge * points_per_edge\n",
    "        f_coords_base.append(edge_coords[inds])\n",
    "        f_inds_base.append(inds + 8)\n",
    "    f_coords_base = np.vstack(f_coords_base)\n",
    "    sig_coords_base = np.zeros((f_coords_base.shape[0], 3)).astype(float)\n",
    "    fixity_coords_base = np.zeros((f_coords_base.shape[0], 3)).astype(bool)\n",
    "\n",
    "    # transform the coords (base coordinates) so far to face frame\n",
    "    f_coords_base = PointCloud(f_coords_base, frame=GlobalFrame).show(f_frame)\n",
    "\n",
    "    # global indices and number of corner and edge points\n",
    "    f_inds_base = np.concatenate(f_inds_base)\n",
    "    nBasePoints = len(f_inds_base)\n",
    "\n",
    "    # build face\n",
    "    if face in database:\n",
    "        # 1) create the mesh of the section\n",
    "        # 2) rule out points of the base grid that the section covers\n",
    "        # 3) add corner and edge nodes and do a triangulation\n",
    "        f_section = database[face]['geom']\n",
    "        f_section.create_mesh(mesh_sizes=[20.])\n",
    "        f_coords = centralize(np.array(f_section.mesh['vertices']))\n",
    "\n",
    "        n_section_nodes = f_coords.shape[0]\n",
    "        f_topo = np.array(f_section.mesh['triangles'].tolist())[:, :3]\n",
    "        f_inds = get_points_inside_triangles(\n",
    "            f_coords, f_topo, grid_centers).astype(bool)\n",
    "        f_coords = np.vstack(\n",
    "            [f_coords_base[:, 1:], f_coords, grid_centers[~f_inds]])\n",
    "        f_coords, f_topo, _ = triangulate(points=f_coords)\n",
    "    else:\n",
    "        f_coords = np.vstack([f_coords_base[:, 1:], grid_centers])\n",
    "        f_coords, f_topo, _ = triangulate(points=f_coords)\n",
    "\n",
    "    # faces share some points, hence they must be consistent\n",
    "    # in node numbering --> remap topology to match indices\n",
    "    # of corner and edge nodes\n",
    "    f_inds = np.zeros(len(f_coords), dtype=int)\n",
    "    nNewPoints = len(f_coords) - nBasePoints\n",
    "    f_inds[:nBasePoints] = f_inds_base\n",
    "    f_inds[nBasePoints:] = np.arange(nNewPoints) + nTotalPoints\n",
    "    nTotalPoints += nNewPoints\n",
    "    f_topo = remap_topo(f_topo, f_inds)\n",
    "\n",
    "    # transform to global and append new data to total collection\n",
    "    f_coords_new = np.zeros((nNewPoints, 3))\n",
    "    f_coords_new[:, 1:] = f_coords[nBasePoints:]\n",
    "    f_coords = PointCloud(f_coords_new, frame=f_frame).show(GlobalFrame)\n",
    "    points.append(f_coords)\n",
    "\n",
    "    # add topology to face to total collection\n",
    "    if face not in database:\n",
    "        database[face] = {}\n",
    "    database[face]['topo'] = f_topo\n"
   ]
  },
  {
   "cell_type": "markdown",
   "metadata": {},
   "source": [
    "Summarize the results in a `PolyData` instance:"
   ]
  },
  {
   "cell_type": "code",
   "execution_count": null,
   "metadata": {},
   "outputs": [],
   "source": [
    "cubepoints = np.vstack(points)\n",
    "cube = PolyData(coords=cubepoints, frame=GlobalFrame)\n",
    "for face in frames:\n",
    "    cube[face] = PolyData(topo=database[face]['topo'])\n"
   ]
  },
  {
   "cell_type": "markdown",
   "metadata": {},
   "source": [
    "Plot a face or the entire model. We use `PyVista` in the background, which means you have a real powerhouse to visualize whatever you want, in multiple formats. This, combined with with `PolyMesh`, results in a very convenient user experience:"
   ]
  },
  {
   "cell_type": "code",
   "execution_count": null,
   "metadata": {},
   "outputs": [],
   "source": [
    "cube['left'].plot()\n"
   ]
  },
  {
   "cell_type": "code",
   "execution_count": null,
   "metadata": {},
   "outputs": [],
   "source": [
    "cube.plot()\n"
   ]
  }
 ],
 "metadata": {
  "kernelspec": {
   "display_name": "Python 3.8.10 ('.polymesh': venv)",
   "language": "python",
   "name": "python3"
  },
  "language_info": {
   "codemirror_mode": {
    "name": "ipython",
    "version": 3
   },
   "file_extension": ".py",
   "mimetype": "text/x-python",
   "name": "python",
   "nbconvert_exporter": "python",
   "pygments_lexer": "ipython3",
   "version": "3.8.10"
  },
  "orig_nbformat": 4,
  "vscode": {
   "interpreter": {
    "hash": "196717f9976529e91b541b41c9e9f5d31e7d5aa72506e34109ccbbf8eac01645"
   }
  }
 },
 "nbformat": 4,
 "nbformat_minor": 2
}
