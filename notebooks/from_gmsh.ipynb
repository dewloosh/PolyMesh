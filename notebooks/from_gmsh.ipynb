{
 "cells": [
  {
   "cell_type": "code",
   "execution_count": 1,
   "metadata": {},
   "outputs": [],
   "source": [
    "order = 2\n",
    "h = 0.5"
   ]
  },
  {
   "cell_type": "code",
   "execution_count": 2,
   "metadata": {},
   "outputs": [
    {
     "ename": "ImportError",
     "evalue": "cannot import name 'from_meshio' from 'polymesh.io.io' (F:\\GitHub\\dewloosh\\PolyMesh\\src\\polymesh\\io\\io.py)",
     "output_type": "error",
     "traceback": [
      "\u001b[1;31m---------------------------------------------------------------------------\u001b[0m",
      "\u001b[1;31mImportError\u001b[0m                               Traceback (most recent call last)",
      "\u001b[1;32mf:\\GitHub\\dewloosh\\PolyMesh\\notebooks\\from_gmsh.ipynb Cell 2\u001b[0m in \u001b[0;36m3\n\u001b[0;32m      <a href='vscode-notebook-cell:/f%3A/GitHub/dewloosh/PolyMesh/notebooks/from_gmsh.ipynb#W1sZmlsZQ%3D%3D?line=0'>1</a>\u001b[0m \u001b[39mimport\u001b[39;00m \u001b[39mpygmsh\u001b[39;00m\n\u001b[1;32m----> <a href='vscode-notebook-cell:/f%3A/GitHub/dewloosh/PolyMesh/notebooks/from_gmsh.ipynb#W1sZmlsZQ%3D%3D?line=2'>3</a>\u001b[0m \u001b[39mfrom\u001b[39;00m \u001b[39mpolymesh\u001b[39;00m\u001b[39m.\u001b[39;00m\u001b[39mio\u001b[39;00m \u001b[39mimport\u001b[39;00m from_meshio\n\u001b[0;32m      <a href='vscode-notebook-cell:/f%3A/GitHub/dewloosh/PolyMesh/notebooks/from_gmsh.ipynb#W1sZmlsZQ%3D%3D?line=5'>6</a>\u001b[0m \u001b[39mwith\u001b[39;00m pygmsh\u001b[39m.\u001b[39mocc\u001b[39m.\u001b[39mGeometry() \u001b[39mas\u001b[39;00m geom:\n\u001b[0;32m      <a href='vscode-notebook-cell:/f%3A/GitHub/dewloosh/PolyMesh/notebooks/from_gmsh.ipynb#W1sZmlsZQ%3D%3D?line=6'>7</a>\u001b[0m     geom\u001b[39m.\u001b[39mcharacteristic_length_min \u001b[39m=\u001b[39m \u001b[39m0.2\u001b[39m\n",
      "File \u001b[1;32mF:\\GitHub\\dewloosh\\PolyMesh\\src\\polymesh\\io\\__init__.py:1\u001b[0m\n\u001b[1;32m----> 1\u001b[0m \u001b[39mfrom\u001b[39;00m \u001b[39m.\u001b[39;00m\u001b[39mio\u001b[39;00m \u001b[39mimport\u001b[39;00m input_to_mesh, from_meshio\n\u001b[0;32m      3\u001b[0m __all__ \u001b[39m=\u001b[39m [\u001b[39m\"\u001b[39m\u001b[39minput_to_mesh\u001b[39m\u001b[39m\"\u001b[39m, \u001b[39m\"\u001b[39m\u001b[39mfrom_meshio\u001b[39m\u001b[39m\"\u001b[39m]\n",
      "\u001b[1;31mImportError\u001b[0m: cannot import name 'from_meshio' from 'polymesh.io.io' (F:\\GitHub\\dewloosh\\PolyMesh\\src\\polymesh\\io\\io.py)"
     ]
    }
   ],
   "source": [
    "import pygmsh\n",
    "\n",
    "from polymesh.io import from_meshio\n",
    "\n",
    "\n",
    "with pygmsh.occ.Geometry() as geom:\n",
    "    geom.characteristic_length_min = 0.2\n",
    "    geom.characteristic_length_max = 0.2\n",
    "    rectangle = geom.add_rectangle([-1.0, -1.0, 0.0], 2.0, 2.0)\n",
    "    disk = geom.add_disk([0.0, 0.0, 0.0], 0.5)\n",
    "    flat = geom.boolean_difference(rectangle, disk)\n",
    "    # geom.extrude(flat, [0, 0, 0.3])\n",
    "    mesh = geom.generate_mesh(order=1)\n",
    "\n",
    "polydata = from_meshio(mesh)"
   ]
  },
  {
   "cell_type": "code",
   "execution_count": null,
   "metadata": {},
   "outputs": [],
   "source": [
    "from polymesh import PolyData\n",
    "from polymesh.extrude import extrude_T3_W6\n",
    "from polymesh.cells import W6, W18\n",
    "from polymesh.utils.topology.tr import W6_to_W18\n",
    "\n",
    "n_z = 2\n",
    "mesh = polydata[\"triangle\"]\n",
    "triangles = mesh.topology()\n",
    "coords, topo = extrude_T3_W6(polydata.coords(), triangles, h, n_z)\n",
    "ct = W6\n",
    "if order == 2:\n",
    "    coords, topo = W6_to_W18(coords, topo)\n",
    "    ct = W18\n",
    "wedges = PolyData(coords=coords, topo=topo, celltype=ct, frame=GlobalFrame)\n",
    "wedges.plot()"
   ]
  }
 ],
 "metadata": {
  "kernelspec": {
   "display_name": ".sigeps",
   "language": "python",
   "name": "python3"
  },
  "language_info": {
   "codemirror_mode": {
    "name": "ipython",
    "version": 3
   },
   "file_extension": ".py",
   "mimetype": "text/x-python",
   "name": "python",
   "nbconvert_exporter": "python",
   "pygments_lexer": "ipython3",
   "version": "3.8.10"
  },
  "orig_nbformat": 4,
  "vscode": {
   "interpreter": {
    "hash": "28d81e0e1442962330764574f1956d80898814d1923baa1210fb6369a4e79b2a"
   }
  }
 },
 "nbformat": 4,
 "nbformat_minor": 2
}
