{
 "cells": [
  {
   "cell_type": "markdown",
   "metadata": {},
   "source": [
    "# Sample Application"
   ]
  },
  {
   "cell_type": "markdown",
   "metadata": {},
   "source": [
    "We are going to read a tetrahedral mesh from a .vtk file, send its surface into AxisVM to select points of applications for the applications of natural and essential boundary conditions, identify the selected items, build a finite element model, do a simple analysis and save the results in a simple, but powerful format."
   ]
  },
  {
   "cell_type": "markdown",
   "metadata": {},
   "source": [
    "The mesh for this tutorial is among the examples of AxisVM:"
   ]
  },
  {
   "cell_type": "code",
   "execution_count": 1,
   "metadata": {},
   "outputs": [],
   "source": [
    "from dewloosh.core.downloads import download_stand\n",
    "import pyvista as pv\n",
    "import numpy as np\n",
    "\n",
    "from polymesh import PolyData, CartesianFrame, PointData\n",
    "from polymesh.cells import TET4 as CellData\n",
    "from polymesh.tri.triutils import edges_tri\n",
    "from polymesh.topo import unique_topo_data, detach\n",
    "\n",
    "vtkpath = download_stand()\n",
    "pd = PolyData.read(vtkpath)\n",
    "coords = pd.coords() / 1000\n",
    "topo = pd.topology()[:, :4]\n",
    "coords, topo = detach(coords, topo)\n",
    "\n",
    "# pick up data from file or generate random data\n",
    "random_data = np.random.rand(coords.shape[0], 3) * 10\n",
    "\n",
    "# the ambient coordinate frame\n",
    "GlobalFrame = CartesianFrame(dim=3)\n",
    "\n",
    "# pointdata and celldata\n",
    "pd = PointData(coords=coords, frame=GlobalFrame)\n",
    "cd = CellData(topo=topo, frames=GlobalFrame)\n",
    "\n",
    "mesh = PolyData(pd, cd, frame=GlobalFrame)"
   ]
  },
  {
   "cell_type": "markdown",
   "metadata": {},
   "source": [
    "Plot the model, coloured with vertical displacements:"
   ]
  },
  {
   "cell_type": "code",
   "execution_count": 2,
   "metadata": {},
   "outputs": [
    {
     "name": "stderr",
     "output_type": "stream",
     "text": [
      "f:\\GitHub\\sigmaepsilon\\.sigeps\\lib\\site-packages\\traittypes\\traittypes.py:97: UserWarning: Given trait value dtype \"float32\" does not match required type \"float32\". A coerced copy has been created.\n",
      "  warnings.warn(\n"
     ]
    },
    {
     "data": {
      "application/vnd.jupyter.widget-view+json": {
       "model_id": "6bb2136b94364d05a08415a6381d1e73",
       "version_major": 2,
       "version_minor": 0
      },
      "text/plain": [
       "Plot(antialias=3, axes=['x', 'y', 'z'], axes_helper=1.0, axes_helper_colors=[16711680, 65280, 255], background…"
      ]
     },
     "execution_count": 2,
     "metadata": {},
     "output_type": "execute_result"
    }
   ],
   "source": [
    "mesh.plot(notebook=True, backend='k3d')"
   ]
  },
  {
   "cell_type": "markdown",
   "metadata": {},
   "source": [
    "Save the results:"
   ]
  },
  {
   "cell_type": "code",
   "execution_count": 5,
   "metadata": {},
   "outputs": [
    {
     "data": {
      "text/plain": [
       "'{\\n    \"mesh\": {\\n        \"coordinates\": \"coords\",\\n        \"data\": {\\n            \"random\": \"random_data\"\\n        },\\n        \"layout\": {\\n            \"stand\": {\\n                \"topology\": \"topo\",\\n                \"class\": \"TET4\"\\n            }\\n        }\\n    }\\n}'"
      ]
     },
     "execution_count": 5,
     "metadata": {},
     "output_type": "execute_result"
    }
   ],
   "source": [
    "import json\n",
    "import numpy as np\n",
    "\n",
    "np.save('coords', coords)\n",
    "np.save('topo', topo)\n",
    "np.save('random_data', random_data)\n",
    "\n",
    "data = {   \n",
    "    'mesh' : {\n",
    "        'coordinates' : 'coords',\n",
    "        'data' : {'random' : 'random_data',},\n",
    "        'layout' : {\n",
    "            'stand' : {\n",
    "                'topology' : 'topo',\n",
    "                'class' : 'TET4',\n",
    "                }\n",
    "        }\n",
    "    },\n",
    "}\n",
    "\n",
    "json.dumps(data, indent=4)"
   ]
  },
  {
   "cell_type": "code",
   "execution_count": 4,
   "metadata": {},
   "outputs": [],
   "source": [
    "with open(\"stand.json\", \"w\") as outfile:\n",
    "    json.dump(data, outfile)"
   ]
  }
 ],
 "metadata": {
  "kernelspec": {
   "display_name": "Python 3.8.10 ('.sigeps': venv)",
   "language": "python",
   "name": "python3"
  },
  "language_info": {
   "codemirror_mode": {
    "name": "ipython",
    "version": 3
   },
   "file_extension": ".py",
   "mimetype": "text/x-python",
   "name": "python",
   "nbconvert_exporter": "python",
   "pygments_lexer": "ipython3",
   "version": "3.8.10"
  },
  "orig_nbformat": 4,
  "vscode": {
   "interpreter": {
    "hash": "28d81e0e1442962330764574f1956d80898814d1923baa1210fb6369a4e79b2a"
   }
  }
 },
 "nbformat": 4,
 "nbformat_minor": 2
}
