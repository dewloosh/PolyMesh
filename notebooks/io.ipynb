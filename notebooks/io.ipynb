{
 "cells": [
  {
   "cell_type": "markdown",
   "metadata": {},
   "source": [
    "# Input / Output"
   ]
  },
  {
   "cell_type": "markdown",
   "metadata": {},
   "source": [
    "## PyVista"
   ]
  },
  {
   "cell_type": "markdown",
   "metadata": {},
   "source": [
    "This notebook requires `NumPy`, `PyVista` and `tetgen` to be installed."
   ]
  },
  {
   "cell_type": "markdown",
   "metadata": {},
   "source": [
    "We are going to build a compound mesh, that includes 1d, 2d and 3d cells alike. As a source, use and example from `pyVista`."
   ]
  },
  {
   "cell_type": "code",
   "execution_count": 1,
   "metadata": {},
   "outputs": [],
   "source": [
    "from pyvista import examples\n",
    "from dewloosh.mesh import PolyData\n",
    "pv_bunny = examples.download_bunny_coarse()\n"
   ]
  },
  {
   "cell_type": "markdown",
   "metadata": {},
   "source": [
    "A PolyData instance can be generated using the `from_pv` method of the class:"
   ]
  },
  {
   "cell_type": "code",
   "execution_count": 2,
   "metadata": {},
   "outputs": [],
   "source": [
    "bunny_T3 = PolyData.from_pv(pv_bunny)\n"
   ]
  },
  {
   "cell_type": "code",
   "execution_count": 3,
   "metadata": {},
   "outputs": [],
   "source": [
    "from copy import deepcopy\n",
    "clone_T3 = deepcopy(bunny_T3)\n"
   ]
  },
  {
   "cell_type": "markdown",
   "metadata": {},
   "source": [
    "Now turn the surface triangulation into a body tetrahedralization using `tetgen`, which actually understands `pyVista` objects pretty good."
   ]
  },
  {
   "cell_type": "code",
   "execution_count": 4,
   "metadata": {},
   "outputs": [
    {
     "name": "stderr",
     "output_type": "stream",
     "text": [
      "f:\\GitHub\\dewloosh-mesh\\.venv\\lib\\site-packages\\pyvista\\plotting\\plotting.py:5001: UserWarning: Not within a jupyter notebook environment.\n",
      "Ignoring ``jupyter_backend``.\n",
      "  warnings.warn(\n"
     ]
    }
   ],
   "source": [
    "# tetrahedralize\n",
    "import tetgen, numpy as np\n",
    "tet = tetgen.TetGen(pv_bunny)\n",
    "tet.tetrahedralize(order=1, mindihedral=10, minratio=1.1, quality=True)\n",
    "coords = np.array(tet.grid.points).astype(float)\n",
    "topo = tet.grid.cells_dict[10].astype(int)  # VTK_TETRA --> 10\n",
    "\n",
    "# create dewloosh object\n",
    "from dewloosh.mesh.cells import TET4\n",
    "from dewloosh.mesh.space import CartesianFrame\n",
    "frame = CartesianFrame(dim=3)\n",
    "bunny_TET4 = PolyData(coords=coords, topo=topo, celltype=TET4, frame=frame)\n",
    "bunny_TET4.plot()\n",
    "\n",
    "# split to two and transform the ones to the left to L2 lines\n",
    "from dewloosh.mesh.cells import L2\n",
    "from dewloosh.mesh.topo.tr import TET4_to_L2\n",
    "c = bunny_TET4.centers()\n",
    "xmin, xmax = coords[:, 2].min(), coords[:, 2].max()\n",
    "left = np.where(c[:, 2] < ((xmin + xmax)/2))[0]\n",
    "right = np.where(c[:, 2] >= ((xmin + xmax)/2))[0]\n",
    "_, topo_L = TET4_to_L2(coords, topo[left])\n",
    "topo_R = topo[right]"
   ]
  },
  {
   "cell_type": "code",
   "execution_count": 5,
   "metadata": {},
   "outputs": [],
   "source": [
    "pd = PolyData(coords=coords, frame=frame)\n",
    "pd['L2'] = PolyData(topo=topo_L, celltype=L2, frame=frame)\n",
    "pd['TET4'] = PolyData(topo=topo_R, celltype=TET4, frame=frame)"
   ]
  },
  {
   "cell_type": "code",
   "execution_count": 6,
   "metadata": {},
   "outputs": [],
   "source": [
    "pd['L2']['_pyvista_'] = dict(color='red', line_width=0.5, style='wireframe', opacity=0.99)"
   ]
  },
  {
   "cell_type": "code",
   "execution_count": 7,
   "metadata": {},
   "outputs": [],
   "source": [
    "pd['L2'].config['pyvista', 'plot'] = dict(a=1, b=2)"
   ]
  },
  {
   "cell_type": "code",
   "execution_count": 8,
   "metadata": {},
   "outputs": [
    {
     "data": {
      "text/plain": [
       "{'a': 1, 'b': 2}"
      ]
     },
     "execution_count": 8,
     "metadata": {},
     "output_type": "execute_result"
    }
   ],
   "source": [
    "pd['L2'].config['pyvista', 'plot']"
   ]
  },
  {
   "cell_type": "code",
   "execution_count": 9,
   "metadata": {},
   "outputs": [
    {
     "data": {
      "text/plain": [
       "{'a': 1, 'b': 2}"
      ]
     },
     "execution_count": 9,
     "metadata": {},
     "output_type": "execute_result"
    }
   ],
   "source": [
    "pd['L2'].config['pyvista', 'plot']"
   ]
  },
  {
   "cell_type": "code",
   "execution_count": 10,
   "metadata": {},
   "outputs": [],
   "source": [
    "pd.plot()"
   ]
  },
  {
   "cell_type": "markdown",
   "metadata": {},
   "source": [
    "## Gmsh"
   ]
  },
  {
   "cell_type": "code",
   "execution_count": 11,
   "metadata": {},
   "outputs": [],
   "source": [
    "from math import pi\n",
    "import pygmsh"
   ]
  },
  {
   "cell_type": "code",
   "execution_count": 12,
   "metadata": {},
   "outputs": [
    {
     "name": "stdout",
     "output_type": "stream",
     "text": [
      "geometry type :  <class 'pygmsh.geo.geometry.Geometry'>\n",
      "mesh type :  <class 'meshio._mesh.Mesh'>\n",
      "(1556, 3)\n",
      "(6008, 4)\n"
     ]
    }
   ],
   "source": [
    "with pygmsh.geo.Geometry() as geom:\n",
    "    print('geometry type : ', type(geom))\n",
    "    poly = geom.add_polygon(\n",
    "        [\n",
    "            [0.0, 200, 0.0],\n",
    "            [0.0, 1200, 0.0],\n",
    "            [0.0, 1200, 1000],\n",
    "        ],\n",
    "        mesh_size = 100,\n",
    "    )\n",
    "    geom.revolve(poly, [0.0, 0.0, 1.0], [0.0, 0.0, 0.0], 0.8 * pi)\n",
    "    mesh = geom.generate_mesh()\n",
    "    print('mesh type : ', type(mesh))\n",
    "    edict = mesh.cells_dict\n",
    "    points = mesh.points\n",
    "    print(points.shape)\n",
    "    cells = edict['tetra']\n",
    "    print(cells.shape)"
   ]
  }
 ],
 "metadata": {
  "kernelspec": {
   "display_name": "Python 3.8.10 ('.venv': venv)",
   "language": "python",
   "name": "python3"
  },
  "language_info": {
   "codemirror_mode": {
    "name": "ipython",
    "version": 3
   },
   "file_extension": ".py",
   "mimetype": "text/x-python",
   "name": "python",
   "nbconvert_exporter": "python",
   "pygments_lexer": "ipython3",
   "version": "3.8.10"
  },
  "orig_nbformat": 4,
  "vscode": {
   "interpreter": {
    "hash": "4666b22a2e040b492cbeb33276dbb47aa3c858ad39c1fe5e5ed96671ec801ad4"
   }
  }
 },
 "nbformat": 4,
 "nbformat_minor": 2
}
